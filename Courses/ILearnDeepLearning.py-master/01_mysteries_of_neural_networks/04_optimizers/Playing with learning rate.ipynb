{
 "cells": [
  {
   "cell_type": "markdown",
   "metadata": {},
   "source": [
    "# Playing with learning rate\n",
    "---\n",
    "## Visualization of the effects of wrong choice of learning rate "
   ]
  },
  {
   "cell_type": "markdown",
   "metadata": {},
   "source": [
    "***Author: Piotr Skalski***"
   ]
  },
  {
   "cell_type": "markdown",
   "metadata": {},
   "source": [
    "### Imports"
   ]
  },
  {
   "cell_type": "code",
   "execution_count": 1,
   "metadata": {},
   "outputs": [],
   "source": [
    "import tensorflow as tf\n",
    "import numpy as np\n",
    "import matplotlib.pyplot as plt\n",
    "from mpl_toolkits.mplot3d import Axes3D"
   ]
  },
  {
   "cell_type": "markdown",
   "metadata": {},
   "source": [
    "### Settings"
   ]
  },
  {
   "cell_type": "code",
   "execution_count": 2,
   "metadata": {},
   "outputs": [],
   "source": [
    "# parameters a and b of the real function\n",
    "REAL_PARAMS = [1, 1]\n",
    "# starting point for gradient descent\n",
    "INIT_PARAMS = [-0.5, -1]\n",
    "# output directory (the folder must be created on the drive)\n",
    "OUTPUT_DIR = \"playing_with_learning_rate\""
   ]
  },
  {
   "cell_type": "markdown",
   "metadata": {},
   "source": [
    "### Performing the simulation"
   ]
  },
  {
   "cell_type": "code",
   "execution_count": 3,
   "metadata": {},
   "outputs": [],
   "source": [
    "def find_optimization_path(tf_function, init_point, iterations, learning_rate):\n",
    "    x, y = [tf.Variable(initial_value=p, dtype=tf.float32) for p in init_point]\n",
    "    function = tf_function(x, y)\n",
    "    train_op = tf.train.GradientDescentOptimizer(learning_rate).minimize(function)\n",
    "    x_list, y_list, cost_list = [], [], []\n",
    "    \n",
    "    with tf.Session() as sess:\n",
    "        sess.run(tf.global_variables_initializer())\n",
    "        for t in range(iterations):\n",
    "            x_, y_, function_ = sess.run([x, y, function])\n",
    "            x_list.append(x_); y_list.append(y_); cost_list.append(function_)\n",
    "            result, _ = sess.run([function, train_op])\n",
    "            \n",
    "    return x_list, y_list, cost_list"
   ]
  },
  {
   "cell_type": "markdown",
   "metadata": {},
   "source": [
    "### Create a blank chart"
   ]
  },
  {
   "cell_type": "code",
   "execution_count": 4,
   "metadata": {},
   "outputs": [],
   "source": [
    "def create_blank_chart_with_styling(plot_size):\n",
    "    # my favorite styling kit\n",
    "    plt.style.use('dark_background')\n",
    "    # determining the size of the graph\n",
    "    fig = plt.figure(figsize=plot_size)    \n",
    "    # 3D mode\n",
    "    ax = Axes3D(fig)\n",
    "    # transparent axis pane background \n",
    "    ax.xaxis.pane.fill = False\n",
    "    ax.yaxis.pane.fill = False\n",
    "    ax.zaxis.pane.fill = False\n",
    "    # setting chart axis names\n",
    "    ax.set(xlabel=\"$x$\", ylabel=\"$y$\")\n",
    "    return (fig, ax)"
   ]
  },
  {
   "cell_type": "markdown",
   "metadata": {},
   "source": [
    "### Create animation"
   ]
  },
  {
   "cell_type": "code",
   "execution_count": 5,
   "metadata": {},
   "outputs": [],
   "source": [
    "def create_animation(tf_function, np_function, init_point, iterations, learning_rate, plot_name, file_name, dir_name):\n",
    "    # 3D cost figure\n",
    "    for angle in range(iterations):\n",
    "        fix, ax = create_blank_chart_with_styling((6, 6))\n",
    "        x_list, y_list, cost_list = find_optimization_path(tf_function, init_point, iterations, learning_rate)\n",
    "        # parameter space\n",
    "        a3D, b3D = np.meshgrid(np.linspace(-4, 4, 100), np.linspace(-4, 4, 100))\n",
    "        cost3D = np.array([np_function(x_, y_) for x_, y_ in zip(a3D.flatten(), b3D.flatten())]).reshape(a3D.shape)\n",
    "        ax.plot_surface(a3D, b3D, cost3D, rstride=1, cstride=1, cmap=plt.get_cmap('rainbow'), alpha=1.0)\n",
    "        # plot 3D gradient descent\n",
    "        if angle < 10:\n",
    "            ax.plot(x_list[:angle], y_list[:angle], zs=cost_list[:angle], zdir='z', c='r', lw=2)\n",
    "        else:\n",
    "            ax.plot(x_list[angle-10:angle], y_list[angle-10:angle], zs=cost_list[angle-10:angle], zdir='z', c='r', lw=2)\n",
    "        # graph rotation\n",
    "        ax.view_init(30, 225 + angle*2)\n",
    "        # addition of a title\n",
    "        ax.set_title(plot_name, fontsize=20)\n",
    "        # saving a file\n",
    "        plt.savefig(\"./{}/{}_{:05}.png\".format(dir_name, file_name, angle))\n",
    "        plt.close()"
   ]
  },
  {
   "cell_type": "code",
   "execution_count": 6,
   "metadata": {},
   "outputs": [],
   "source": [
    "tf_fun = lambda x, y: 3*(1-x)**2*tf.exp(-(x**2) - (y+1)**2) - 10*(x/5 - x**3 - y**5)*tf.exp(-x**2-y**2) - 1/3*tf.exp(-(x+1)**2 - y**2)   \n",
    "np_fun = lambda x, y: 3*(1-x)**2*np.exp(-(x**2) - (y+1)**2) - 10*(x/5 - x**3 - y**5)*np.exp(-x**2-y**2) - 1/3*np.exp(-(x+1)**2 - y**2)   \n",
    "\n",
    "create_animation(tf_fun, np_fun, INIT_PARAMS, 180, 0.15, \"Big learning rate\", \"big_rate\", OUTPUT_DIR)\n",
    "create_animation(tf_fun, np_fun, INIT_PARAMS, 180, 0.01, \"Small learning rate\", \"small_rate\", OUTPUT_DIR)"
   ]
  },
  {
   "cell_type": "markdown",
   "metadata": {},
   "source": [
    "### Expected results"
   ]
  },
  {
   "cell_type": "markdown",
   "metadata": {},
   "source": [
    "Go to OUTPUT_DIR, which should now be filled with subsequent keyframes of our animation. All the resulting images look more or less like this."
   ]
  },
  {
   "cell_type": "markdown",
   "metadata": {},
   "source": [
    "Now all you need to do is enter OUTPUT_DIR and use ImageMagick to create a final gift with one command.\n",
    "\n",
    "```bash\n",
    "convert -delay 10 -loop 0 *.png keras_class_boundaries.gif\n",
    "```"
   ]
  },
  {
   "cell_type": "markdown",
   "metadata": {},
   "source": [
    "## Thank you\n",
    "---"
   ]
  }
 ],
 "metadata": {
  "kernelspec": {
   "display_name": "Python 3",
   "language": "python",
   "name": "python3"
  },
  "language_info": {
   "codemirror_mode": {
    "name": "ipython",
    "version": 3
   },
   "file_extension": ".py",
   "mimetype": "text/x-python",
   "name": "python",
   "nbconvert_exporter": "python",
   "pygments_lexer": "ipython3",
   "version": "3.5.2"
  }
 },
 "nbformat": 4,
 "nbformat_minor": 2
}
