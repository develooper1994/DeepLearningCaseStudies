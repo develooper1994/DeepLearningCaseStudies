{
 "cells": [
  {
   "cell_type": "markdown",
   "metadata": {},
   "source": [
    "# Comparison of optimizers\n",
    "---\n",
    "\n",
    "### Comparison of the effectiveness of different optimizers"
   ]
  },
  {
   "cell_type": "markdown",
   "metadata": {},
   "source": [
    "***Author: Piotr Skalski***"
   ]
  },
  {
   "cell_type": "markdown",
   "metadata": {},
   "source": [
    "## Imports"
   ]
  },
  {
   "cell_type": "code",
   "execution_count": 1,
   "metadata": {},
   "outputs": [],
   "source": [
    "import tensorflow as tf\n",
    "import numpy as np\n",
    "import matplotlib.pyplot as plt\n",
    "from mpl_toolkits.mplot3d import Axes3D"
   ]
  },
  {
   "cell_type": "markdown",
   "metadata": {},
   "source": [
    "## Settings"
   ]
  },
  {
   "cell_type": "code",
   "execution_count": 2,
   "metadata": {},
   "outputs": [],
   "source": [
    "# starting point for gradient descent\n",
    "INIT_PARAMS = [1, -0.001]\n",
    "# output directory (the folder must be created on the drive)\n",
    "OUTPUT_DIR = \"optimizers_comparison\""
   ]
  },
  {
   "cell_type": "markdown",
   "metadata": {},
   "source": [
    "## Optimisation function"
   ]
  },
  {
   "cell_type": "code",
   "execution_count": 3,
   "metadata": {},
   "outputs": [],
   "source": [
    "def optimize(tf_function, init_point, iterations, optimizer):\n",
    "    x, y = [tf.Variable(initial_value=p, dtype=tf.float32) for p in init_point]\n",
    "    function = tf_function(x, y)\n",
    "    train_op = optimizer.minimize(function)\n",
    "    x_list, y_list, cost_list = [], [], []\n",
    "    \n",
    "    with tf.Session() as sess:\n",
    "        sess.run(tf.global_variables_initializer())\n",
    "        for t in range(iterations):\n",
    "            x_, y_, function_ = sess.run([x, y, function])\n",
    "            x_list.append(x_); y_list.append(y_); cost_list.append(function_)\n",
    "            result, _ = sess.run([function, train_op])\n",
    "            \n",
    "    return x_list, y_list, cost_list"
   ]
  },
  {
   "cell_type": "markdown",
   "metadata": {},
   "source": [
    "## Create a blank chart"
   ]
  },
  {
   "cell_type": "code",
   "execution_count": 4,
   "metadata": {},
   "outputs": [],
   "source": [
    "def create_blank_chart_with_styling(plot_size):\n",
    "    # my favorite styling kit\n",
    "    plt.style.use('dark_background')\n",
    "    # determining the size of the graph\n",
    "    fig = plt.figure(figsize=plot_size)    \n",
    "    # 3D mode\n",
    "    ax = Axes3D(fig)\n",
    "    # transparent axis pane background \n",
    "    ax.xaxis.pane.fill = False\n",
    "    ax.yaxis.pane.fill = False\n",
    "    ax.zaxis.pane.fill = False\n",
    "    # setting chart axis names\n",
    "    ax.set(xlabel=\"$x$\", ylabel=\"$y$\")\n",
    "    return (fig, ax)"
   ]
  },
  {
   "cell_type": "markdown",
   "metadata": {},
   "source": [
    "## Create animation"
   ]
  },
  {
   "cell_type": "code",
   "execution_count": 5,
   "metadata": {},
   "outputs": [],
   "source": [
    "# Additional settings\n",
    "ITERATIONS = 180\n",
    "GRID_X_MIN = -4\n",
    "GRID_X_MAX = 4\n",
    "GRID_Y_MIN = -4\n",
    "GRID_Y_MAX = 4\n",
    "LR = 0.02"
   ]
  },
  {
   "cell_type": "code",
   "execution_count": 6,
   "metadata": {},
   "outputs": [],
   "source": [
    "# Definition of optimisers\n",
    "optimizers = [\n",
    "    (tf.train.GradientDescentOptimizer(learning_rate=LR), \"Gradient Descent\"),\n",
    "    (tf.train.MomentumOptimizer(learning_rate=LR, momentum=0.9, use_nesterov=False), \"Momentum\"),\n",
    "    (tf.train.MomentumOptimizer(learning_rate=LR, momentum=0.9, use_nesterov=True), \"Nasterov\"),\n",
    "    (tf.train.RMSPropOptimizer(learning_rate=LR), \"RMSProp\"),\n",
    "    (tf.train.AdamOptimizer(learning_rate=LR), \"Adam\"),\n",
    "]"
   ]
  },
  {
   "cell_type": "code",
   "execution_count": 7,
   "metadata": {},
   "outputs": [],
   "source": [
    "# Definition of colours for subsequent trajectories\n",
    "paths_colors = [\n",
    "    \"#F2112D\",\n",
    "    \"#F06E1E\",\n",
    "    \"#EED82A\",\n",
    "    \"#A5EC37\",\n",
    "    \"#54EA43\"\n",
    "]"
   ]
  },
  {
   "cell_type": "code",
   "execution_count": 9,
   "metadata": {},
   "outputs": [],
   "source": [
    "# Definition of the optimised function\n",
    "tf_fun = lambda x, y: x**2 - y**2\n",
    "np_fun = lambda x, y: x**2 - y**2\n"
   ]
  },
  {
   "cell_type": "code",
   "execution_count": 10,
   "metadata": {},
   "outputs": [],
   "source": [
    "# Trajectories covered by optimizers\n",
    "optimization_paths = [optimize(tf_fun, INIT_PARAMS, ITERATIONS, optimizer[0]) for optimizer in optimizers]\n",
    "labels = [item[1] for item in optimizers]"
   ]
  },
  {
   "cell_type": "code",
   "execution_count": 13,
   "metadata": {},
   "outputs": [],
   "source": [
    "def create_animation(np_function, iterations, paths, colors, plot_name, file_name, dir_name):\n",
    "    for angle in range(iterations):\n",
    "        fix, ax = create_blank_chart_with_styling((10, 10))\n",
    "        \n",
    "        a3D, b3D = np.meshgrid(np.linspace(-1, 1, 50), np.linspace(-1, 1, 50))\n",
    "        cost3D = np.array([np_function(x_, y_) for x_, y_ in zip(a3D.flatten(), b3D.flatten())]).reshape(a3D.shape)\n",
    "        ax.plot_wireframe(a3D, b3D, cost3D, cmap=plt.get_cmap('rainbow'), alpha=0.2, zorder=-10)\n",
    "        \n",
    "        for path, color in zip(paths, colors):\n",
    "            ax.plot(path[0][:angle], path[1][:angle], zs=path[2][:angle], zdir='z', c=color, lw=3, zorder=1, alpha=1.0)\n",
    "            \n",
    "            if angle == 0:\n",
    "                ax.scatter(path[0][0], path[1][0], zs=path[2][0], s=100, c=color, zorder=10, edgecolors=\"k\")\n",
    "            else:\n",
    "                ax.scatter(path[0][angle-1], path[1][angle-1], zs=path[2][angle-1], s=100, c=color, zorder=10, edgecolors=\"k\")\n",
    "        \n",
    "        ax.legend(labels, loc='lower right', prop={'size': 10}, framealpha=0.0)\n",
    "        \n",
    "        ax.set_xlim(-1, 1)\n",
    "        ax.set_ylim(-1, 1)\n",
    "        ax.set_zlim(cost3D.min(), cost3D.max())\n",
    "        \n",
    "        # graph rotation\n",
    "        ax.view_init(45, 180 + angle*2)\n",
    "        # addition of a title\n",
    "        ax.set_title(plot_name, fontsize=20)\n",
    "        # saving a file\n",
    "        plt.savefig(\"./{}/{}_{:05}.png\".format(dir_name, file_name, angle))\n",
    "        plt.close()"
   ]
  },
  {
   "cell_type": "code",
   "execution_count": 14,
   "metadata": {},
   "outputs": [],
   "source": [
    "create_animation(np_fun, ITERATIONS, optimization_paths, paths_colors, \"\", \"test\", OUTPUT_DIR)"
   ]
  }
 ],
 "metadata": {
  "kernelspec": {
   "display_name": "Python 3",
   "language": "python",
   "name": "python3"
  },
  "language_info": {
   "codemirror_mode": {
    "name": "ipython",
    "version": 3
   },
   "file_extension": ".py",
   "mimetype": "text/x-python",
   "name": "python",
   "nbconvert_exporter": "python",
   "pygments_lexer": "ipython3",
   "version": "3.6.7"
  }
 },
 "nbformat": 4,
 "nbformat_minor": 2
}
