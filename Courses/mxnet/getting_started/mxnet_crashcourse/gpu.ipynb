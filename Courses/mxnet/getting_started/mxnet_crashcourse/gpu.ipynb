{
 "cells": [
  {
   "cell_type": "markdown",
   "source": [
    "Default devise is cpu"
   ],
   "metadata": {
    "collapsed": false,
    "pycharm": {
     "name": "#%% md\n"
    }
   }
  },
  {
   "cell_type": "code",
   "metadata": {
    "collapsed": true,
    "pycharm": {
     "name": "#%%\n"
    }
   },
   "source": [
    "from mxnet import nd, cpu, gpu, gluon, autograd\n",
    "from mxnet.gluon import nn\n",
    "from mxnet.gluon.data.vision import datasets, transforms\n",
    "import time"
   ],
   "execution_count": null,
   "outputs": []
  },
  {
   "cell_type": "code",
   "execution_count": 13,
   "outputs": [
    {
     "data": {
      "text/plain": "\n[[1. 1. 1. 1.]\n [1. 1. 1. 1.]\n [1. 1. 1. 1.]]\n<NDArray 3x4 @gpu(0)>"
     },
     "execution_count": 13,
     "metadata": {},
     "output_type": "execute_result"
    }
   ],
   "source": [
    "x = nd.ones((3,4), ctx=gpu())\n",
    "x\n",
    "# i have only one gpu\n",
    "# x.copyto(gpu(1))"
   ],
   "metadata": {
    "collapsed": false,
    "pycharm": {
     "name": "#%%\n"
    }
   }
  },
  {
   "cell_type": "code",
   "execution_count": 14,
   "outputs": [
    {
     "data": {
      "text/plain": "\n[[1.3925502 1.8212544 1.0012403 1.2185879]\n [1.307889  1.3717465 1.2730181 1.3112395]\n [1.2925439 1.5859082 1.8407545 1.7850714]]\n<NDArray 3x4 @gpu(0)>"
     },
     "execution_count": 14,
     "metadata": {},
     "output_type": "execute_result"
    }
   ],
   "source": [
    "y = nd.random.uniform(shape=(3,4), ctx=gpu())\n",
    "x+y"
   ],
   "metadata": {
    "collapsed": false,
    "pycharm": {
     "name": "#%%\n"
    }
   }
  },
  {
   "cell_type": "code",
   "execution_count": 17,
   "outputs": [
    {
     "name": "stdout",
     "output_type": "stream",
     "text": [
      "\n",
      "[[ 1.2280461  -0.8499762   1.1064829   0.8627089   0.10542075 -1.4364507\n",
      "   1.9387282  -1.2366142   0.01517534 -1.6967722 ]]\n",
      "<NDArray 1x10 @gpu(0)>\n"
     ]
    },
    {
     "data": {
      "text/plain": "(1, 10)"
     },
     "execution_count": 17,
     "metadata": {},
     "output_type": "execute_result"
    }
   ],
   "source": [
    "net = nn.Sequential()\n",
    "net.add(\n",
    "    nn.Conv2D(channels=6, kernel_size=5, activation='relu'),\n",
    "    nn.MaxPool2D(pool_size=2, strides=2),\n",
    "    nn.Conv2D(channels=16, kernel_size=3, activation='relu'),\n",
    "    nn.MaxPool2D(pool_size=2, strides=2),\n",
    "    nn.Flatten(),\n",
    "    nn.Dense(120, activation=\"relu\"),\n",
    "    nn.Dense(84, activation=\"relu\"),\n",
    "    nn.Dense(10)\n",
    ")\n",
    "net.load_parameters('net.params', ctx=gpu(0))\n",
    "\n",
    "x = nd.random.uniform(shape=(1,1,28,28), ctx=gpu(0))\n",
    "output = net(x)\n",
    "print(output)\n",
    "output.shape"
   ],
   "metadata": {
    "collapsed": false,
    "pycharm": {
     "name": "#%%\n"
    }
   }
  },
  {
   "cell_type": "markdown",
   "source": [
    "Multi-GPU training\n",
    "i have only one gpu"
   ],
   "metadata": {
    "collapsed": false,
    "pycharm": {
     "name": "#%% md\n"
    }
   }
  },
  {
   "cell_type": "code",
   "execution_count": 18,
   "outputs": [],
   "source": [
    "batch_size = 256\n",
    "transformer = transforms.Compose([\n",
    "    transforms.ToTensor(),\n",
    "    transforms.Normalize(0.13, 0.31)])\n",
    "train_data = gluon.data.DataLoader(\n",
    "    datasets.FashionMNIST(train=True).transform_first(transformer),\n",
    "    batch_size, shuffle=True, num_workers=4)\n",
    "valid_data = gluon.data.DataLoader(\n",
    "    datasets.FashionMNIST(train=False).transform_first(transformer),\n",
    "    batch_size, shuffle=False, num_workers=4)"
   ],
   "metadata": {
    "collapsed": false,
    "pycharm": {
     "name": "#%%\n"
    }
   }
  },
  {
   "cell_type": "code",
   "execution_count": 23,
   "outputs": [
    {
     "name": "stdout",
     "output_type": "stream",
     "text": [
      "Epoch 0: loss 1.659, in 5.9 sec\n",
      "Epoch 1: loss 0.702, in 6.2 sec\n",
      "Epoch 2: loss 0.558, in 5.9 sec\n",
      "Epoch 3: loss 0.496, in 5.9 sec\n",
      "Epoch 4: loss 0.449, in 6.0 sec\n",
      "Epoch 5: loss 0.416, in 6.4 sec\n",
      "Epoch 6: loss 0.389, in 6.2 sec\n",
      "Epoch 7: loss 0.369, in 5.9 sec\n",
      "Epoch 8: loss 0.350, in 5.9 sec\n",
      "Epoch 9: loss 0.337, in 5.9 sec\n"
     ]
    }
   ],
   "source": [
    "# Diff 1: Use two GPUs for training.\n",
    "# devices = [gpu(0), gpu(1)]  # write multiple gpu into query.\n",
    "devices = [gpu(0)]  # i have only one cpu and one gpu\n",
    "# Diff 2: reinitialize the parameters and place them on multiple GPUs\n",
    "net.collect_params().initialize(force_reinit=True, ctx=devices)  # copy parameters to gpu\n",
    "# Loss and trainer are the same as before\n",
    "softmax_cross_entropy = gluon.loss.SoftmaxCrossEntropyLoss()\n",
    "trainer = gluon.Trainer(net.collect_params(), 'sgd', {'learning_rate': 0.1})\n",
    "for epoch in range(10):\n",
    "    train_loss = 0.\n",
    "    tic = time.time()\n",
    "    for data, label in train_data:\n",
    "        # Diff 3: split batch and load into corresponding devices\n",
    "        data_list = gluon.utils.split_and_load(data, devices)  # split for multiple gpu if you have\n",
    "        label_list = gluon.utils.split_and_load(label, devices)  # split for multiple gpu if you have\n",
    "        # Diff 4: run forward and backward on each devices.\n",
    "        # MXNet will automatically run them in parallel\n",
    "        with autograd.record():\n",
    "            losses = [softmax_cross_entropy(net(X), y)\n",
    "                      for X, y in zip(data_list, label_list)]\n",
    "        # calculate all losses\n",
    "        for l in losses:\n",
    "            l.backward()\n",
    "        trainer.step(batch_size)\n",
    "        # Diff 5: sum losses over all devices\n",
    "        train_loss += sum([l.sum().asscalar() for l in losses])\n",
    "    print(\"Epoch %d: loss %.3f, in %.1f sec\" % (\n",
    "        epoch, train_loss/len(train_data)/batch_size, time.time()-tic))"
   ],
   "metadata": {
    "collapsed": false,
    "pycharm": {
     "name": "#%%\n"
    }
   }
  }
 ],
 "metadata": {
  "kernelspec": {
   "display_name": "Python 3",
   "language": "python",
   "name": "python3"
  },
  "language_info": {
   "codemirror_mode": {
    "name": "ipython",
    "version": 2
   },
   "file_extension": ".py",
   "mimetype": "text/x-python",
   "name": "python",
   "nbconvert_exporter": "python",
   "pygments_lexer": "ipython2",
   "version": "2.7.6"
  }
 },
 "nbformat": 4,
 "nbformat_minor": 0
}