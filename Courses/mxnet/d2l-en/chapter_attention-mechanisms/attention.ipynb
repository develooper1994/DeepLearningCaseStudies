{
 "cells": [
  {
   "cell_type": "markdown",
   "metadata": {},
   "source": [
    "# Attention Mechanisms\n",
    "\n",
    ":label:`sec_attention`\n",
    "\n",
    "\n",
    "In :numref:`sec_seq2seq`, we encode the source sequence input information in the recurrent unit state and then pass it to the decoder to generate the target sequence. A token in the target sequence may closely relate to one or more tokens in the source sequence, instead of the whole source sequence. For example, when translating \"Hello world.\" to \"Bonjour le monde.\", \"Bonjour\" maps to \"Hello\" and \"monde\" maps to \"world\". In the seq2seq model, the decoder may implicitly select the corresponding information from the state passed by the encoder. The attention mechanism, however, makes this selection explicit.\n",
    "\n",
    "\n",
    "*Attention* is a generalized pooling method with bias alignment over inputs. The core component in the attention mechanism is the attention layer, or called *attention* for simplicity. An input of the attention layer is called a *query*. For a query, attention returns an output based on the memory---a set of key-value pairs encoded in the attention layer. To be more specific, assume that the memory contains $n$ key-value pairs, $(\\mathbf{k}_1, \\mathbf{v}_1), \\ldots, (\\mathbf{k}_n, \\mathbf{v}_n)$, with $\\mathbf{k}_i \\in \\mathbb R^{d_k}$, $\\mathbf{v}_i \\in \\mathbb R^{d_v}$. Given a query $\\mathbf{q} \\in \\mathbb R^{d_q}$, the attention layer returns an output $\\mathbf{o} \\in \\mathbb R^{d_v}$ with the same shape as the value.\n",
    "\n",
    "![The attention layer returns an output based on the input query and its memory.](../img/attention.svg)\n",
    "\n",
    ":label:`fig_attention`\n",
    "\n",
    "\n",
    "\n",
    "The full process of attention mechanism is expressed in :numref:`fig_attention_output`. To compute the output of attention, we first use a score function $\\alpha$ that measures the similarity between the query and key. Then for each key $(\\mathbf{k}_1, \\mathbf{v}_1), \\ldots, (\\mathbf{k}_n, \\mathbf{v}_n)$, we compute the scores $a_1, \\ldots, a_n$ by\n",
    "\n",
    "$$a_i = \\alpha(\\mathbf q, \\mathbf k_i).$$\n",
    "\n",
    "Next we use softmax to obtain the attention weights, i.e.,\n",
    "\n",
    "$$\\mathbf{b} = \\mathrm{softmax}(\\mathbf{a})\\quad \\text{, where }\\quad\n",
    "{b}_i = \\frac{\\exp(a_i)}{\\sum_j \\exp(a_j)}, \\mathbf{b} = [b_1, \\ldots, b_n]^T .$$\n",
    "\n",
    "\n",
    "Finally, the output is a weighted sum of the values:\n",
    "\n",
    "$$\\mathbf o = \\sum_{i=1}^n b_i \\mathbf v_i.$$\n",
    "\n",
    "\n",
    "![The attention output is a weighted sum of the values.](../img/attention_output.svg)\n",
    "\n",
    ":label:`fig_attention_output`\n",
    "\n",
    "\n",
    "\n",
    "\n",
    "Different choices of the score function lead to different attention layers. Below, we introduce two commonly used attention layers. Before diving into the implementation, we first express two operators to get you up and running: a masked version of the softmax operator `masked_softmax` and a specialized dot operator `batched_dot`."
   ]
  },
  {
   "cell_type": "code",
   "execution_count": 1,
   "metadata": {
    "attributes": {
     "classes": [],
     "id": "",
     "n": "1"
    }
   },
   "outputs": [],
   "source": [
    "import math\n",
    "from mxnet import np, npx\n",
    "from mxnet.gluon import nn\n",
    "npx.set_np()"
   ]
  },
  {
   "cell_type": "markdown",
   "metadata": {},
   "source": [
    "The masked softmax takes a 3-dimensional input and enables us to filter out some elements by specifying a valid length for the last dimension. (Refer to\n",
    ":numref:`sec_machine_translation` for the definition of a valid length.) As a result, any value outside the valid length will be masked as $0$. Let us implement the `masked_softmax` function."
   ]
  },
  {
   "cell_type": "code",
   "execution_count": 2,
   "metadata": {
    "attributes": {
     "classes": [],
     "id": "",
     "n": "6"
    }
   },
   "outputs": [],
   "source": [
    "# Saved in the d2l package for later use\n",
    "def masked_softmax(X, valid_len):\n",
    "    # X: 3-D tensor, valid_len: 1-D or 2-D tensor\n",
    "    if valid_len is None:\n",
    "        return npx.softmax(X)\n",
    "    else:\n",
    "        shape = X.shape\n",
    "        if valid_len.ndim == 1:\n",
    "            valid_len = valid_len.repeat(shape[1], axis=0)\n",
    "        else:\n",
    "            valid_len = valid_len.reshape(-1)\n",
    "        # Fill masked elements with a large negative, whose exp is 0\n",
    "        X = npx.sequence_mask(X.reshape(-1, shape[-1]), valid_len, True,\n",
    "                              axis=1, value=-1e6)\n",
    "        return npx.softmax(X).reshape(shape)"
   ]
  },
  {
   "cell_type": "markdown",
   "metadata": {},
   "source": [
    "To illustrate how this function works, we construct two $2 \\times 4$ matrices as the input. In addition, we specify that the valid length equals to 2 for the first example, and 3 for the second example. Then, as we can see from the following outputs, the values outside valid lengths are masked as zero."
   ]
  },
  {
   "cell_type": "code",
   "execution_count": 3,
   "metadata": {
    "attributes": {
     "classes": [],
     "id": "",
     "n": "5"
    }
   },
   "outputs": [
    {
     "data": {
      "text/plain": [
       "array([[[0.488994  , 0.511006  , 0.        , 0.        ],\n",
       "        [0.43654838, 0.56345165, 0.        , 0.        ]],\n",
       "\n",
       "       [[0.28817102, 0.3519408 , 0.3598882 , 0.        ],\n",
       "        [0.29034293, 0.25239873, 0.45725834, 0.        ]]])"
      ]
     },
     "execution_count": 3,
     "metadata": {},
     "output_type": "execute_result"
    }
   ],
   "source": [
    "masked_softmax(np.random.uniform(size=(2, 2, 4)), np.array([2, 3]))"
   ]
  },
  {
   "cell_type": "markdown",
   "metadata": {},
   "source": [
    "Moreover, the second operator `batched_dot` takes two inputs $X$ and $Y$ with shapes $(b, n, m)$ and $(b, m, k)$, respectively, and returns an output with shape $(b, n, k)$. To be specific, it computes $b$ dot products for $i= \\{1,\\ldots, b\\}$, i.e.,\n",
    "\n",
    "$$Z[i,:,:] = X[i,:,:]  Y[i,:,:].$$"
   ]
  },
  {
   "cell_type": "code",
   "execution_count": 4,
   "metadata": {
    "attributes": {
     "classes": [],
     "id": "",
     "n": "4"
    }
   },
   "outputs": [
    {
     "data": {
      "text/plain": [
       "array([[[3., 3.]],\n",
       "\n",
       "       [[3., 3.]]])"
      ]
     },
     "execution_count": 4,
     "metadata": {},
     "output_type": "execute_result"
    }
   ],
   "source": [
    "npx.batch_dot(np.ones((2, 1, 3)), np.ones((2, 3, 2)))"
   ]
  },
  {
   "cell_type": "markdown",
   "metadata": {},
   "source": [
    "## Dot Product Attention\n",
    "\n",
    "Equipped with the above two operators: `masked_softmax` and `batched_dot`, let us dive into the details of two widely used attentions layers. The first one is the *dot product attention*: it assumes that the query has the same dimension as the keys, namely $\\mathbf q, \\mathbf k_i \\in\\mathbb R^d$ for all $i$. The dot product attention computes the scores by an dot product between the query and a key, which is then divided by $\\sqrt{d}$ to minimize the unrelated influence of the dimension $d$ on the scores. In other words,\n",
    "\n",
    "$$\\alpha(\\mathbf q, \\mathbf k) = \\langle \\mathbf q, \\mathbf k \\rangle /\\sqrt{d}.$$\n",
    "\n",
    "Beyond the single-dimensional queries and keys, we can always generalize them to multi-dimensional queries and keys. Assume that $\\mathbf Q\\in\\mathbb R^{m\\times d}$ contains $m$ queries and $\\mathbf K\\in\\mathbb R^{n\\times d}$ has all the $n$ keys. We can compute all $mn$ scores by\n",
    "\n",
    "$$\\alpha(\\mathbf Q, \\mathbf K) = \\mathbf Q \\mathbf K^\\top /\\sqrt{d}.$$\n",
    "\n",
    ":eqlabel:`eq_alpha_QK`\n",
    "\n",
    "\n",
    "With :eqref:`eq_alpha_QK`, we can implement the dot product attention layer `DotProductAttention` that supports a batch of queries and key-value pairs. In addition, for regularization we also use a dropout layer."
   ]
  },
  {
   "cell_type": "code",
   "execution_count": 5,
   "metadata": {
    "attributes": {
     "classes": [],
     "id": "",
     "n": "5"
    }
   },
   "outputs": [],
   "source": [
    "# Saved in the d2l package for later use\n",
    "class DotProductAttention(nn.Block):\n",
    "    def __init__(self, dropout, **kwargs):\n",
    "        super(DotProductAttention, self).__init__(**kwargs)\n",
    "        self.dropout = nn.Dropout(dropout)\n",
    "\n",
    "    # query: (batch_size, #queries, d)\n",
    "    # key: (batch_size, #kv_pairs, d)\n",
    "    # value: (batch_size, #kv_pairs, dim_v)\n",
    "    # valid_len: either (batch_size, ) or (batch_size, xx)\n",
    "    def forward(self, query, key, value, valid_len=None):\n",
    "        d = query.shape[-1]\n",
    "        # Set transpose_b=True to swap the last two dimensions of key\n",
    "        scores = npx.batch_dot(query, key, transpose_b=True) / math.sqrt(d)\n",
    "        attention_weights = self.dropout(masked_softmax(scores, valid_len))\n",
    "        return npx.batch_dot(attention_weights, value)"
   ]
  },
  {
   "cell_type": "markdown",
   "metadata": {},
   "source": [
    "Let us test the class `DotProductAttention` in a toy example.\n",
    "First, create two batches, where each batch has one query and 10 key-value pairs.\n",
    "Via the `valid_len` argument,\n",
    "we specify that we will check the first $2$ key-value pairs for the first batch and $6$ for the second one. Therefore, even though both batches have the same query and key-value pairs, we obtain different outputs."
   ]
  },
  {
   "cell_type": "code",
   "execution_count": 6,
   "metadata": {
    "attributes": {
     "classes": [],
     "id": "",
     "n": "6"
    }
   },
   "outputs": [
    {
     "data": {
      "text/plain": [
       "array([[[ 2.      ,  3.      ,  4.      ,  5.      ]],\n",
       "\n",
       "       [[10.      , 11.      , 12.000001, 13.      ]]])"
      ]
     },
     "execution_count": 6,
     "metadata": {},
     "output_type": "execute_result"
    }
   ],
   "source": [
    "atten = DotProductAttention(dropout=0.5)\n",
    "atten.initialize()\n",
    "keys = np.ones((2, 10, 2))\n",
    "values = np.arange(40).reshape(1, 10, 4).repeat(2, axis=0)\n",
    "atten(np.ones((2, 1, 2)), keys, values, np.array([2, 6]))"
   ]
  },
  {
   "cell_type": "markdown",
   "metadata": {},
   "source": [
    "As we can see above, dot product attention simply multiplies the query and key together, and hopes to derive their similarities from there. Whereas, the query and key may not be of the same dimension.\n",
    "To address such an issue,\n",
    "we may resort to the multilayer perceptron attention.\n",
    "\n",
    "\n",
    "\n",
    "## Multilayer Perceptron Attention\n",
    "\n",
    "In *multilayer perceptron attention*, we project both query and keys into $\\mathbb R^{h}$ by learnable weights parameters.\n",
    "Assume that the learnable weights are $\\mathbf W_k\\in\\mathbb R^{h\\times d_k}$, $\\mathbf W_q\\in\\mathbb R^{h\\times d_q}$, and $\\mathbf v\\in\\mathbb R^{h}$. Then the score function is defined by\n",
    "\n",
    "$$\\alpha(\\mathbf k, \\mathbf q) = \\mathbf v^\\top \\text{tanh}(\\mathbf W_k \\mathbf k + \\mathbf W_q\\mathbf q).$$\n",
    "\n",
    "Intuitively, you can imagine $\\mathbf W_k \\mathbf k + \\mathbf W_q\\mathbf q$ as concatenating the key and value in the feature dimension and feeding them to a single hidden layer perceptron with hidden layer size $h$ and output layer size $1$. In this hidden layer, the activation function is $\\tanh$ and no bias is applied. Now let us implement the multilayer perceptron attention."
   ]
  },
  {
   "cell_type": "code",
   "execution_count": 7,
   "metadata": {
    "attributes": {
     "classes": [],
     "id": "",
     "n": "7"
    }
   },
   "outputs": [],
   "source": [
    "# Saved in the d2l package for later use\n",
    "class MLPAttention(nn.Block):\n",
    "    def __init__(self, units, dropout, **kwargs):\n",
    "        super(MLPAttention, self).__init__(**kwargs)\n",
    "        # Use flatten=True to keep query's and key's 3-D shapes\n",
    "        self.W_k = nn.Dense(units, activation='tanh',\n",
    "                            use_bias=False, flatten=False)\n",
    "        self.W_q = nn.Dense(units, activation='tanh',\n",
    "                            use_bias=False, flatten=False)\n",
    "        self.v = nn.Dense(1, use_bias=False, flatten=False)\n",
    "        self.dropout = nn.Dropout(dropout)\n",
    "\n",
    "    def forward(self, query, key, value, valid_len):\n",
    "        query, key = self.W_k(query), self.W_q(key)\n",
    "        # Expand query to (batch_size, #querys, 1, units), and key to\n",
    "        # (batch_size, 1, #kv_pairs, units). Then plus them with broadcast\n",
    "        features = np.expand_dims(query, axis=2) + np.expand_dims(key, axis=1)\n",
    "        scores = np.squeeze(self.v(features), axis=-1)\n",
    "        attention_weights = self.dropout(masked_softmax(scores, valid_len))\n",
    "        return npx.batch_dot(attention_weights, value)"
   ]
  },
  {
   "cell_type": "markdown",
   "metadata": {},
   "source": [
    "To test the above `MLPAttention` class, we use the same inputs as in the previous toy example. As we can see below, despite `MLPAttention` containing an additional MLP model, we obtain the same outputs as for `DotProductAttention`."
   ]
  },
  {
   "cell_type": "code",
   "execution_count": 8,
   "metadata": {
    "attributes": {
     "classes": [],
     "id": "",
     "n": "8"
    }
   },
   "outputs": [
    {
     "data": {
      "text/plain": [
       "array([[[ 2.      ,  3.      ,  4.      ,  5.      ]],\n",
       "\n",
       "       [[10.      , 11.      , 12.000001, 13.      ]]])"
      ]
     },
     "execution_count": 8,
     "metadata": {},
     "output_type": "execute_result"
    }
   ],
   "source": [
    "atten = MLPAttention(units=8, dropout=0.1)\n",
    "atten.initialize()\n",
    "atten(np.ones((2, 1, 2)), keys, values, np.array([2, 6]))"
   ]
  },
  {
   "cell_type": "markdown",
   "metadata": {},
   "source": [
    "## Summary\n",
    "\n",
    "* An attention layer explicitly selects related information.\n",
    "* An attention layer's memory consists of key-value pairs, so its output is close to the values whose keys are similar to the queries.\n",
    "* Two commonly used attention models are dot product attention and multilayer perceptron attention.\n",
    "\n",
    "\n",
    "## Exercises\n",
    "\n",
    "1. What are the advantages and disadvantages for dot product attention and multilayer perceptron attention, respectively?\n",
    "\n",
    "\n",
    "## [Discussions](https://discuss.mxnet.io/t/attention/4343)\n",
    "\n",
    "![](../img/qr_attention.svg)"
   ]
  }
 ],
 "metadata": {
  "language_info": {
   "name": "python"
  }
 },
 "nbformat": 4,
 "nbformat_minor": 2
}