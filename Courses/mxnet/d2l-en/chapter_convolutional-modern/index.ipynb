{
 "cells": [
  {
   "cell_type": "markdown",
   "metadata": {},
   "source": [
    "# Modern Convolutional Neural Networks\n",
    "\n",
    ":label:`chap_modern_cnn`\n",
    "\n",
    "\n",
    "Now that we understand the basics of wiring together convolutional neural networks, we will take you through a tour of modern deep learning.\n",
    "In this chapter, each section will correspond to a significant neural network architecture that was at some point (or currently) the base model upon which an enormous amount of research and projects were built.\n",
    "Each of these networks was at briefly\n",
    "a dominant architecture and many were\n",
    "at one point winners or runners-up in the famous ImageNet competition,\n",
    "which has served as a barometer of progress\n",
    "on supervised learning in computer vision since 2010.\n",
    "\n",
    "These models include AlexNet, the first large-scale network deployed to beat conventional computer vision methods on a large-scale vision challenge;\n",
    "the VGG network, which makes use of a number of repeating blocks of elements; the network in network (NiN) which convolves whole neural networks\n",
    "patch-wise over inputs; the GoogLeNet, which makes use of networks with parallel concatenations;\n",
    "residual networks (ResNet), which are the\n",
    "most popular go-to architecture today, and densely connected networks (DenseNet), which are expensive to compute but have set some recent benchmarks."
   ]
  },
  {
   "cell_type": "markdown",
   "metadata": {},
   "source": [
    " - [alexnet](alexnet.ipynb)\n",
    " - [vgg](vgg.ipynb)\n",
    " - [nin](nin.ipynb)\n",
    " - [googlenet](googlenet.ipynb)\n",
    " - [batch-norm](batch-norm.ipynb)\n",
    " - [resnet](resnet.ipynb)\n",
    " - [densenet](densenet.ipynb)\n"
   ]
  }
 ],
 "metadata": {
  "language_info": {
   "name": "python"
  }
 },
 "nbformat": 4,
 "nbformat_minor": 2
}