{
 "cells": [
  {
   "cell_type": "markdown",
   "metadata": {},
   "source": [
    "# Multilayer Perceptrons\n",
    "\n",
    ":label:`chap_perceptrons`\n",
    "\n",
    "\n",
    "In this chapter, we will introduce your first truly *deep* network.\n",
    "The simplest deep networks are called multilayer perceptrons,\n",
    "and they consist of many layers of neurons\n",
    "each fully connected to those in the layer below\n",
    "(from which they receive input)\n",
    "and those above (which they, in turn, influence).\n",
    "When we train high-capacity models we run the risk of overfitting.\n",
    "Thus, we will need to provide your first rigorous introduction\n",
    "to the notions of overfitting, underfitting, and capacity control.\n",
    "To help you combat these problems,\n",
    "we will introduce regularization techniques such as dropout and weight decay.\n",
    "We will also discuss issues relating to numerical stability and parameter initialization that are key to successfully training deep networks.\n",
    "Throughout, we focus on applying models to real data,\n",
    "aiming to give the reader a firm grasp not just of the concepts\n",
    "but also of the practice of using deep networks.\n",
    "We punt matters relating to the computational performance,\n",
    "scalability and efficiency of our models to subsequent chapters."
   ]
  },
  {
   "cell_type": "markdown",
   "metadata": {},
   "source": [
    " - [mlp](mlp.ipynb)\n",
    " - [mlp-scratch](mlp-scratch.ipynb)\n",
    " - [mlp-gluon](mlp-gluon.ipynb)\n",
    " - [underfit-overfit](underfit-overfit.ipynb)\n",
    " - [weight-decay](weight-decay.ipynb)\n",
    " - [dropout](dropout.ipynb)\n",
    " - [backprop](backprop.ipynb)\n",
    " - [numerical-stability-and-init](numerical-stability-and-init.ipynb)\n",
    " - [environment](environment.ipynb)\n",
    " - [kaggle-house-price](kaggle-house-price.ipynb)\n"
   ]
  }
 ],
 "metadata": {
  "language_info": {
   "name": "python"
  }
 },
 "nbformat": 4,
 "nbformat_minor": 2
}