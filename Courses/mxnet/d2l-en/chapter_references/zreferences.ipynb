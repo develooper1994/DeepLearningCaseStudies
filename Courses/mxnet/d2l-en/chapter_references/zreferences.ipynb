{
 "cells": [
  {
   "cell_type": "markdown",
   "metadata": {},
   "source": [
    "```eval_rst\n",
    "\n",
    ".. only:: html\n",
    "\n",
    "   References\n",
    "   ==========\n",
    "\n",
    "```\n"
   ]
  },
  {
   "cell_type": "markdown",
   "metadata": {},
   "source": [
    ":bibliography:`../d2l.bib`"
   ]
  }
 ],
 "metadata": {
  "language_info": {
   "name": "python"
  }
 },
 "nbformat": 4,
 "nbformat_minor": 2
}