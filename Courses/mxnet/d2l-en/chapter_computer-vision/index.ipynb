{
 "cells": [
  {
   "cell_type": "markdown",
   "metadata": {},
   "source": [
    "# Computer Vision\n",
    "\n",
    ":label:`chap_cv`\n",
    "\n",
    "\n",
    "Many applications in the area of computer vision are closely related to our daily lives, now and in the future, whether medical diagnostics, driverless vehicles, camera monitoring, or smart filters. In recent years, deep learning technology has greatly enhanced computer vision systems' performance. It can be said that the most advanced computer vision applications are nearly inseparable from deep learning.\n",
    "\n",
    "We have introduced deep learning models commonly used in the area of computer vision in the chapter \"Convolutional Neural Networks\" and have practiced simple image classification tasks. In this chapter, we will introduce image augmentation and fine tuning methods and apply them to image classification. Then, we will explore various methods of object detection. After that, we will learn how to use fully convolutional networks to perform semantic segmentation on images. Then, we explain how to use style transfer technology to generate images that look like the cover of this book. Finally, we will perform practice exercises on two important computer vision datasets to review the content of this chapter and the previous chapters."
   ]
  },
  {
   "cell_type": "markdown",
   "metadata": {},
   "source": [
    " - [image-augmentation](image-augmentation.ipynb)\n",
    " - [fine-tuning](fine-tuning.ipynb)\n",
    " - [bounding-box](bounding-box.ipynb)\n",
    " - [anchor](anchor.ipynb)\n",
    " - [multiscale-object-detection](multiscale-object-detection.ipynb)\n",
    " - [object-detection-dataset](object-detection-dataset.ipynb)\n",
    " - [ssd](ssd.ipynb)\n",
    " - [rcnn](rcnn.ipynb)\n",
    " - [semantic-segmentation-and-dataset](semantic-segmentation-and-dataset.ipynb)\n",
    " - [transposed-conv](transposed-conv.ipynb)\n",
    " - [fcn](fcn.ipynb)\n",
    " - [neural-style](neural-style.ipynb)\n",
    " - [kaggle-gluon-cifar10](kaggle-gluon-cifar10.ipynb)\n",
    " - [kaggle-gluon-dog](kaggle-gluon-dog.ipynb)\n"
   ]
  }
 ],
 "metadata": {
  "language_info": {
   "name": "python"
  }
 },
 "nbformat": 4,
 "nbformat_minor": 2
}