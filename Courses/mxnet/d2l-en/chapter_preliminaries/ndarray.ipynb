{
 "cells": [
  {
   "cell_type": "markdown",
   "metadata": {},
   "source": [
    "# Data Manipulation\n",
    "\n",
    ":label:`sec_ndarray`\n",
    "\n",
    "\n",
    "In order to get anything done, we need some way to store and manipulate data. \n",
    "Generally, there are two important things we need to do with data: \n",
    "(i) acquire them; and (ii) process them once they are inside the computer. \n",
    "There is no point in acquiring data without some way to store it, \n",
    "so let us get our hands dirty first by playing with synthetic data. \n",
    "To start, we introduce the $n$-dimensional array (`ndarray`), \n",
    "MXNet's primary tool for storing and transforming data.\n",
    "In MXNet, `ndarray` is a class and we call any instance \"an `ndarray`\".\n",
    "\n",
    "If you have worked with NumPy, the most widely-used \n",
    "scientific computing package in Python, \n",
    "then you will find this section familiar.\n",
    "That's by design. We designed MXNet's `ndarray` to be \n",
    "an extension to NumPy's `ndarray` with a few killer features.\n",
    "First, MXNet's `ndarray` supports asynchronous computation \n",
    "on CPU, GPU, and distributed cloud architectures, \n",
    "whereas NumPy only supports CPU computation. \n",
    "Second, MXNet's `ndarray` supports automatic differentiation. \n",
    "These properties make MXNet's `ndarray` suitable for deep learning.\n",
    "Throughout the book, when we say `ndarray`, \n",
    "we are referring to MXNet's `ndarray` unless otherwise stated.\n",
    "\n",
    "\n",
    "\n",
    "## Getting Started\n",
    "\n",
    "In this section, we aim to get you up and running,\n",
    "equipping you with the basic math and numerical computing tools\n",
    "that you will build on as you progress through the book. \n",
    "Do not worry if you struggle to grok some of \n",
    "the mathematical concepts or library functions. \n",
    "The following sections will revisit this material \n",
    "in the context of practical examples and it will sink. \n",
    "On the other hand, if you already have some background \n",
    "and want to go deeper into the mathematical content, just skip this section.\n",
    "\n",
    "To start, we import the `np` (`numpy`) and \n",
    "`npx` (`numpy_extension`) modules from MXNet. \n",
    "Here, the `np` module includes functions supported by NumPy, \n",
    "while the `npx` module contains a set of extensions \n",
    "developed to empower deep learning within a NumPy-like environment. \n",
    "When using `ndarray`, we almost always invoke the `set_np` function: \n",
    "this is for compatibility of `ndarray` processing by other components of MXNet."
   ]
  },
  {
   "cell_type": "code",
   "execution_count": 1,
   "metadata": {
    "attributes": {
     "classes": [],
     "id": "",
     "n": "1"
    }
   },
   "outputs": [],
   "source": [
    "from mxnet import np, npx\n",
    "npx.set_np()"
   ]
  },
  {
   "cell_type": "markdown",
   "metadata": {},
   "source": [
    "An `ndarray` represents a (possibly multi-dimensional) array of numerical values.\n",
    "With one axis, an `ndarray` corresponds (in math) to a *vector*. \n",
    "With two axes, an `ndarray` corresponds to a *matrix*. \n",
    "Arrays with more than two axes do not have special \n",
    "mathematical names---we simply call them *tensors*.\n",
    "\n",
    "To start, we can use `arange` to create a row vector `x` \n",
    "containing the first $12$ integers starting with $0$, \n",
    "though they are created as floats by default.\n",
    "Each of the values in an `ndarray` is called an *element* of the `ndarray`.\n",
    "For instance, there are $12$ elements in the `ndarray` `x`.\n",
    "Unless otherwise specified, a new `ndarray` \n",
    "will be stored in main memory and designated for CPU-based computation."
   ]
  },
  {
   "cell_type": "code",
   "execution_count": 2,
   "metadata": {
    "attributes": {
     "classes": [],
     "id": "",
     "n": "2"
    }
   },
   "outputs": [
    {
     "data": {
      "text/plain": [
       "array([ 0.,  1.,  2.,  3.,  4.,  5.,  6.,  7.,  8.,  9., 10., 11.])"
      ]
     },
     "execution_count": 2,
     "metadata": {},
     "output_type": "execute_result"
    }
   ],
   "source": [
    "x = np.arange(12)\n",
    "x"
   ]
  },
  {
   "cell_type": "markdown",
   "metadata": {},
   "source": [
    "We can access an `ndarray`'s *shape* (the length along each axis)\n",
    "by inspecting its `shape` property."
   ]
  },
  {
   "cell_type": "code",
   "execution_count": 3,
   "metadata": {
    "attributes": {
     "classes": [],
     "id": "",
     "n": "3"
    }
   },
   "outputs": [
    {
     "data": {
      "text/plain": [
       "(12,)"
      ]
     },
     "execution_count": 3,
     "metadata": {},
     "output_type": "execute_result"
    }
   ],
   "source": [
    "x.shape"
   ]
  },
  {
   "cell_type": "markdown",
   "metadata": {},
   "source": [
    "If we just want to know the total number of elements in an `ndarray`,\n",
    "i.e., the product of all of the shape elements, \n",
    "we can inspect its `size` property. \n",
    "Because we are dealing with a vector here, \n",
    "the single element of its `shape` is identical to its `size`."
   ]
  },
  {
   "cell_type": "code",
   "execution_count": 4,
   "metadata": {
    "attributes": {
     "classes": [],
     "id": "",
     "n": "4"
    }
   },
   "outputs": [
    {
     "data": {
      "text/plain": [
       "12"
      ]
     },
     "execution_count": 4,
     "metadata": {},
     "output_type": "execute_result"
    }
   ],
   "source": [
    "x.size"
   ]
  },
  {
   "cell_type": "markdown",
   "metadata": {},
   "source": [
    "To change the shape of an `ndarray` without altering \n",
    "either the number of elements or their values,\n",
    "we can invoke the `reshape` function.\n",
    "For example, we can transform our `ndarray`, `x`, \n",
    "from a row vector with shape ($12$,) to a matrix with shape ($3$, $4$).\n",
    "This new `ndarray` contains the exact same values, \n",
    "but views them as a matrix organized as $3$ rows and $4$ columns. \n",
    "To reiterate, although the shape has changed, \n",
    "the elements in `x` have not. \n",
    "Note that the `size` is unaltered by reshaping."
   ]
  },
  {
   "cell_type": "code",
   "execution_count": 5,
   "metadata": {
    "attributes": {
     "classes": [],
     "id": "",
     "n": "5"
    }
   },
   "outputs": [
    {
     "data": {
      "text/plain": [
       "array([[ 0.,  1.,  2.,  3.],\n",
       "       [ 4.,  5.,  6.,  7.],\n",
       "       [ 8.,  9., 10., 11.]])"
      ]
     },
     "execution_count": 5,
     "metadata": {},
     "output_type": "execute_result"
    }
   ],
   "source": [
    "x = x.reshape(3, 4)\n",
    "x"
   ]
  },
  {
   "cell_type": "markdown",
   "metadata": {},
   "source": [
    "Reshaping by manually specifying every dimension is unnecessary. \n",
    "If our target shape is a matrix with shape (height, width),\n",
    "then after we know the width, the height is given implicitly.\n",
    "Why should we have to perform the division ourselves? \n",
    "In the example above, to get a matrix with $3$ rows, \n",
    "we specified both that it should have $3$ rows and $4$ columns. \n",
    "Fortunately, `ndarray` can automatically work out one dimension given the rest. \n",
    "We invoke this capability by placing `-1` for the dimension\n",
    "that we would like `ndarray` to automatically infer. \n",
    "In our case, instead of calling `x.reshape(3, 4)`, \n",
    "we could have equivalently called `x.reshape(-1, 4)` or `x.reshape(3, -1)`.\n",
    "\n",
    "The `empty` method grabs a chunk of memory and hands us back a matrix \n",
    "without bothering to change the value of any of its entries. \n",
    "This is remarkably efficient but we must be careful because \n",
    "the entries might take arbitrary values, including very big ones!"
   ]
  },
  {
   "cell_type": "code",
   "execution_count": 6,
   "metadata": {
    "attributes": {
     "classes": [],
     "id": "",
     "n": "6"
    }
   },
   "outputs": [
    {
     "data": {
      "text/plain": [
       "array([[-8.5251129e+17,  4.5683731e-41, -2.3859901e+00,  3.0879013e-41],\n",
       "       [ 0.0000000e+00,  0.0000000e+00,  0.0000000e+00,  0.0000000e+00],\n",
       "       [ 0.0000000e+00,  0.0000000e+00,  0.0000000e+00,  0.0000000e+00]])"
      ]
     },
     "execution_count": 6,
     "metadata": {},
     "output_type": "execute_result"
    }
   ],
   "source": [
    "np.empty((3, 4))"
   ]
  },
  {
   "cell_type": "markdown",
   "metadata": {},
   "source": [
    "Typically, we will want our matrices initialized \n",
    "either with zeros, ones, some other constants, \n",
    "or numbers randomly sampled from a specific distribution.\n",
    "We can create an `ndarray` representing a tensor with all elements \n",
    "set to $0$ and a shape of ($2$, $3$, $4$) as follows:"
   ]
  },
  {
   "cell_type": "code",
   "execution_count": 7,
   "metadata": {
    "attributes": {
     "classes": [],
     "id": "",
     "n": "7"
    }
   },
   "outputs": [
    {
     "data": {
      "text/plain": [
       "array([[[0., 0., 0., 0.],\n",
       "        [0., 0., 0., 0.],\n",
       "        [0., 0., 0., 0.]],\n",
       "\n",
       "       [[0., 0., 0., 0.],\n",
       "        [0., 0., 0., 0.],\n",
       "        [0., 0., 0., 0.]]])"
      ]
     },
     "execution_count": 7,
     "metadata": {},
     "output_type": "execute_result"
    }
   ],
   "source": [
    "np.zeros((2, 3, 4))"
   ]
  },
  {
   "cell_type": "markdown",
   "metadata": {},
   "source": [
    "Similarly, we can create tensors with each element set to 1 as follows:"
   ]
  },
  {
   "cell_type": "code",
   "execution_count": 8,
   "metadata": {
    "attributes": {
     "classes": [],
     "id": "",
     "n": "8"
    }
   },
   "outputs": [
    {
     "data": {
      "text/plain": [
       "array([[[1., 1., 1., 1.],\n",
       "        [1., 1., 1., 1.],\n",
       "        [1., 1., 1., 1.]],\n",
       "\n",
       "       [[1., 1., 1., 1.],\n",
       "        [1., 1., 1., 1.],\n",
       "        [1., 1., 1., 1.]]])"
      ]
     },
     "execution_count": 8,
     "metadata": {},
     "output_type": "execute_result"
    }
   ],
   "source": [
    "np.ones((2, 3, 4))"
   ]
  },
  {
   "cell_type": "markdown",
   "metadata": {},
   "source": [
    "Often, we want to randomly sample the values\n",
    "for each element in an `ndarray`\n",
    "from some probability distribution.\n",
    "For example, when we construct arrays to serve\n",
    "as parameters in a neural network, we will\n",
    "typically initialize their values randomly.\n",
    "The following snippet creates an `ndarray` with shape ($3$, $4$).\n",
    "Each of its elements is randomly sampled\n",
    "from a standard Gaussian (normal) distribution\n",
    "with a mean of $0$ and a standard deviation of $1$."
   ]
  },
  {
   "cell_type": "code",
   "execution_count": 9,
   "metadata": {
    "attributes": {
     "classes": [],
     "id": "",
     "n": "10"
    }
   },
   "outputs": [
    {
     "data": {
      "text/plain": [
       "array([[ 2.2122064 ,  1.1630787 ,  0.7740038 ,  0.4838046 ],\n",
       "       [ 1.0434405 ,  0.29956347,  1.1839255 ,  0.15302546],\n",
       "       [ 1.8917114 , -1.1688148 , -1.2347414 ,  1.5580711 ]])"
      ]
     },
     "execution_count": 9,
     "metadata": {},
     "output_type": "execute_result"
    }
   ],
   "source": [
    "np.random.normal(0, 1, size=(3, 4))"
   ]
  },
  {
   "cell_type": "markdown",
   "metadata": {},
   "source": [
    "We can also specify the exact values for each element in the desired `ndarray`\n",
    "by supplying a Python list (or list of lists) containing the numerical values.\n",
    "Here, the outermost list corresponds to axis $0$, and the inner list to axis $1$."
   ]
  },
  {
   "cell_type": "code",
   "execution_count": 10,
   "metadata": {
    "attributes": {
     "classes": [],
     "id": "",
     "n": "9"
    }
   },
   "outputs": [
    {
     "data": {
      "text/plain": [
       "array([[2., 1., 4., 3.],\n",
       "       [1., 2., 3., 4.],\n",
       "       [4., 3., 2., 1.]])"
      ]
     },
     "execution_count": 10,
     "metadata": {},
     "output_type": "execute_result"
    }
   ],
   "source": [
    "np.array([[2, 1, 4, 3], [1, 2, 3, 4], [4, 3, 2, 1]])"
   ]
  },
  {
   "cell_type": "markdown",
   "metadata": {},
   "source": [
    "## Operations\n",
    "\n",
    "This book is not about software engineering.\n",
    "Our interests are not limited to simply \n",
    "reading and writing data from/to arrays.\n",
    "We want to perform mathematical operations on those arrays.\n",
    "Some of the simplest and most useful operations \n",
    "are the *elementwise* operations. \n",
    "These apply a standard scalar operation \n",
    "to each element of an array.\n",
    "For functions that take two arrays as inputs,\n",
    "elementwise operations apply some standard binary operator \n",
    "on each pair of corresponding elements from the two arrays. \n",
    "We can create an elementwise function from any function \n",
    "that maps from a scalar to a scalar. \n",
    "\n",
    "In mathematical notation, we would denote such\n",
    "a *unary* scalar operator (taking one input)\n",
    "by the signature $f: \\mathbb{R} \\rightarrow \\mathbb{R}$.\n",
    "This just means that the function is mapping\n",
    "from any real number ($\\mathbb{R}$) onto another.\n",
    "Likewise, we denote a *binary* scalar operator\n",
    "(taking two real inputs, and yielding one output)\n",
    "by the signature $f: \\mathbb{R}, \\mathbb{R} \\rightarrow \\mathbb{R}$.\n",
    "Given any two vectors $\\mathbf{u}$ and $\\mathbf{v}$ *of the same shape*,\n",
    "and a binary operator $f$, we can produce a vector\n",
    "$\\mathbf{c} = F(\\mathbf{u},\\mathbf{v})$\n",
    "by setting $c_i \\gets f(u_i, v_i)$ for all $i$,\n",
    "where $c_i, u_i$, and $v_i$ are the $i^\\mathrm{th}$ elements\n",
    "of vectors $\\mathbf{c}, \\mathbf{u}$, and $\\mathbf{v}$.\n",
    "Here, we produced the vector-valued\n",
    "$F: \\mathbb{R}^d, \\mathbb{R}^d \\rightarrow \\mathbb{R}^d$\n",
    "by *lifting* the scalar function to an elementwise vector operation.\n",
    "\n",
    "In MXNet, the common standard arithmetic operators\n",
    "(`+`, `-`, `*`, `/`, and `**`)\n",
    "have all been *lifted* to elementwise operations \n",
    "for any identically-shaped tensors of arbitrary shape. \n",
    "We can call elementwise operations on any two tensors of the same shape.\n",
    "In the following example, we use commas to formulate a $5$-element tuple,\n",
    "where each element is the result of an elementwise operation."
   ]
  },
  {
   "cell_type": "code",
   "execution_count": 11,
   "metadata": {
    "attributes": {
     "classes": [],
     "id": "",
     "n": "11"
    }
   },
   "outputs": [
    {
     "data": {
      "text/plain": [
       "(array([ 3.,  4.,  6., 10.]),\n",
       " array([-1.,  0.,  2.,  6.]),\n",
       " array([ 2.,  4.,  8., 16.]),\n",
       " array([0.5, 1. , 2. , 4. ]),\n",
       " array([ 1.,  4., 16., 64.]))"
      ]
     },
     "execution_count": 11,
     "metadata": {},
     "output_type": "execute_result"
    }
   ],
   "source": [
    "x = np.array([1, 2, 4, 8])\n",
    "y = np.array([2, 2, 2, 2])\n",
    "x + y, x - y, x * y, x / y, x ** y  # The ** operator is exponentiation"
   ]
  },
  {
   "cell_type": "markdown",
   "metadata": {},
   "source": [
    "Many more operations can be applied elementwise,\n",
    "including unary operators like exponentiation."
   ]
  },
  {
   "cell_type": "code",
   "execution_count": 12,
   "metadata": {
    "attributes": {
     "classes": [],
     "id": "",
     "n": "12"
    }
   },
   "outputs": [
    {
     "data": {
      "text/plain": [
       "array([2.7182817e+00, 7.3890562e+00, 5.4598148e+01, 2.9809580e+03])"
      ]
     },
     "execution_count": 12,
     "metadata": {},
     "output_type": "execute_result"
    }
   ],
   "source": [
    "np.exp(x)"
   ]
  },
  {
   "cell_type": "markdown",
   "metadata": {},
   "source": [
    "In addition to elementwise computations, \n",
    "we can also perform linear algebra operations, \n",
    "including vector dot products and matrix multiplication.\n",
    "We will explain the crucial bits of linear algebra \n",
    "(with no assumed prior knowledge) in :numref:`sec_linear-algebra`.\n",
    "\n",
    "We can also *concatenate* multiple `ndarray`s together,\n",
    "stacking them end-to-end to form a larger `ndarray`. \n",
    "We just need to provide a list of `ndarray`s \n",
    "and tell the system along which axis to concatenate. \n",
    "The example below shows what happens when we concatenate \n",
    "two matrices along rows (axis $0$, the first element of the shape)\n",
    "vs. columns (axis $1$, the second element of the shape).\n",
    "We can see that, the first output `ndarray`'s axis-$0$ length ($6$)\n",
    "is the sum of the two input `ndarray`s' axis-$0$ lengths ($3 + 3$);\n",
    "while the second output `ndarray`'s axis-$1$ length ($8$)\n",
    "is the sum of the two input `ndarray`s' axis-$1$ lengths ($4 + 4$)."
   ]
  },
  {
   "cell_type": "code",
   "execution_count": 13,
   "metadata": {
    "attributes": {
     "classes": [],
     "id": "",
     "n": "14"
    }
   },
   "outputs": [
    {
     "data": {
      "text/plain": [
       "(array([[ 0.,  1.,  2.,  3.],\n",
       "        [ 4.,  5.,  6.,  7.],\n",
       "        [ 8.,  9., 10., 11.],\n",
       "        [ 2.,  1.,  4.,  3.],\n",
       "        [ 1.,  2.,  3.,  4.],\n",
       "        [ 4.,  3.,  2.,  1.]]),\n",
       " array([[ 0.,  1.,  2.,  3.,  2.,  1.,  4.,  3.],\n",
       "        [ 4.,  5.,  6.,  7.,  1.,  2.,  3.,  4.],\n",
       "        [ 8.,  9., 10., 11.,  4.,  3.,  2.,  1.]]))"
      ]
     },
     "execution_count": 13,
     "metadata": {},
     "output_type": "execute_result"
    }
   ],
   "source": [
    "x = np.arange(12).reshape(3, 4)\n",
    "y = np.array([[2, 1, 4, 3], [1, 2, 3, 4], [4, 3, 2, 1]])\n",
    "np.concatenate([x, y], axis=0), np.concatenate([x, y], axis=1)"
   ]
  },
  {
   "cell_type": "markdown",
   "metadata": {},
   "source": [
    "Sometimes, we want to construct a binary `ndarray` via *logical statements*. \n",
    "Take `x == y` as an example. \n",
    "For each position, if `x` and `y` are equal at that position,\n",
    "the corresponding entry in the new `ndarray` takes a value of $1$,\n",
    "meaning that the logical statement `x == y` is true at that position;\n",
    "otherwise that position takes $0$."
   ]
  },
  {
   "cell_type": "code",
   "execution_count": 14,
   "metadata": {
    "attributes": {
     "classes": [],
     "id": "",
     "n": "15"
    }
   },
   "outputs": [
    {
     "data": {
      "text/plain": [
       "array([[False,  True, False,  True],\n",
       "       [False, False, False, False],\n",
       "       [False, False, False, False]])"
      ]
     },
     "execution_count": 14,
     "metadata": {},
     "output_type": "execute_result"
    }
   ],
   "source": [
    "x == y"
   ]
  },
  {
   "cell_type": "markdown",
   "metadata": {},
   "source": [
    "Summing all the elements in the `ndarray` yields an `ndarray` with only one element."
   ]
  },
  {
   "cell_type": "code",
   "execution_count": 15,
   "metadata": {
    "attributes": {
     "classes": [],
     "id": "",
     "n": "16"
    }
   },
   "outputs": [
    {
     "data": {
      "text/plain": [
       "array(66.)"
      ]
     },
     "execution_count": 15,
     "metadata": {},
     "output_type": "execute_result"
    }
   ],
   "source": [
    "x.sum()"
   ]
  },
  {
   "cell_type": "markdown",
   "metadata": {},
   "source": [
    "For stylistic convenience, we can write `x.sum()` as `np.sum(x)`.\n",
    "\n",
    "## Broadcasting Mechanism\n",
    "\n",
    "In the above section, we saw how to perform elementwise operations\n",
    "on two `ndarray`s of the same shape. Under certain conditions, \n",
    "even when shapes differ, we can still perform elementwise operations\n",
    "by invoking the *broadcasting mechanism*.\n",
    "This mechanism works in the following way:\n",
    "First, expand one or both arrays\n",
    "by copying elements appropriately \n",
    "so that after this transformation, \n",
    "the two `ndarray`s have the same shape.\n",
    "Second, carry out the elementwise operations\n",
    "on the resulting arrays.\n",
    "\n",
    "In most cases, we broadcast along an axis where an array\n",
    "initially only has length $1$, such as in the following example:"
   ]
  },
  {
   "cell_type": "code",
   "execution_count": 16,
   "metadata": {
    "attributes": {
     "classes": [],
     "id": "",
     "n": "17"
    }
   },
   "outputs": [
    {
     "data": {
      "text/plain": [
       "(array([[0.],\n",
       "        [1.],\n",
       "        [2.]]),\n",
       " array([[0., 1.]]))"
      ]
     },
     "execution_count": 16,
     "metadata": {},
     "output_type": "execute_result"
    }
   ],
   "source": [
    "a = np.arange(3).reshape(3, 1)\n",
    "b = np.arange(2).reshape(1, 2)\n",
    "a, b"
   ]
  },
  {
   "cell_type": "markdown",
   "metadata": {},
   "source": [
    "Since `a` and `b` are $3\\times1$ and $1\\times2$ matrices respectively, \n",
    "their shapes do not match up if we want to add them. \n",
    "We *broadcast* the entries of both matrices into a larger $3\\times2$ matrix as follows: \n",
    "for matrix `a` it replicates the columns\n",
    "and for matrix `b` it replicates the rows\n",
    "before adding up both elementwise."
   ]
  },
  {
   "cell_type": "code",
   "execution_count": 17,
   "metadata": {
    "attributes": {
     "classes": [],
     "id": "",
     "n": "18"
    }
   },
   "outputs": [
    {
     "data": {
      "text/plain": [
       "array([[0., 1.],\n",
       "       [1., 2.],\n",
       "       [2., 3.]])"
      ]
     },
     "execution_count": 17,
     "metadata": {},
     "output_type": "execute_result"
    }
   ],
   "source": [
    "a + b"
   ]
  },
  {
   "cell_type": "markdown",
   "metadata": {},
   "source": [
    "## Indexing and Slicing\n",
    "\n",
    "Just as in any other Python array, elements in an `ndarray` can be accessed by index. \n",
    "As in any Python array, the first element has index $0$\n",
    "and ranges are specified to include the first but *before* the last element. \n",
    "As in standard Python lists, we can access elements \n",
    "according to their relative position to the end of the list \n",
    "by using negative indices.\n",
    "\n",
    "Thus, `[-1]` selects the last element and `[1:3]` \n",
    "selects the second and the third elements as follows:"
   ]
  },
  {
   "cell_type": "code",
   "execution_count": 18,
   "metadata": {
    "attributes": {
     "classes": [],
     "id": "",
     "n": "19"
    }
   },
   "outputs": [
    {
     "data": {
      "text/plain": [
       "(array([ 8.,  9., 10., 11.]),\n",
       " array([[ 4.,  5.,  6.,  7.],\n",
       "        [ 8.,  9., 10., 11.]]))"
      ]
     },
     "execution_count": 18,
     "metadata": {},
     "output_type": "execute_result"
    }
   ],
   "source": [
    "x[-1], x[1:3]"
   ]
  },
  {
   "cell_type": "markdown",
   "metadata": {},
   "source": [
    "Beyond reading, we can also write elements of a matrix by specifying indices."
   ]
  },
  {
   "cell_type": "code",
   "execution_count": 19,
   "metadata": {
    "attributes": {
     "classes": [],
     "id": "",
     "n": "20"
    }
   },
   "outputs": [
    {
     "data": {
      "text/plain": [
       "array([[ 0.,  1.,  2.,  3.],\n",
       "       [ 4.,  5.,  9.,  7.],\n",
       "       [ 8.,  9., 10., 11.]])"
      ]
     },
     "execution_count": 19,
     "metadata": {},
     "output_type": "execute_result"
    }
   ],
   "source": [
    "x[1, 2] = 9\n",
    "x"
   ]
  },
  {
   "cell_type": "markdown",
   "metadata": {},
   "source": [
    "If we want to assign multiple elements the same value, \n",
    "we simply index all of them and then assign them the value. \n",
    "For instance, `[0:2, :]` accesses the first and second rows,\n",
    "where `:` takes all the elements along axis $1$ (column).\n",
    "While we discussed indexing for matrices, \n",
    "this obviously also works for vectors \n",
    "and for tensors of more than $2$ dimensions."
   ]
  },
  {
   "cell_type": "code",
   "execution_count": 20,
   "metadata": {
    "attributes": {
     "classes": [],
     "id": "",
     "n": "21"
    }
   },
   "outputs": [
    {
     "data": {
      "text/plain": [
       "array([[12., 12., 12., 12.],\n",
       "       [12., 12., 12., 12.],\n",
       "       [ 8.,  9., 10., 11.]])"
      ]
     },
     "execution_count": 20,
     "metadata": {},
     "output_type": "execute_result"
    }
   ],
   "source": [
    "x[0:2, :] = 12\n",
    "x"
   ]
  },
  {
   "cell_type": "markdown",
   "metadata": {},
   "source": [
    "## Saving Memory\n",
    "\n",
    "In the previous example, every time we ran an operation,\n",
    "we allocated new memory to host its results. \n",
    "For example, if we write `y = x + y`, \n",
    "we will dereference the `ndarray` that `y` used to point to \n",
    "and instead point `y` at the newly allocated memory. \n",
    "In the following example, we demonstrate this with Python's `id()` function, \n",
    "which gives us the exact address of the referenced object in memory. \n",
    "After running `y = y + x`, we will find that `id(y)` points to a different location. \n",
    "That is because Python first evaluates `y + x`, \n",
    "allocating new memory for the result and then makes `y` \n",
    "point to this new location in memory."
   ]
  },
  {
   "cell_type": "code",
   "execution_count": 21,
   "metadata": {
    "attributes": {
     "classes": [],
     "id": "",
     "n": "22"
    }
   },
   "outputs": [
    {
     "data": {
      "text/plain": [
       "False"
      ]
     },
     "execution_count": 21,
     "metadata": {},
     "output_type": "execute_result"
    }
   ],
   "source": [
    "before = id(y)\n",
    "y = y + x\n",
    "id(y) == before"
   ]
  },
  {
   "cell_type": "markdown",
   "metadata": {},
   "source": [
    "This might be undesirable for two reasons.\n",
    "First, we do not want to run around \n",
    "allocating memory unnecessarily all the time. \n",
    "In machine learning, we might have \n",
    "hundreds of megabytes of parameters \n",
    "and update all of them multiple times per second. \n",
    "Typically, we will want to perform these updates *in place*. \n",
    "Second, we might point at the same parameters from multiple variables. \n",
    "If we do not update in place, this could cause that\n",
    "discarded memory is not released,\n",
    "and make it possible for parts of our code\n",
    "to inadvertently reference stale parameters.\n",
    "\n",
    "Fortunately, performing in-place operations in MXNet is easy. \n",
    "We can assign the result of an operation \n",
    "to a previously allocated array with slice notation, \n",
    "e.g., `y[:] = <expression>`. \n",
    "To illustrate this concept, we first create a new matrix `z`\n",
    "with the same shape as another `y`, \n",
    "using `zeros_like` to allocate a block of $0$ entries."
   ]
  },
  {
   "cell_type": "code",
   "execution_count": 22,
   "metadata": {
    "attributes": {
     "classes": [],
     "id": "",
     "n": "23"
    }
   },
   "outputs": [
    {
     "name": "stdout",
     "output_type": "stream",
     "text": [
      "id(z): 140019225118512\n",
      "id(z): 140019225118512\n"
     ]
    }
   ],
   "source": [
    "z = np.zeros_like(y)\n",
    "print('id(z):', id(z))\n",
    "z[:] = x + y\n",
    "print('id(z):', id(z))"
   ]
  },
  {
   "cell_type": "markdown",
   "metadata": {},
   "source": [
    "If the value of `x` is not reused in subsequent computations, \n",
    "we can also use `x[:] = x + y` or `x += y`\n",
    "to reduce the memory overhead of the operation."
   ]
  },
  {
   "cell_type": "code",
   "execution_count": 23,
   "metadata": {
    "attributes": {
     "classes": [],
     "id": "",
     "n": "24"
    }
   },
   "outputs": [
    {
     "data": {
      "text/plain": [
       "True"
      ]
     },
     "execution_count": 23,
     "metadata": {},
     "output_type": "execute_result"
    }
   ],
   "source": [
    "before = id(x)\n",
    "x += y\n",
    "id(x) == before"
   ]
  },
  {
   "cell_type": "markdown",
   "metadata": {},
   "source": [
    "## Conversion to Other Python Objects\n",
    "\n",
    "Converting an MXNet `ndarray` to a NumPy `ndarray`, or vice versa, is easy.\n",
    "The converted result does not share memory.\n",
    "This minor inconvenience is actually quite important: \n",
    "when you perform operations on the CPU or on GPUs, \n",
    "you do not want MXNet to halt computation, waiting to see\n",
    "whether the NumPy package of Python might want to be doing something else \n",
    "with the same chunk of memory. \n",
    "The `array` and `asnumpy` functions do the trick."
   ]
  },
  {
   "cell_type": "code",
   "execution_count": 24,
   "metadata": {
    "attributes": {
     "classes": [],
     "id": "",
     "n": "25"
    }
   },
   "outputs": [
    {
     "data": {
      "text/plain": [
       "(numpy.ndarray, mxnet.numpy.ndarray)"
      ]
     },
     "execution_count": 24,
     "metadata": {},
     "output_type": "execute_result"
    }
   ],
   "source": [
    "a = x.asnumpy()\n",
    "b = np.array(a)\n",
    "type(a), type(b)"
   ]
  },
  {
   "cell_type": "markdown",
   "metadata": {},
   "source": [
    "To convert a size-$1$ `ndarray` to a Python scalar, \n",
    "we can invoke the `item` function or Python's built-in functions."
   ]
  },
  {
   "cell_type": "code",
   "execution_count": 25,
   "metadata": {},
   "outputs": [
    {
     "data": {
      "text/plain": [
       "(array([3.5]), 3.5, 3.5, 3)"
      ]
     },
     "execution_count": 25,
     "metadata": {},
     "output_type": "execute_result"
    }
   ],
   "source": [
    "a = np.array([3.5])\n",
    "a, a.item(), float(a), int(a)"
   ]
  },
  {
   "cell_type": "markdown",
   "metadata": {},
   "source": [
    "## Summary\n",
    "\n",
    "* MXNet's `ndarray` is an extension to NumPy's `ndarray` \n",
    "  with a few killer advantages that make it suitable for deep learning.\n",
    "* MXNet's `ndarray` provides a variety of functionalities including \n",
    "  basic mathematics operations, broadcasting, indexing, slicing, \n",
    "  memory saving, and conversion to other Python objects.\n",
    "\n",
    "\n",
    "## Exercises\n",
    "\n",
    "1. Run the code in this section. Change the conditional statement `x == y` in this section to `x < y` or `x > y`, and then see what kind of `ndarray` you can get.\n",
    "1. Replace the two `ndarray`s that operate by element in the broadcasting mechanism with other shapes, e.g., three dimensional tensors. Is the result the same as expected?\n",
    "\n",
    "\n",
    "## [Discussions](https://discuss.mxnet.io/t/2316)\n",
    "\n",
    "![](../img/qr_ndarray.svg)"
   ]
  }
 ],
 "metadata": {
  "language_info": {
   "name": "python"
  }
 },
 "nbformat": 4,
 "nbformat_minor": 2
}