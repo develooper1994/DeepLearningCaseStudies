{
 "cells": [
  {
   "cell_type": "markdown",
   "metadata": {},
   "source": [
    "# `d2l` API Document\n",
    "\n",
    ":label:`sec_d2l`\n",
    "\n",
    "\n",
    "The implementations of the following members of the `d2l` package and sections where they are defined and explained can be found in the [source file](https://github.com/d2l-ai/d2l-en/blob/master/d2l/d2l.py)."
   ]
  },
  {
   "cell_type": "markdown",
   "metadata": {},
   "source": [
    "```eval_rst\n",
    "\n",
    ".. automodule:: d2l\n",
    "   :members:\n",
    "   :imported-members:\n",
    "   :noindex:\n",
    "\n",
    "```\n"
   ]
  }
 ],
 "metadata": {
  "language_info": {
   "name": "python"
  }
 },
 "nbformat": 4,
 "nbformat_minor": 2
}