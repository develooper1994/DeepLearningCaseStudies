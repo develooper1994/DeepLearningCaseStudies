{
 "cells": [
  {
   "cell_type": "markdown",
   "metadata": {},
   "source": [
    "# Generative Adversarial Networks\n",
    "\n",
    ":label:`chap_gans`"
   ]
  },
  {
   "cell_type": "markdown",
   "metadata": {},
   "source": [
    " - [gan](gan.ipynb)\n",
    " - [dcgan](dcgan.ipynb)\n"
   ]
  }
 ],
 "metadata": {
  "language_info": {
   "name": "python"
  }
 },
 "nbformat": 4,
 "nbformat_minor": 2
}