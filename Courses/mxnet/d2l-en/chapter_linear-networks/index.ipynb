{
 "cells": [
  {
   "cell_type": "markdown",
   "metadata": {},
   "source": [
    "# Linear Neural Networks\n",
    "\n",
    ":label:`chap_linear`\n",
    "\n",
    "\n",
    "Before we get into the details of deep neural networks, we need to cover the basics of neural network training. In this chapter, we will cover the entire training process, including defining simple neural network architectures, handling data, specifying a loss function, and training the model. In order to make things easier to grasp, we begin with the simplest concepts. Fortunately, classic statistical learning techniques such as linear and logistic regression can be cast as *shallow* neural networks. Starting from these classic algorithms, we will introduce you to the basics, providing the basis for more complex techniques such as softmax regression (introduced at the end of this chapter) and multilayer perceptrons (introduced in the next chapter)."
   ]
  },
  {
   "cell_type": "markdown",
   "metadata": {},
   "source": [
    " - [linear-regression](linear-regression.ipynb)\n",
    " - [linear-regression-scratch](linear-regression-scratch.ipynb)\n",
    " - [linear-regression-gluon](linear-regression-gluon.ipynb)\n",
    " - [softmax-regression](softmax-regression.ipynb)\n",
    " - [image-classification-dataset](image-classification-dataset.ipynb)\n",
    " - [softmax-regression-scratch](softmax-regression-scratch.ipynb)\n",
    " - [softmax-regression-gluon](softmax-regression-gluon.ipynb)\n"
   ]
  }
 ],
 "metadata": {
  "language_info": {
   "name": "python"
  }
 },
 "nbformat": 4,
 "nbformat_minor": 2
}