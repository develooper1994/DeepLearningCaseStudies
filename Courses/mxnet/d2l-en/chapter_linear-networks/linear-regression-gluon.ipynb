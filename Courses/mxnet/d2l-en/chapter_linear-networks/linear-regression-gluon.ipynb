{
 "cells": [
  {
   "cell_type": "markdown",
   "metadata": {},
   "source": [
    "# Concise Implementation of Linear Regression\n",
    "\n",
    ":label:`sec_linear_gluon`\n",
    "\n",
    "\n",
    "Broad and intense interest in deep learning for the past several years\n",
    "has inspired both companies, academics, and hobbyists\n",
    "to develop a variety of mature open source frameworks\n",
    "for automating the repetitive work of implementing\n",
    "gradient-based learning algorithms.\n",
    "In the previous section, we relied only on\n",
    "(i) `ndarray` for data storage and linear algebra;\n",
    "and (ii) `autograd` for calculating derivatives.\n",
    "In practice, because data iterators, loss functions, optimizers,\n",
    "and neural network layers (and some whole architectures)\n",
    "are so common, modern libraries implement these components for us as well.\n",
    "\n",
    "In this section, we will show you how to implement\n",
    "the linear regression model from :numref:`sec_linear_scratch`\n",
    "concisely by using Gluon.\n",
    "\n",
    "## Generating the Dataset\n",
    "\n",
    "To start, we will generate the same dataset as in the previous section."
   ]
  },
  {
   "cell_type": "code",
   "execution_count": 1,
   "metadata": {
    "attributes": {
     "classes": [],
     "id": "",
     "n": "2"
    }
   },
   "outputs": [],
   "source": [
    "import d2l\n",
    "from mxnet import autograd, gluon, np, npx\n",
    "npx.set_np()\n",
    "\n",
    "true_w = np.array([2, -3.4])\n",
    "true_b = 4.2\n",
    "features, labels = d2l.synthetic_data(true_w, true_b, 1000)"
   ]
  },
  {
   "cell_type": "markdown",
   "metadata": {},
   "source": [
    "## Reading the Dataset\n",
    "\n",
    "Rather than rolling our own iterator,\n",
    "we can call upon Gluon's `data` module to read data.\n",
    "The first step will be to instantiate an `ArrayDataset`.\n",
    "This object's constructor takes one or more `ndarray`s as arguments.\n",
    "Here, we pass in `features` and `labels` as arguments.\n",
    "Next, we will use the `ArrayDataset` to instantiate a `DataLoader`,\n",
    "which also requires that we specify a `batch_size`\n",
    "and specify a Boolean value `shuffle` indicating whether or not\n",
    "we want the `DataLoader` to shuffle the data\n",
    "on each epoch (pass through the dataset)."
   ]
  },
  {
   "cell_type": "code",
   "execution_count": 2,
   "metadata": {
    "attributes": {
     "classes": [],
     "id": "",
     "n": "3"
    }
   },
   "outputs": [],
   "source": [
    "# Saved in the d2l package for later use\n",
    "def load_array(data_arrays, batch_size, is_train=True):\n",
    "    \"\"\"Construct a Gluon data loader\"\"\"\n",
    "    dataset = gluon.data.ArrayDataset(*data_arrays)\n",
    "    return gluon.data.DataLoader(dataset, batch_size, shuffle=is_train)\n",
    "\n",
    "batch_size = 10\n",
    "data_iter = load_array((features, labels), batch_size)"
   ]
  },
  {
   "cell_type": "markdown",
   "metadata": {},
   "source": [
    "Now we can use `data_iter` in much the same way as we called\n",
    "the `data_iter` function in the previous section.\n",
    "To verify that it is working, we can read and print\n",
    "the first minibatch of instances."
   ]
  },
  {
   "cell_type": "code",
   "execution_count": 3,
   "metadata": {
    "attributes": {
     "classes": [],
     "id": "",
     "n": "5"
    }
   },
   "outputs": [
    {
     "name": "stdout",
     "output_type": "stream",
     "text": [
      "[[-1.2050971  -1.7693231 ]\n",
      " [ 0.434668   -1.0358013 ]\n",
      " [ 0.25945112  0.4179527 ]\n",
      " [-0.90495086  1.006219  ]\n",
      " [-0.28282833  0.08104636]\n",
      " [ 0.71321625  0.85190713]\n",
      " [-0.3931961   0.81664836]\n",
      " [-0.34304565  0.9344402 ]\n",
      " [-0.77569664 -2.5074806 ]\n",
      " [-1.0348833   0.11296888]] \n",
      " [ 7.8161397   8.581118    3.3004293  -1.0132741   3.3617432   2.7378514\n",
      "  0.63570935  0.3322031  11.179166    1.7331711 ]\n"
     ]
    }
   ],
   "source": [
    "for X, y in data_iter:\n",
    "    print(X, '\\n', y)\n",
    "    break"
   ]
  },
  {
   "cell_type": "markdown",
   "metadata": {},
   "source": [
    "## Defining the Model\n",
    "\n",
    "When we implemented linear regression from scratch\n",
    "(in :numref:`sec_linear_scratch`),\n",
    "we defined our model parameters explicitly\n",
    "and coded up the calculations to produce output\n",
    "using basic linear algebra operations.\n",
    "You *should* know how to do this.\n",
    "But once your models get more complex,\n",
    "and once you have to do this nearly every day,\n",
    "you will be glad for the assistance.\n",
    "The situation is similar to coding up your own blog from scratch.\n",
    "Doing it once or twice is rewarding and instructive,\n",
    "but you would be a lousy web developer\n",
    "if every time you needed a blog you spent a month\n",
    "reinventing the wheel.\n",
    "\n",
    "For standard operations, we can use Gluon's predefined layers,\n",
    "which allow us to focus especially\n",
    "on the layers used to construct the model\n",
    "rather than having to focus on the implementation.\n",
    "To define a linear model, we first import the `nn` module,\n",
    "which defines a large number of neural network layers\n",
    "(note that \"nn\" is an abbreviation for neural networks).\n",
    "We will first define a model variable `net`,\n",
    "which will refer to an instance of the `Sequential` class.\n",
    "In Gluon, `Sequential` defines a container\n",
    "for several layers that will be chained together.\n",
    "Given input data, a `Sequential` passes it through\n",
    "the first layer, in turn passing the output\n",
    "as the second layer's input and so forth.\n",
    "In the following example, our model consists of only one layer,\n",
    "so we do not really need `Sequential`.\n",
    "But since nearly all of our future models\n",
    "will involve multiple layers,\n",
    "we will use it anyway just to familiarize you\n",
    "with the most standard workflow."
   ]
  },
  {
   "cell_type": "code",
   "execution_count": 4,
   "metadata": {
    "attributes": {
     "classes": [],
     "id": "",
     "n": "5"
    }
   },
   "outputs": [],
   "source": [
    "from mxnet.gluon import nn\n",
    "net = nn.Sequential()"
   ]
  },
  {
   "cell_type": "markdown",
   "metadata": {},
   "source": [
    "Recall the architecture of a single-layer network as shown in :numref:`fig_singleneuron`.\n",
    "The layer is said to be *fully-connected*\n",
    "because each of its inputs are connected to each of its outputs\n",
    "by means of a matrix-vector multiplication.\n",
    "In Gluon, the fully-connected layer is defined in the `Dense` class.\n",
    "Since we only want to generate a single scalar output,\n",
    "we set that number to $1$.\n",
    "\n",
    "![Linear regression is a single-layer neural network. ](../img/singleneuron.svg)\n",
    "\n",
    ":label:`fig_singleneuron`"
   ]
  },
  {
   "cell_type": "code",
   "execution_count": 5,
   "metadata": {
    "attributes": {
     "classes": [],
     "id": "",
     "n": "6"
    }
   },
   "outputs": [],
   "source": [
    "net.add(nn.Dense(1))"
   ]
  },
  {
   "cell_type": "markdown",
   "metadata": {},
   "source": [
    "It is worth noting that, for convenience,\n",
    "Gluon does not require us to specify\n",
    "the input shape for each layer.\n",
    "So here, we do not need to tell Gluon\n",
    "how many inputs go into this linear layer.\n",
    "When we first try to pass data through our model,\n",
    "e.g., when we execute `net(X)` later,\n",
    "Gluon will automatically infer the number of inputs to each layer.\n",
    "We will describe how this works in more detail\n",
    "in the chapter \"Deep Learning Computation\".\n",
    "\n",
    "\n",
    "## Initializing Model Parameters\n",
    "\n",
    "Before using `net`, we need to initialize the model parameters,\n",
    "such as the weights and biases in the linear regression model.\n",
    "We will import the `initializer` module from MXNet.\n",
    "This module provides various methods for model parameter initialization.\n",
    "Gluon makes `init` available as a shortcut (abbreviation)\n",
    "to access the `initializer` package.\n",
    "By calling `init.Normal(sigma=0.01)`,\n",
    "we specify that each *weight* parameter\n",
    "should be randomly sampled from a normal distribution\n",
    "with mean $0$ and standard deviation $0.01$.\n",
    "The *bias* parameter will be initialized to zero by default.\n",
    "Both the weight vector and bias will have attached gradients."
   ]
  },
  {
   "cell_type": "code",
   "execution_count": 6,
   "metadata": {
    "attributes": {
     "classes": [],
     "id": "",
     "n": "7"
    }
   },
   "outputs": [],
   "source": [
    "from mxnet import init\n",
    "net.initialize(init.Normal(sigma=0.01))"
   ]
  },
  {
   "cell_type": "markdown",
   "metadata": {},
   "source": [
    "The code above may look straightforward but you should note\n",
    "that something strange is happening here.\n",
    "We are initializing parameters for a network\n",
    "even though Gluon does not yet know\n",
    "how many dimensions the input will have!\n",
    "It might be $2$ as in our example or it might be $2000$.\n",
    "Gluon lets us get away with this because behind the scenes,\n",
    "the initialization is actually *deferred*.\n",
    "The real initialization will take place only\n",
    "when we for the first time attempt to pass data through the network.\n",
    "Just be careful to remember that since the parameters\n",
    "have not been initialized yet,\n",
    "we cannot access or manipulate them.\n",
    "\n",
    "\n",
    "## Defining the Loss Function\n",
    "\n",
    "In Gluon, the `loss` module defines various loss functions.\n",
    "We will use the imported module `loss` with the pseudonym `gloss`,\n",
    "to avoid confusing it for the variable\n",
    "holding our chosen loss function.\n",
    "In this example, we will use the Gluon\n",
    "implementation of squared loss (`L2Loss`)."
   ]
  },
  {
   "cell_type": "code",
   "execution_count": 7,
   "metadata": {
    "attributes": {
     "classes": [],
     "id": "",
     "n": "8"
    }
   },
   "outputs": [],
   "source": [
    "from mxnet.gluon import loss as gloss\n",
    "loss = gloss.L2Loss()  # The squared loss is also known as the L2 norm loss"
   ]
  },
  {
   "cell_type": "markdown",
   "metadata": {},
   "source": [
    "## Defining the Optimization Algorithm\n",
    "\n",
    "Minibatch SGD and related variants\n",
    "are standard tools for optimizing neural networks\n",
    "and thus Gluon supports SGD alongside a number of\n",
    "variations on this algorithm through its `Trainer` class.\n",
    "When we instantiate the `Trainer`,\n",
    "we will specify the parameters to optimize over\n",
    "(obtainable from our net via `net.collect_params()`),\n",
    "the optimization algorithm we wish to use (`sgd`),\n",
    "and a dictionary of hyper-parameters\n",
    "required by our optimization algorithm.\n",
    "SGD just requires that we set the value `learning_rate`,\n",
    "(here we set it to 0.03)."
   ]
  },
  {
   "cell_type": "code",
   "execution_count": 8,
   "metadata": {
    "attributes": {
     "classes": [],
     "id": "",
     "n": "9"
    }
   },
   "outputs": [],
   "source": [
    "from mxnet import gluon\n",
    "trainer = gluon.Trainer(net.collect_params(), 'sgd', {'learning_rate': 0.03})"
   ]
  },
  {
   "cell_type": "markdown",
   "metadata": {},
   "source": [
    "## Training\n",
    "\n",
    "You might have noticed that expressing our model through Gluon\n",
    "requires comparatively few lines of code.\n",
    "We did not have to individually allocate parameters,\n",
    "define our loss function, or implement stochastic gradient descent.\n",
    "Once we start working with much more complex models,\n",
    "Gluon's advantages will grow considerably.\n",
    "However, once we have all the basic pieces in place,\n",
    "the training loop itself is strikingly similar\n",
    "to what we did when implementing everything from scratch.\n",
    "\n",
    "To refresh your memory: for some number of epochs,\n",
    "we will make a complete pass over the dataset (train_data),\n",
    "iteratively grabbing one minibatch of inputs\n",
    "and the corresponding ground-truth labels.\n",
    "For each minibatch, we go through the following ritual:\n",
    "\n",
    "* Generate predictions by calling `net(X)` and calculate the loss `l` (the forward pass).\n",
    "* Calculate gradients by calling `l.backward()` (the backward pass).\n",
    "* Update the model parameters by invoking our SGD optimizer (note that `trainer` already knows which parameters to optimize over, so we just need to pass in the minibatch size.\n",
    "\n",
    "For good measure, we compute the loss after each epoch and print it to monitor progress."
   ]
  },
  {
   "cell_type": "code",
   "execution_count": 9,
   "metadata": {
    "attributes": {
     "classes": [],
     "id": "",
     "n": "10"
    }
   },
   "outputs": [
    {
     "name": "stdout",
     "output_type": "stream",
     "text": [
      "epoch 1, loss: 0.025286\n",
      "epoch 2, loss: 0.000091\n"
     ]
    },
    {
     "name": "stdout",
     "output_type": "stream",
     "text": [
      "epoch 3, loss: 0.000052\n"
     ]
    }
   ],
   "source": [
    "num_epochs = 3\n",
    "for epoch in range(1, num_epochs + 1):\n",
    "    for X, y in data_iter:\n",
    "        with autograd.record():\n",
    "            l = loss(net(X), y)\n",
    "        l.backward()\n",
    "        trainer.step(batch_size)\n",
    "    l = loss(net(features), labels)\n",
    "    print('epoch %d, loss: %f' % (epoch, l.mean().asnumpy()))"
   ]
  },
  {
   "cell_type": "markdown",
   "metadata": {},
   "source": [
    "Below, we compare the model parameters learned by training on finite data\n",
    "and the actual parameters that generated our dataset.\n",
    "To access parameters with Gluon,\n",
    "we first access the layer that we need from `net`\n",
    "and then access that layer's weight (`weight`) and bias (`bias`).\n",
    "To access each parameter's values as an `ndarray`,\n",
    "we invoke its `data` method.\n",
    "As in our from-scratch implementation,\n",
    "note that our estimated parameters are\n",
    "close to their ground truth counterparts."
   ]
  },
  {
   "cell_type": "code",
   "execution_count": 10,
   "metadata": {
    "attributes": {
     "classes": [],
     "id": "",
     "n": "12"
    }
   },
   "outputs": [
    {
     "name": "stdout",
     "output_type": "stream",
     "text": [
      "Error in estimating w [[ 4.3499470e-04 -2.8371811e-05]]\n",
      "Error in estimating b [0.00126076]\n"
     ]
    }
   ],
   "source": [
    "w = net[0].weight.data()\n",
    "print('Error in estimating w', true_w.reshape(w.shape) - w)\n",
    "b = net[0].bias.data()\n",
    "print('Error in estimating b', true_b - b)"
   ]
  },
  {
   "cell_type": "markdown",
   "metadata": {},
   "source": [
    "## Summary\n",
    "\n",
    "* Using Gluon, we can implement models much more succinctly.\n",
    "* In Gluon, the `data` module provides tools for data processing, the `nn` module defines a large number of neural network layers, and the `loss` module defines many common loss functions.\n",
    "* MXNet's module `initializer` provides various methods for model parameter initialization.\n",
    "* Dimensionality and storage are automatically inferred (but be careful not to attempt to access parameters before they have been initialized).\n",
    "\n",
    "\n",
    "## Exercises\n",
    "\n",
    "1. If we replace `l = loss(output, y)` with `l = loss(output, y).mean()`, we need to change `trainer.step(batch_size)` to `trainer.step(1)` for the code to behave identically. Why?\n",
    "1. Review the MXNet documentation to see what loss functions and initialization methods are provided in the modules `gluon.loss` and `init`. Replace the loss by Huber's loss.\n",
    "1. How do you access the gradient of `dense.weight`?\n",
    "\n",
    "## [Discussions](https://discuss.mxnet.io/t/2333)\n",
    "\n",
    "![](../img/qr_linear-regression-gluon.svg)"
   ]
  }
 ],
 "metadata": {
  "language_info": {
   "name": "python"
  }
 },
 "nbformat": 4,
 "nbformat_minor": 2
}