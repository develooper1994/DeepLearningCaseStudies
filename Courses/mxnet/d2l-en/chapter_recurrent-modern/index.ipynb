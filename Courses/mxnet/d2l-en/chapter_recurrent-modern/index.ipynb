{
 "cells": [
  {
   "cell_type": "markdown",
   "metadata": {},
   "source": [
    "# Modern Recurrent Neural Networks\n",
    "\n",
    ":label:`chap_modern_rnn`\n",
    "\n",
    "\n",
    "Although we have learned the basics of recurrent neural networks,\n",
    "they are not sufficient for a practitioner to solve today's sequence learning problems.\n",
    "For instance, given the numerical unstability during gradient calculation,\n",
    "gated recurrent neural networks are much more common in practice.\n",
    "We will begin by introducing two of such widely-used networks,\n",
    "namely gated recurrent units (GRUs) and long short term memory (LSTM),\n",
    "with illustrations using the same language modeling problem as introduced in :numref:`chap_rnn`.\n",
    "\n",
    "Furthermore, we will modify recurrent neural networks\n",
    "with a single undirectional hidden layer.\n",
    "We will describe deep architectures,\n",
    "and discuss the bidirectional design with both forward and backward recursion.\n",
    "They are frequently adopted in modern recurrent networks.\n",
    "\n",
    "\n",
    "In fact, a large portion of sequence learning problems\n",
    "such as automatic speech recognition, text to speech, and machine translation,\n",
    "consider both inputs and outputs to be sequences of arbitrary length.\n",
    "Finally, we will take machine translation as an example,\n",
    "and introduce the encoder-decoder architecture based on\n",
    "recurrent neural networks and modern practices for such sequence to sequence learning problems."
   ]
  },
  {
   "cell_type": "markdown",
   "metadata": {},
   "source": [
    " - [gru](gru.ipynb)\n",
    " - [lstm](lstm.ipynb)\n",
    " - [deep-rnn](deep-rnn.ipynb)\n",
    " - [bi-rnn](bi-rnn.ipynb)\n",
    " - [machine-translation-and-dataset](machine-translation-and-dataset.ipynb)\n",
    " - [encoder-decoder](encoder-decoder.ipynb)\n",
    " - [seq2seq](seq2seq.ipynb)\n",
    " - [beam-search](beam-search.ipynb)\n"
   ]
  }
 ],
 "metadata": {
  "language_info": {
   "name": "python"
  }
 },
 "nbformat": 4,
 "nbformat_minor": 2
}