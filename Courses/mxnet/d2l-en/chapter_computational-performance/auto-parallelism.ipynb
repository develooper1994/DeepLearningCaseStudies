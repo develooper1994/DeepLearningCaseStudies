{
 "cells": [
  {
   "cell_type": "markdown",
   "metadata": {},
   "source": [
    "# Automatic Parallelism\n",
    "\n",
    ":label:`sec_auto_para`\n",
    "\n",
    "\n",
    "MXNet automatically constructs computational graphs at the backend. Using a\n",
    "computational graph, the system is aware of all the dependencies,\n",
    "and can selectively execute multiple non-interdependent tasks in parallel to\n",
    "improve speed. For instance, :numref:`fig_asyncgraph` in :numref:`sec_async` initializes two variables independently. Consequently the system can choose to execute them in parallel.\n",
    "\n",
    "Typically, a single operator will use all the computational resources on all CPUs or on a single GPU. For example, the `dot` operator will use all cores (and threads) on all CPUs, even if there are multiple CPU processors on a single machine. The same applies to a single GPU. Hence parallelization is not quite so useful single-device computers. With multiple devices things matter more. While parallelization is typically most relevant between multiple GPUs, adding the local CPU will increase performance slightly. See e.g., :cite:`Hadjis.Zhang.Mitliagkas.ea.2016` for a paper that focuses on training computer vision models combining a GPU and a CPU. With the convenience of an automatically parallelizing framework we can accomplish the same goal in a few lines of Python code. More broadly, our discussion of automatic parallel computation focuses on parallel computation using both CPUs and GPUs, as well as the parallelization of computation and communication.\n",
    "We begin by importing the required packages and modules. Note that we need at least one GPU to run the experiments in this section."
   ]
  },
  {
   "cell_type": "code",
   "execution_count": 1,
   "metadata": {},
   "outputs": [],
   "source": [
    "import d2l\n",
    "from mxnet import np, npx\n",
    "npx.set_np()"
   ]
  },
  {
   "cell_type": "markdown",
   "metadata": {},
   "source": [
    "## Parallel Computation on CPUs and GPUs\n",
    "\n",
    "Let us start by defining a reference workload to test - the `run` function below performs 10 matrix-matrix multiplications on the device of our choosing using data allocated into two variables, `x_cpu` and `x_gpu`."
   ]
  },
  {
   "cell_type": "code",
   "execution_count": 2,
   "metadata": {},
   "outputs": [],
   "source": [
    "def run(x):\n",
    "    return [x.dot(x) for _ in range(10)]\n",
    "\n",
    "x_cpu = np.random.uniform(size=(2000, 2000))\n",
    "x_gpu = np.random.uniform(size=(6000, 6000), ctx=d2l.try_gpu())"
   ]
  },
  {
   "cell_type": "markdown",
   "metadata": {},
   "source": [
    "Now we apply the function to the data. To ensure that caching does not play a role in the results we warm up the devices by performing a single pass on each of them prior to measuring."
   ]
  },
  {
   "cell_type": "code",
   "execution_count": 3,
   "metadata": {},
   "outputs": [
    {
     "name": "stdout",
     "output_type": "stream",
     "text": [
      "CPU time: 0.3179 sec\n"
     ]
    },
    {
     "name": "stdout",
     "output_type": "stream",
     "text": [
      "GPU time: 0.3069 sec\n"
     ]
    }
   ],
   "source": [
    "run(x_cpu)  # Warm-up both devices\n",
    "run(x_gpu)\n",
    "npx.waitall()  \n",
    "\n",
    "with d2l.benchmark('CPU time: %.4f sec'):\n",
    "    run(x_cpu)\n",
    "    npx.waitall()\n",
    "\n",
    "with d2l.benchmark('GPU time: %.4f sec'):\n",
    "    run(x_gpu)\n",
    "    npx.waitall()"
   ]
  },
  {
   "cell_type": "markdown",
   "metadata": {},
   "source": [
    "If we remove the `waitall()` between both tasks the system is free to parallelize computation on both devices automatically."
   ]
  },
  {
   "cell_type": "code",
   "execution_count": 4,
   "metadata": {},
   "outputs": [
    {
     "name": "stdout",
     "output_type": "stream",
     "text": [
      "CPU&GPU : 0.3987 sec\n"
     ]
    }
   ],
   "source": [
    "with d2l.benchmark('CPU&GPU : %.4f sec'):\n",
    "    run(x_cpu)\n",
    "    run(x_gpu)\n",
    "    npx.waitall()"
   ]
  },
  {
   "cell_type": "markdown",
   "metadata": {},
   "source": [
    "In the above case the total execution time is less than the sum of its parts, since MXNet automatically schedules computation on both CPU and GPU devices without the need for sophisticated code on behalf of the user. \n",
    "\n",
    "## Parallel Computation and Communication\n",
    "\n",
    "In many cases we need to move data between different devices, say between CPU and GPU, or between different GPUs. This occurs e.g., when we want to perform distributed optimization where we need to aggregate the gradients over multiple accelerator cards. Let us simulate this by computing on the GPU and then copying the results back to the CPU."
   ]
  },
  {
   "cell_type": "code",
   "execution_count": 5,
   "metadata": {},
   "outputs": [
    {
     "name": "stdout",
     "output_type": "stream",
     "text": [
      "Run  on GPU: 0.3113 sec\n"
     ]
    },
    {
     "name": "stdout",
     "output_type": "stream",
     "text": [
      "Copy to CPU: 1.0699 sec\n"
     ]
    }
   ],
   "source": [
    "def copy_to_cpu(x):\n",
    "    return [y.copyto(npx.cpu()) for y in x]\n",
    "\n",
    "with d2l.benchmark('Run  on GPU: %.4f sec'):\n",
    "    y = run(x_gpu)\n",
    "    npx.waitall()\n",
    "\n",
    "with d2l.benchmark('Copy to CPU: %.4f sec'):\n",
    "    y_cpu = copy_to_cpu(y)\n",
    "    npx.waitall()"
   ]
  },
  {
   "cell_type": "markdown",
   "metadata": {},
   "source": [
    "This is somewhat inefficient. Note that we could already start copying parts of `y` to the CPU while the remainder of the list is still being computed. This situatio occurs, e.g., when we compute the (backprop) gradient on a minibatch. The gradients of some of the parameters will be available earlier than that of others. Hence it works to our advantage to start using PCI-Express bus bandwidth while the GPU is still running. Removing `waitall` between both parts allows us to simulate this scenario."
   ]
  },
  {
   "cell_type": "code",
   "execution_count": 6,
   "metadata": {},
   "outputs": [
    {
     "name": "stdout",
     "output_type": "stream",
     "text": [
      "Run on GPU and copy to CPU: 1.2024 sec\n"
     ]
    }
   ],
   "source": [
    "with d2l.benchmark('Run on GPU and copy to CPU: %.4f sec'):\n",
    "    y = run(x_gpu)\n",
    "    y_cpu = copy_to_cpu(y)\n",
    "    npx.waitall()"
   ]
  },
  {
   "cell_type": "markdown",
   "metadata": {},
   "source": [
    "The total time required for both operations is (as expected) significantly less than the sum of their parts. Note that this task is different from parallel computation as it uses a different resource: the bus between CPU and GPUs. In fact, we could compute on both devices and communicate, all at the same time. As noted above, there is a dependency between computation and communication: `y[i]` must be computed before it can be copied to the CPU. Fortunately, the system can copy `y[i-1]` while computing `y[i]` to reduce the total running time.\n",
    "\n",
    "We conclude with an illustration of the computational graph and its dependencies for a simple two-layer MLP when training on a CPU and two GPUs, as depicted in :numref:`fig_twogpu`. It would be quite painful to schedule the parallel program resulting from this manually. This is where it is advantageous to have a graph based compute backend for optimization.\n",
    "\n",
    "![Two layer MLP on a CPU and 2 GPUs.](../img/twogpu.svg)\n",
    "\n",
    ":label:`fig_twogpu`\n",
    "\n",
    "\n",
    "## Summary\n",
    "\n",
    "* Modern systems have a variety of devices, such as multiple GPUs and CPUs. They can be used in parallel, asynchronously. \n",
    "* Modern systems also have a variety of resources for communication, such as PCI Express, storage (typically SSD or via network), and network bandwidth. They can be used in parallel for peak efficiency. \n",
    "* The backend can improve performance through through automatic parallel computation and communication. \n",
    "\n",
    "## Exercises\n",
    "\n",
    "1. 10 operations were performed in the `run` function defined in this section. There are no dependencies between them. Design an experiment to see if MXNet will automatically execute them in parallel.\n",
    "1. When the workload of an individual operator is sufficiently small, parallelization can help even on a single CPU or GPU. Design an experiment to verify this. \n",
    "1. Design an experiment that uses parallel computation on CPU, GPU and communication between both devices.\n",
    "1. Use a debugger such as NVIDIA's Nsight to verify that your code is efficient. \n",
    "1. Designing computation tasks that include more complex data dependencies, and run experiments to see if you can obtain the correct results while improving performance.\n",
    "\n",
    "## [Discussions](https://discuss.mxnet.io/t/2382)\n",
    "\n",
    "![](../img/qr_auto-parallelism.svg)"
   ]
  }
 ],
 "metadata": {
  "language_info": {
   "name": "python"
  }
 },
 "nbformat": 4,
 "nbformat_minor": 2
}