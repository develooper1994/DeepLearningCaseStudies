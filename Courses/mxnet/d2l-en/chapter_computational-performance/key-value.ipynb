{
 "cells": [
  {
   "cell_type": "markdown",
   "metadata": {},
   "source": [
    "# Distributed Key-Value Store\n",
    "\n",
    ":label:`sec_key_value`\n",
    "\n",
    "\n",
    "KVStore is a place for data sharing. Think of it as a single object shared across different devices (GPUs and computers), where each device can push data in and pull data out.\n",
    "\n",
    "## Initialization\n",
    "Let’s consider a simple example: initializing a (int, NDArray) pair into the store, and then pulling the value out:"
   ]
  },
  {
   "cell_type": "code",
   "execution_count": 1,
   "metadata": {
    "attributes": {
     "classes": [],
     "id": "",
     "n": "1"
    }
   },
   "outputs": [],
   "source": [
    "import d2l\n",
    "from mxnet import np, npx, kv\n",
    "npx.set_np()"
   ]
  },
  {
   "cell_type": "code",
   "execution_count": 2,
   "metadata": {
    "attributes": {
     "classes": [],
     "id": "",
     "n": "2"
    }
   },
   "outputs": [
    {
     "data": {
      "text/plain": [
       "array([[1., 1., 1.],\n",
       "       [1., 1., 1.]])"
      ]
     },
     "execution_count": 2,
     "metadata": {},
     "output_type": "execute_result"
    }
   ],
   "source": [
    "np.ones((2,3))"
   ]
  },
  {
   "cell_type": "code",
   "execution_count": 3,
   "metadata": {
    "attributes": {
     "classes": [],
     "id": "",
     "n": "11"
    }
   },
   "outputs": [
    {
     "name": "stdout",
     "output_type": "stream",
     "text": [
      "Help on module mxnet.kvstore in mxnet:\n",
      "\n",
      "NAME\n",
      "    mxnet.kvstore - Key value store interface of MXNet for parameter synchronization.\n",
      "\n",
      "CLASSES\n",
      "    builtins.object\n",
      "        KVStore\n",
      "    \n",
      "    class KVStore(builtins.object)\n",
      "     |  KVStore(handle)\n",
      "     |  \n",
      "     |  A key-value store for synchronization of values, over multiple devices.\n",
      "     |  \n",
      "     |  Methods defined here:\n",
      "     |  \n",
      "     |  __del__(self)\n",
      "     |  \n",
      "     |  __init__(self, handle)\n",
      "     |      Initializes a new KVStore.\n",
      "     |      \n",
      "     |      Parameters\n",
      "     |      ----------\n",
      "     |      handle : KVStoreHandle\n",
      "     |          `KVStore` handle of C API.\n",
      "     |  \n",
      "     |  init(self, key, value)\n",
      "     |      Initializes a single or a sequence of key-value pairs into the store.\n",
      "     |      \n",
      "     |      For each key, one must `init` it before calling `push` or `pull`.\n",
      "     |      When multiple workers invoke `init` for the same key, only\n",
      "     |      the value supplied by worker with rank `0` is used. This function returns\n",
      "     |      after data has been initialized successfully.\n",
      "     |      \n",
      "     |      Parameters\n",
      "     |      ----------\n",
      "     |      key : str, int, or sequence of str or int\n",
      "     |          The keys.\n",
      "     |      value : NDArray, RowSparseNDArray or sequence of NDArray or RowSparseNDArray\n",
      "     |          Values corresponding to the keys.\n",
      "     |      \n",
      "     |      Examples\n",
      "     |      --------\n",
      "     |      >>> # init a single key-value pair\n",
      "     |      >>> shape = (2,3)\n",
      "     |      >>> kv = mx.kv.create('local')\n",
      "     |      >>> kv.init('3', mx.nd.ones(shape)*2)\n",
      "     |      >>> a = mx.nd.zeros(shape)\n",
      "     |      >>> kv.pull('3', out=a)\n",
      "     |      >>> print a.asnumpy()\n",
      "     |      [[ 2.  2.  2.]\n",
      "     |      [ 2.  2.  2.]]\n",
      "     |      \n",
      "     |      >>> # init a list of key-value pairs\n",
      "     |      >>> keys = ['5', '7', '9']\n",
      "     |      >>> kv.init(keys, [mx.nd.ones(shape)]*len(keys))\n",
      "     |      \n",
      "     |      >>> # init a row_sparse value\n",
      "     |      >>> kv.init('4', mx.nd.ones(shape).tostype('row_sparse'))\n",
      "     |      >>> b = mx.nd.sparse.zeros('row_sparse', shape)\n",
      "     |      >>> kv.row_sparse_pull('4', row_ids=mx.nd.array([0, 1]), out=b)\n",
      "     |      >>> print b\n",
      "     |      <RowSparseNDArray 2x3 @cpu(0)>\n",
      "     |  \n",
      "     |  load_optimizer_states(self, fname)\n",
      "     |      Loads the optimizer (updater) state from the file.\n",
      "     |      \n",
      "     |      Parameters\n",
      "     |      ----------\n",
      "     |      fname : str\n",
      "     |          Path to input states file.\n",
      "     |  \n",
      "     |  pull(self, key, out=None, priority=0, ignore_sparse=True)\n",
      "     |      Pulls a single value or a sequence of values from the store.\n",
      "     |      \n",
      "     |      This function returns immediately after adding an operator to the engine.\n",
      "     |      Subsequent attempts to read from the `out` variable will be blocked until the\n",
      "     |      pull operation completes.\n",
      "     |      \n",
      "     |      `pull` is executed asynchronously after all previous `pull` calls and only\n",
      "     |      the last `push` call for the same input key(s) are finished.\n",
      "     |      \n",
      "     |      The returned values are guaranteed to be the latest values in the store.\n",
      "     |      \n",
      "     |      pull with `RowSparseNDArray` is not supported for dist kvstore.\n",
      "     |      Please use ``row_sparse_pull`` instead.\n",
      "     |      \n",
      "     |      Parameters\n",
      "     |      ----------\n",
      "     |      key : str, int, or sequence of str or int\n",
      "     |          Keys.\n",
      "     |      \n",
      "     |      out: NDArray or list of NDArray or list of list of NDArray\n",
      "     |          Values corresponding to the keys.\n",
      "     |      \n",
      "     |      priority : int, optional\n",
      "     |          The priority of the pull operation.\n",
      "     |          Higher priority pull operations are likely to be executed before\n",
      "     |          other pull actions.\n",
      "     |      \n",
      "     |      ignore_sparse: bool, optional, default True\n",
      "     |          Whether to ignore sparse arrays in the request.\n",
      "     |      \n",
      "     |      Examples\n",
      "     |      --------\n",
      "     |      >>> # pull a single key-value pair\n",
      "     |      >>> a = mx.nd.zeros(shape)\n",
      "     |      >>> kv.pull('3', out=a)\n",
      "     |      >>> print a.asnumpy()\n",
      "     |      [[ 2.  2.  2.]\n",
      "     |      [ 2.  2.  2.]]\n",
      "     |      \n",
      "     |      >>> # pull into multiple devices\n",
      "     |      >>> b = [mx.nd.ones(shape, gpu) for gpu in gpus]\n",
      "     |      >>> kv.pull('3', out=b)\n",
      "     |      >>> print b[1].asnumpy()\n",
      "     |      [[ 2.  2.  2.]\n",
      "     |      [ 2.  2.  2.]]\n",
      "     |      \n",
      "     |      >>> # pull a list of key-value pairs.\n",
      "     |      >>> # On single device\n",
      "     |      >>> keys = ['5', '7', '9']\n",
      "     |      >>> b = [mx.nd.zeros(shape)]*len(keys)\n",
      "     |      >>> kv.pull(keys, out=b)\n",
      "     |      >>> print b[1].asnumpy()\n",
      "     |      [[ 2.  2.  2.]\n",
      "     |      [ 2.  2.  2.]]\n",
      "     |      >>> # On multiple devices\n",
      "     |      >>> keys = ['6', '8', '10']\n",
      "     |      >>> b = [[mx.nd.ones(shape, gpu) for gpu in gpus]] * len(keys)\n",
      "     |      >>> kv.pull(keys, out=b)\n",
      "     |      >>> print b[1][1].asnumpy()\n",
      "     |      [[ 2.  2.  2.]\n",
      "     |      [ 2.  2.  2.]]\n",
      "     |  \n",
      "     |  push(self, key, value, priority=0)\n",
      "     |      Pushes a single or a sequence of key-value pairs into the store.\n",
      "     |      \n",
      "     |      This function returns immediately after adding an operator to the engine.\n",
      "     |      The actual operation is executed asynchronously. If there are consecutive\n",
      "     |      pushes to the same key, there is no guarantee on the serialization of pushes.\n",
      "     |      The execution of a push does not guarantee that all previous pushes are\n",
      "     |      finished.\n",
      "     |      There is no synchronization between workers.\n",
      "     |      One can use ``_barrier()`` to sync all workers.\n",
      "     |      \n",
      "     |      Parameters\n",
      "     |      ----------\n",
      "     |      key : str, int, or sequence of str or int\n",
      "     |          Keys.\n",
      "     |      \n",
      "     |      value : NDArray, RowSparseNDArray, list of NDArray or RowSparseNDArray,\n",
      "     |              or list of list of NDArray or RowSparseNDArray\n",
      "     |          Values corresponding to the keys.\n",
      "     |      \n",
      "     |      priority : int, optional\n",
      "     |          The priority of the push operation.\n",
      "     |          Higher priority push operations are likely to be executed before\n",
      "     |          other push actions.\n",
      "     |      \n",
      "     |      Examples\n",
      "     |      --------\n",
      "     |      >>> # push a single key-value pair\n",
      "     |      >>> kv.push('3', mx.nd.ones(shape)*8)\n",
      "     |      >>> kv.pull('3', out=a) # pull out the value\n",
      "     |      >>> print a.asnumpy()\n",
      "     |      [[ 8.  8.  8.]\n",
      "     |      [ 8.  8.  8.]]\n",
      "     |      \n",
      "     |      >>> # aggregate the value and the push\n",
      "     |      >>> gpus = [mx.gpu(i) for i in range(4)]\n",
      "     |      >>> b = [mx.nd.ones(shape, gpu) for gpu in gpus]\n",
      "     |      >>> kv.push('3', b)\n",
      "     |      >>> kv.pull('3', out=a)\n",
      "     |      >>> print a.asnumpy()\n",
      "     |      [[ 4.  4.  4.]\n",
      "     |      [ 4.  4.  4.]]\n",
      "     |      \n",
      "     |      >>> # push a list of keys.\n",
      "     |      >>> # single device\n",
      "     |      >>> keys = ['4', '5', '6']\n",
      "     |      >>> kv.push(keys, [mx.nd.ones(shape)]*len(keys))\n",
      "     |      >>> b = [mx.nd.zeros(shape)]*len(keys)\n",
      "     |      >>> kv.pull(keys, out=b)\n",
      "     |      >>> print b[1].asnumpy()\n",
      "     |      [[ 1.  1.  1.]\n",
      "     |      [ 1.  1.  1.]]\n",
      "     |      \n",
      "     |      >>> # multiple devices:\n",
      "     |      >>> keys = ['7', '8', '9']\n",
      "     |      >>> b = [[mx.nd.ones(shape, gpu) for gpu in gpus]] * len(keys)\n",
      "     |      >>> kv.push(keys, b)\n",
      "     |      >>> kv.pull(keys, out=b)\n",
      "     |      >>> print b[1][1].asnumpy()\n",
      "     |      [[ 4.  4.  4.]\n",
      "     |      [ 4.  4.  4.]]\n",
      "     |      \n",
      "     |      >>> # push a row_sparse value\n",
      "     |      >>> b = mx.nd.sparse.zeros('row_sparse', shape)\n",
      "     |      >>> kv.init('10', mx.nd.sparse.zeros('row_sparse', shape))\n",
      "     |      >>> kv.push('10', mx.nd.ones(shape).tostype('row_sparse'))\n",
      "     |      >>> # pull out the value\n",
      "     |      >>> kv.row_sparse_pull('10', row_ids=mx.nd.array([0, 1]), out=b)\n",
      "     |      >>> print b\n",
      "     |      <RowSparseNDArray 2x3 @cpu(0)>\n",
      "     |  \n",
      "     |  pushpull(self, key, value, out=None, priority=0)\n",
      "     |      Performs push and pull a single value or a sequence of values from the store.\n",
      "     |      \n",
      "     |      This function is coalesced form of push and pull operations. This function returns\n",
      "     |      immediately after adding an operator to the engine. Subsequent attempts to read\n",
      "     |      from the `out` variable will be blocked until the pull operation completes.\n",
      "     |      \n",
      "     |      `value` is pushed to the kvstore server for the specified keys and the updated\n",
      "     |      values are pulled from the server to `out`. If `out` is not specified the pulled\n",
      "     |      values are written to `value`. The returned values are guaranteed to be the latest\n",
      "     |      values in the store.\n",
      "     |      \n",
      "     |      pushpull with `RowSparseNDArray` is not supported for dist kvstore.\n",
      "     |      \n",
      "     |      Parameters\n",
      "     |      ----------\n",
      "     |      key : str, int, or sequence of str or int\n",
      "     |          Keys.\n",
      "     |      \n",
      "     |      value : NDArray, RowSparseNDArray, list of NDArray or RowSparseNDArray,\n",
      "     |              or list of list of NDArray or RowSparseNDArray\n",
      "     |          Values corresponding to the keys.\n",
      "     |      \n",
      "     |      out: NDArray or list of NDArray or list of list of NDArray\n",
      "     |          Values corresponding to the keys.\n",
      "     |      \n",
      "     |      priority : int, optional\n",
      "     |          The priority of the pull operation.\n",
      "     |          Higher priority pull operations are likely to be executed before\n",
      "     |          other pull actions.\n",
      "     |      \n",
      "     |      Examples\n",
      "     |      --------\n",
      "     |      >>> # push a single key-value pair\n",
      "     |      >>> kv.pushpull('3', mx.nd.ones(shape)*8, out=a)\n",
      "     |      >>> print a.asnumpy()\n",
      "     |      [[ 8.  8.  8.]\n",
      "     |      [ 8.  8.  8.]]\n",
      "     |      \n",
      "     |      >>> # aggregate the value and the push\n",
      "     |      >>> gpus = [mx.gpu(i) for i in range(4)]\n",
      "     |      >>> b = [mx.nd.ones(shape, gpu) for gpu in gpus]\n",
      "     |      >>> kv.pushpull('3', b, out=a)\n",
      "     |      >>> print a.asnumpy()\n",
      "     |      [[ 4.  4.  4.]\n",
      "     |      [ 4.  4.  4.]]\n",
      "     |      \n",
      "     |      >>> # push a list of keys.\n",
      "     |      >>> # single device\n",
      "     |      >>> keys = ['4', '5', '6']\n",
      "     |      >>> b = [mx.nd.zeros(shape)]*len(keys)\n",
      "     |      >>> kv.push(keys, [mx.nd.ones(shape)]*len(keys), out=b)\n",
      "     |      >>> print b[1].asnumpy()\n",
      "     |      [[ 1.  1.  1.]\n",
      "     |      [ 1.  1.  1.]]\n",
      "     |      \n",
      "     |      >>> # multiple devices:\n",
      "     |      >>> keys = ['7', '8', '9']\n",
      "     |      >>> b = [[mx.nd.ones(shape, gpu) for gpu in gpus]] * len(keys)\n",
      "     |      >>> kv.pushpull(keys, b)\n",
      "     |      >>> print b[1][1].asnumpy()\n",
      "     |      [[ 4.  4.  4.]\n",
      "     |      [ 4.  4.  4.]]\n",
      "     |  \n",
      "     |  row_sparse_pull(self, key, out=None, priority=0, row_ids=None)\n",
      "     |      Pulls a single RowSparseNDArray value or a sequence of RowSparseNDArray values         from the store with specified row_ids. When there is only one row_id, KVStoreRowSparsePull         is invoked just once and the result is broadcast to all the rest of outputs.\n",
      "     |      \n",
      "     |      `row_sparse_pull` is executed asynchronously after all previous\n",
      "     |      `pull`/`row_sparse_pull` calls and the last `push` call for the\n",
      "     |      same input key(s) are finished.\n",
      "     |      \n",
      "     |      The returned values are guaranteed to be the latest values in the store.\n",
      "     |      \n",
      "     |      Parameters\n",
      "     |      ----------\n",
      "     |      key : str, int, or sequence of str or int\n",
      "     |          Keys.\n",
      "     |      \n",
      "     |      out: RowSparseNDArray or list of RowSparseNDArray or list of list of RowSparseNDArray\n",
      "     |          Values corresponding to the keys. The stype is expected to be row_sparse\n",
      "     |      \n",
      "     |      priority : int, optional\n",
      "     |          The priority of the pull operation.\n",
      "     |          Higher priority pull operations are likely to be executed before\n",
      "     |          other pull actions.\n",
      "     |      \n",
      "     |      row_ids : NDArray or list of NDArray\n",
      "     |          The row_ids for which to pull for each value. Each row_id is an 1-D NDArray             whose values don't have to be unique nor sorted.\n",
      "     |      \n",
      "     |      Examples\n",
      "     |      --------\n",
      "     |      >>> shape = (3, 3)\n",
      "     |      >>> kv.init('3', mx.nd.ones(shape).tostype('row_sparse'))\n",
      "     |      >>> a = mx.nd.sparse.zeros('row_sparse', shape)\n",
      "     |      >>> row_ids = mx.nd.array([0, 2], dtype='int64')\n",
      "     |      >>> kv.row_sparse_pull('3', out=a, row_ids=row_ids)\n",
      "     |      >>> print a.asnumpy()\n",
      "     |      [[ 1.  1.  1.]\n",
      "     |      [ 0.  0.  0.]\n",
      "     |      [ 1.  1.  1.]]\n",
      "     |      >>> duplicate_row_ids = mx.nd.array([2, 2], dtype='int64')\n",
      "     |      >>> kv.row_sparse_pull('3', out=a, row_ids=duplicate_row_ids)\n",
      "     |      >>> print a.asnumpy()\n",
      "     |      [[ 0.  0.  0.]\n",
      "     |      [ 0.  0.  0.]\n",
      "     |      [ 1.  1.  1.]]\n",
      "     |      >>> unsorted_row_ids = mx.nd.array([1, 0], dtype='int64')\n",
      "     |      >>> kv.row_sparse_pull('3', out=a, row_ids=unsorted_row_ids)\n",
      "     |      >>> print a.asnumpy()\n",
      "     |      [[ 1.  1.  1.]\n",
      "     |      [ 1.  1.  1.]\n",
      "     |      [ 0.  0.  0.]]\n",
      "     |  \n",
      "     |  save_optimizer_states(self, fname, dump_optimizer=False)\n",
      "     |      Saves the optimizer (updater) state to a file. This is often used when checkpointing\n",
      "     |      the model during training.\n",
      "     |      \n",
      "     |      Parameters\n",
      "     |      ----------\n",
      "     |      fname : str\n",
      "     |          Path to the output states file.\n",
      "     |      dump_optimizer : bool, default False\n",
      "     |          Whether to also save the optimizer itself. This would also save optimizer\n",
      "     |          information such as learning rate and weight decay schedules.\n",
      "     |  \n",
      "     |  set_gradient_compression(self, compression_params)\n",
      "     |      Specifies type of low-bit quantization for gradient compression          and additional arguments depending on the type of compression being used.\n",
      "     |      \n",
      "     |      2bit Gradient Compression takes a positive float `threshold`.\n",
      "     |      The technique works by thresholding values such that positive values in the\n",
      "     |      gradient above threshold will be set to threshold. Negative values whose absolute\n",
      "     |      values are higher than threshold, will be set to the negative of threshold.\n",
      "     |      Values whose absolute values are less than threshold will be set to 0.\n",
      "     |      By doing so, each value in the gradient is in one of three states. 2bits are\n",
      "     |      used to represent these states, and every 16 float values in the original\n",
      "     |      gradient can be represented using one float. This compressed representation\n",
      "     |      can reduce communication costs. The difference between these thresholded values and\n",
      "     |      original values is stored at the sender's end as residual and added to the\n",
      "     |      gradient in the next iteration.\n",
      "     |      \n",
      "     |      When kvstore is 'local', gradient compression is used to reduce communication\n",
      "     |      between multiple devices (gpus). Gradient is quantized on each GPU which\n",
      "     |      computed the gradients, then sent to the GPU which merges the gradients. This\n",
      "     |      receiving GPU dequantizes the gradients and merges them. Note that this\n",
      "     |      increases memory usage on each GPU because of the residual array stored.\n",
      "     |      \n",
      "     |      When kvstore is 'dist', gradient compression is used to reduce communication\n",
      "     |      from worker to sender. Gradient is quantized on each worker which\n",
      "     |      computed the gradients, then sent to the server which dequantizes\n",
      "     |      this data and merges the gradients from each worker. Note that this\n",
      "     |      increases CPU memory usage on each worker because of the residual array stored.\n",
      "     |      Only worker to server communication is compressed in this setting.\n",
      "     |      If each machine has multiple GPUs, currently this GPU to GPU or GPU to CPU communication\n",
      "     |      is not compressed. Server to worker communication (in the case of pull)\n",
      "     |      is also not compressed.\n",
      "     |      \n",
      "     |      To use 2bit compression, we need to specify `type` as `2bit`.\n",
      "     |      Only specifying `type` would use default value for the threshold.\n",
      "     |      To completely specify the arguments for 2bit compression, we would need to pass\n",
      "     |      a dictionary which includes `threshold` like:\n",
      "     |      {'type': '2bit', 'threshold': 0.5}\n",
      "     |      \n",
      "     |      Parameters\n",
      "     |      ----------\n",
      "     |      compression_params : dict\n",
      "     |          A dictionary specifying the type and parameters for gradient compression.\n",
      "     |          The key `type` in this dictionary is a\n",
      "     |          required string argument and specifies the type of gradient compression.\n",
      "     |          Currently `type` can be only `2bit`\n",
      "     |          Other keys in this dictionary are optional and specific to the type\n",
      "     |          of gradient compression.\n",
      "     |  \n",
      "     |  set_optimizer(self, optimizer)\n",
      "     |      Registers an optimizer with the kvstore.\n",
      "     |      \n",
      "     |      When using a single machine, this function updates the local optimizer.\n",
      "     |      If using multiple machines and this operation is invoked from a worker node,\n",
      "     |      it will serialized the optimizer with pickle and send it to all servers.\n",
      "     |      The function returns after all servers have been updated.\n",
      "     |      \n",
      "     |      Parameters\n",
      "     |      ----------\n",
      "     |      optimizer : Optimizer\n",
      "     |          The new optimizer for the store\n",
      "     |      \n",
      "     |      Examples\n",
      "     |      --------\n",
      "     |      \n",
      "     |      >>> kv = mx.kv.create()\n",
      "     |      >>> shape = (2, 2)\n",
      "     |      >>> weight = mx.nd.zeros(shape)\n",
      "     |      >>> kv.init(3, weight)\n",
      "     |      >>> # set the optimizer for kvstore as the default SGD optimizer\n",
      "     |      >>> kv.set_optimizer(mx.optimizer.SGD())\n",
      "     |      >>> grad = mx.nd.ones(shape)\n",
      "     |      >>> kv.push(3, grad)\n",
      "     |      >>> kv.pull(3, out = weight)\n",
      "     |      >>> # weight is updated via gradient descent\n",
      "     |      >>> weight.asnumpy()\n",
      "     |      array([[-0.01, -0.01],\n",
      "     |             [-0.01, -0.01]], dtype=float32)\n",
      "     |  \n",
      "     |  ----------------------------------------------------------------------\n",
      "     |  Data descriptors defined here:\n",
      "     |  \n",
      "     |  __dict__\n",
      "     |      dictionary for instance variables (if defined)\n",
      "     |  \n",
      "     |  __weakref__\n",
      "     |      list of weak references to the object (if defined)\n",
      "     |  \n",
      "     |  num_workers\n",
      "     |      Returns the number of worker nodes.\n",
      "     |      \n",
      "     |      Returns\n",
      "     |      -------\n",
      "     |      size :int\n",
      "     |          The number of worker nodes.\n",
      "     |  \n",
      "     |  rank\n",
      "     |      Returns the rank of this worker node.\n",
      "     |      \n",
      "     |      Returns\n",
      "     |      -------\n",
      "     |      rank : int\n",
      "     |          The rank of this node, which is in range [0, num_workers())\n",
      "     |  \n",
      "     |  type\n",
      "     |      Returns the type of this kvstore.\n",
      "     |      \n",
      "     |      Returns\n",
      "     |      -------\n",
      "     |      type : str\n",
      "     |          the string type\n",
      "\n",
      "FUNCTIONS\n",
      "    create(name='local')\n",
      "        Creates a new KVStore.\n",
      "        \n",
      "        For single machine training, there are two commonly used types:\n",
      "        \n",
      "        ``local``: Copies all gradients to CPU memory and updates weights there.\n",
      "        \n",
      "        ``device``: Aggregates gradients and updates weights on GPUs. With this setting,\n",
      "        the KVStore also attempts to use GPU peer-to-peer communication,\n",
      "        potentially accelerating the communication.\n",
      "        \n",
      "        For distributed training, KVStore also supports a number of types:\n",
      "        \n",
      "        ``dist_sync``: Behaves similarly to ``local`` but with one major difference.\n",
      "        With ``dist_sync``, batch-size now means the batch size used on each machine.\n",
      "        So if there are ``n`` machines and we use batch size ``b``,\n",
      "        then ``dist_sync`` behaves like ``local`` with batch size ``n * b``.\n",
      "        \n",
      "        ``dist_device_sync``: Identical to ``dist_sync`` with the difference similar\n",
      "        to ``device`` vs ``local``.\n",
      "        \n",
      "        ``dist_async``: Performs asynchronous updates.\n",
      "        The weights are updated whenever gradients are received from any machine.\n",
      "        No two updates happen on the same weight at the same time. However, the order is not\n",
      "        guaranteed.\n",
      "        \n",
      "        Parameters\n",
      "        ----------\n",
      "        name : {'local', 'device', 'nccl', 'dist_sync', 'dist_device_sync', 'dist_async'}\n",
      "            The type of KVStore.\n",
      "        Returns\n",
      "        -------\n",
      "        kv : KVStore\n",
      "            The created KVStore.\n",
      "\n",
      "DATA\n",
      "    absolute_import = _Feature((2, 5, 0, 'alpha', 1), (3, 0, 0, 'alpha', 0...\n",
      "    string_types = (<class 'str'>,)\n",
      "\n",
      "FILE\n",
      "    /var/lib/jenkins/miniconda3/envs/d2l-en-1/lib/python3.7/site-packages/mxnet/kvstore.py\n",
      "\n",
      "\n"
     ]
    }
   ],
   "source": [
    "help(kv)"
   ]
  },
  {
   "cell_type": "code",
   "execution_count": 4,
   "metadata": {
    "attributes": {
     "classes": [],
     "id": "",
     "n": "3"
    }
   },
   "outputs": [
    {
     "name": "stdout",
     "output_type": "stream",
     "text": [
      "[[2. 2. 2.]\n",
      " [2. 2. 2.]]\n"
     ]
    }
   ],
   "source": [
    "kv = kv.create('local') # create a local kv store.\n",
    "shape = (2,3)\n",
    "kv.init(3, np.ones(shape)*2)\n",
    "a = np.zeros(shape)\n",
    "kv.pull(3, out = a)\n",
    "print(a)"
   ]
  },
  {
   "cell_type": "markdown",
   "metadata": {},
   "source": [
    "## Push, Aggregate, and Update\n",
    "\n",
    "For any key that has been initialized, you can push a new value with the same shape to the key:"
   ]
  },
  {
   "cell_type": "code",
   "execution_count": 5,
   "metadata": {
    "attributes": {
     "classes": [],
     "id": "",
     "n": "4"
    }
   },
   "outputs": [
    {
     "name": "stdout",
     "output_type": "stream",
     "text": [
      "[[8. 8. 8.]\n",
      " [8. 8. 8.]]\n"
     ]
    }
   ],
   "source": [
    "kv.push(3, np.ones(shape)*8)\n",
    "kv.pull(3, out = a) # pull out the value\n",
    "print(a.asnumpy())"
   ]
  },
  {
   "cell_type": "markdown",
   "metadata": {},
   "source": [
    "The data for pushing can be stored on any device. Furthermore, you can push multiple values into the same key, where KVStore will first sum all of these values and then push the aggregated value. Here we will just demonstrate pushing a list of values on CPU. Please note summation only happens if the value list is longer than one"
   ]
  },
  {
   "cell_type": "code",
   "execution_count": 6,
   "metadata": {
    "attributes": {
     "classes": [],
     "id": "",
     "n": "5"
    }
   },
   "outputs": [
    {
     "name": "stdout",
     "output_type": "stream",
     "text": [
      "[[4. 4. 4.]\n",
      " [4. 4. 4.]]\n"
     ]
    }
   ],
   "source": [
    "contexts = [npx.cpu(i) for i in range(4)]\n",
    "b = [np.ones(shape, ctx=ctx) for ctx in contexts]\n",
    "kv.push(3, b)\n",
    "kv.pull(3, out = a)\n",
    "print(a)"
   ]
  },
  {
   "cell_type": "markdown",
   "metadata": {},
   "source": [
    "For each push, KVStore combines the pushed value with the value stored using an updater. The default updater is ASSIGN. You can replace the default to control how data is merged:"
   ]
  },
  {
   "cell_type": "code",
   "execution_count": 7,
   "metadata": {
    "attributes": {
     "classes": [],
     "id": "",
     "n": "6"
    }
   },
   "outputs": [
    {
     "name": "stdout",
     "output_type": "stream",
     "text": [
      "[[4. 4. 4.]\n",
      " [4. 4. 4.]]\n"
     ]
    }
   ],
   "source": [
    "def update(key, input, stored):\n",
    "    print(\"update on key: %d\" % key)\n",
    "    stored += input * 2\n",
    "kv._set_updater(update)\n",
    "kv.pull(3, out=a)\n",
    "print(a)"
   ]
  },
  {
   "cell_type": "code",
   "execution_count": 8,
   "metadata": {
    "attributes": {
     "classes": [],
     "id": "",
     "n": "7"
    }
   },
   "outputs": [
    {
     "name": "stdout",
     "output_type": "stream",
     "text": [
      "update on key: 3\n",
      "[[6. 6. 6.]\n",
      " [6. 6. 6.]]\n"
     ]
    }
   ],
   "source": [
    "kv.push(3, np.ones(shape))\n",
    "kv.pull(3, out=a)\n",
    "print(a)"
   ]
  },
  {
   "cell_type": "markdown",
   "metadata": {},
   "source": [
    "## Pull\n",
    "\n",
    "You’ve already seen how to pull a single key-value pair. Similarly, to push, you can pull the value onto several devices with a single call:"
   ]
  },
  {
   "cell_type": "code",
   "execution_count": 9,
   "metadata": {
    "attributes": {
     "classes": [],
     "id": "",
     "n": "8"
    }
   },
   "outputs": [
    {
     "name": "stdout",
     "output_type": "stream",
     "text": [
      "[[6. 6. 6.]\n",
      " [6. 6. 6.]]\n"
     ]
    }
   ],
   "source": [
    "b = [np.ones(shape, ctx=ctx) for ctx in contexts]\n",
    "kv.pull(3, out = b)\n",
    "print(b[1])"
   ]
  },
  {
   "cell_type": "markdown",
   "metadata": {},
   "source": [
    "## Handle a List of Key-Value Pairs\n",
    "\n",
    "All operations introduced so far involve a single key. KVStore also provides an interface for a list of key-value pairs.\n",
    "\n",
    "For a single device:"
   ]
  },
  {
   "cell_type": "code",
   "execution_count": 10,
   "metadata": {
    "attributes": {
     "classes": [],
     "id": "",
     "n": "9"
    }
   },
   "outputs": [
    {
     "name": "stdout",
     "output_type": "stream",
     "text": [
      "update on key: 5\n",
      "update on key: 7\n",
      "update on key: 9\n",
      "[[3. 3. 3.]\n",
      " [3. 3. 3.]]\n"
     ]
    }
   ],
   "source": [
    "keys = [5, 7, 9]\n",
    "kv.init(keys, [np.ones(shape)]*len(keys))\n",
    "kv.push(keys, [np.ones(shape)]*len(keys))\n",
    "b = [np.zeros(shape)]*len(keys)\n",
    "kv.pull(keys, out = b)\n",
    "print(b[1])"
   ]
  },
  {
   "cell_type": "markdown",
   "metadata": {},
   "source": [
    "For multiple devices:"
   ]
  },
  {
   "cell_type": "code",
   "execution_count": 11,
   "metadata": {
    "attributes": {
     "classes": [],
     "id": "",
     "n": "10"
    }
   },
   "outputs": [
    {
     "name": "stdout",
     "output_type": "stream",
     "text": [
      "update on key: 5\n",
      "update on key: 7\n",
      "update on key: 9\n",
      "[[11. 11. 11.]\n",
      " [11. 11. 11.]]\n"
     ]
    }
   ],
   "source": [
    "b = [[np.ones(shape, ctx=ctx) for ctx in contexts]] * len(keys)\n",
    "kv.push(keys, b)\n",
    "kv.pull(keys, out = b)\n",
    "print(b[1][1])"
   ]
  }
 ],
 "metadata": {
  "language_info": {
   "name": "python"
  }
 },
 "nbformat": 4,
 "nbformat_minor": 2
}