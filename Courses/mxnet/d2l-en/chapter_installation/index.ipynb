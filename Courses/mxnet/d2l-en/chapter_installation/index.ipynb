{
 "cells": [
  {
   "cell_type": "markdown",
   "metadata": {},
   "source": [
    "# Installation\n",
    "\n",
    ":label:`chap_installation`\n",
    "\n",
    "\n",
    "In order to get you up and running for hands-on learning experience,\n",
    "we need to set you up with an environment for running Python,\n",
    "Jupyter notebooks, the relevant libraries,\n",
    "and the code needed to run the book itself.\n",
    "\n",
    "## Installing Miniconda\n",
    "\n",
    "The simplest way to get going will be to install\n",
    "[Miniconda](https://conda.io/en/latest/miniconda.html). The Python 3.x version\n",
    "is required. You can skip the following steps if conda has already been installed.\n",
    "Download the corresponding Miniconda sh file from the website\n",
    "and then execute the installation from the command line\n",
    "using `sh <FILENAME> -b`. For macOS users:"
   ]
  },
  {
   "cell_type": "markdown",
   "metadata": {},
   "source": [
    "```bash\n",
    "# The file name is subject to changes\n",
    "sh Miniconda3-latest-MacOSX-x86_64.sh -b\n",
    "```\n"
   ]
  },
  {
   "cell_type": "markdown",
   "metadata": {},
   "source": [
    "For Linux users:"
   ]
  },
  {
   "cell_type": "markdown",
   "metadata": {},
   "source": [
    "```bash\n",
    "# The file name is subject to changes\n",
    "sh Miniconda3-latest-Linux-x86_64.sh -b\n",
    "```\n"
   ]
  },
  {
   "cell_type": "markdown",
   "metadata": {},
   "source": [
    "Next, initialize the shell so we can run `conda` directly."
   ]
  },
  {
   "cell_type": "markdown",
   "metadata": {},
   "source": [
    "```bash\n",
    "~/miniconda3/bin/conda init\n",
    "```\n"
   ]
  },
  {
   "cell_type": "markdown",
   "metadata": {},
   "source": [
    "Now close and re-open your current shell. You should be able to create a new\n",
    "environment as following:"
   ]
  },
  {
   "cell_type": "markdown",
   "metadata": {},
   "source": [
    "```bash\n",
    "conda create --name d2l -y\n",
    "```\n"
   ]
  },
  {
   "cell_type": "markdown",
   "metadata": {},
   "source": [
    "## Downloading the D2L Notebooks\n",
    "\n",
    "Next, we need to download the code of this book. You can use the\n",
    "[link](https://d2l.ai/d2l-en-0.7.1.zip) to download and unzip the code.\n",
    "Alternatively, if you have `unzip` (otherwise run `sudo apt install unzip`) available:"
   ]
  },
  {
   "cell_type": "markdown",
   "metadata": {},
   "source": [
    "```bash\n",
    "mkdir d2l-en && cd d2l-en\n",
    "curl https://d2l.ai/d2l-en.zip -o d2l-en.zip\n",
    "unzip d2l-en.zip && rm d2l-en.zip\n",
    "```\n"
   ]
  },
  {
   "cell_type": "markdown",
   "metadata": {},
   "source": [
    "Now we will want to activate the `d2l` environment and install `pip`.\n",
    "Enter `y` for the queries that follow this command."
   ]
  },
  {
   "cell_type": "markdown",
   "metadata": {},
   "source": [
    "```bash\n",
    "conda activate d2l\n",
    "conda install python=3.7 pip -y\n",
    "```\n"
   ]
  },
  {
   "cell_type": "markdown",
   "metadata": {},
   "source": [
    "## Installing MXNet and the `d2l` Package\n",
    "\n",
    "Before installing MXNet, please first check\n",
    "whether or not you have proper GPUs on your machine\n",
    "(the GPUs that power the display on a standard laptop\n",
    "do not count for our purposes).\n",
    "If you are installing on a GPU server,\n",
    "proceed to :ref:`subsec_gpu` for instructions\n",
    "to install a GPU-supported MXNet.\n",
    "\n",
    "Otherwise, you can install the CPU version.\n",
    "That will be more than enough horsepower to get you\n",
    "through the first few chapters but you will want\n",
    "to access GPUs before running larger models."
   ]
  },
  {
   "cell_type": "markdown",
   "metadata": {},
   "source": [
    "```bash\n",
    "pip install mxnet==1.6.0\n",
    "```\n"
   ]
  },
  {
   "cell_type": "markdown",
   "metadata": {},
   "source": [
    "We also install the `d2l` package that encapsulates frequently used\n",
    "functions and classes in this book."
   ]
  },
  {
   "cell_type": "markdown",
   "metadata": {},
   "source": [
    "```bash\n",
    "pip install git+https://github.com/d2l-ai/d2l-en\n",
    "\n",
    "```\n"
   ]
  },
  {
   "cell_type": "markdown",
   "metadata": {},
   "source": [
    "Once they are installed, we now open the Jupyter notebook by running:"
   ]
  },
  {
   "cell_type": "markdown",
   "metadata": {},
   "source": [
    "```bash\n",
    "jupyter notebook\n",
    "```\n"
   ]
  },
  {
   "cell_type": "markdown",
   "metadata": {},
   "source": [
    "At this point, you can open http://localhost:8888 (it usually opens automatically) in your Web browser. Then we can run the code for each section of the book.\n",
    "Please always execute `conda activate d2l` to activate the runtime environment\n",
    "before running the code of the book or updating MXNet or the `d2l` package.\n",
    "To exit the environment, run `conda deactivate`.\n",
    "\n",
    "\n",
    "## Upgrading to a New Version\n",
    "\n",
    "Both this book and MXNet keep being improved. Please check a new version from time to time.\n",
    "\n",
    "1. The URL https://d2l.ai/d2l-en.zip always points to the latest contents.\n",
    "2. Please upgrade the `d2l` package by `pip install d2l --upgrade`.\n",
    "3. For the CPU version, MXNet can be upgraded by `pip install -U --pre mxnet`.\n",
    "\n",
    "\n",
    "## GPU Support\n",
    "\n",
    "\n",
    ":label:`subsec_gpu`\n",
    "\n",
    "\n",
    "By default, MXNet is installed without GPU support\n",
    "to ensure that it will run on any computer (including most laptops).\n",
    "Part of this book requires or recommends running with GPU.\n",
    "If your computer has NVIDIA graphics cards and has installed [CUDA](https://developer.nvidia.com/cuda-downloads),\n",
    "then you should install a GPU-enabled MXNet.\n",
    "If you have installed the CPU-only version,\n",
    "you may need to remove it first by running:"
   ]
  },
  {
   "cell_type": "markdown",
   "metadata": {},
   "source": [
    "```bash\n",
    "pip uninstall mxnet\n",
    "```\n"
   ]
  },
  {
   "cell_type": "markdown",
   "metadata": {},
   "source": [
    "Then we need to find the CUDA version you installed.\n",
    "You may check it through `nvcc --version` or `cat /usr/local/cuda/version.txt`.\n",
    "Assume that you have installed CUDA 10.1,\n",
    "then you can install MXNet\n",
    "with the following command:"
   ]
  },
  {
   "cell_type": "markdown",
   "metadata": {},
   "source": [
    "```bash\n",
    "# For Windows users\n",
    "pip install mxnet-cu101==1.6.0b20190926\n",
    "\n",
    "# For Linux and macOS users\n",
    "pip install mxnet-cu101==1.6.0\n",
    "```\n"
   ]
  },
  {
   "cell_type": "markdown",
   "metadata": {},
   "source": [
    "Like the CPU version, the GPU-enabled MXNet can be upgraded by\n",
    "`pip install -U --pre mxnet-cu101`.\n",
    "You may change the last digits according to your CUDA version,\n",
    "e.g., `cu100` for CUDA 10.0 and `cu90` for CUDA 9.0.\n",
    "You can find all available MXNet versions via `pip search mxnet`.\n",
    "\n",
    "\n",
    "## Exercises\n",
    "\n",
    "1. Download the code for the book and install the runtime environment.\n",
    "\n",
    "\n",
    "## [Discussions](https://discuss.mxnet.io/t/2315)\n",
    "\n",
    "![](../img/qr_install.svg)"
   ]
  }
 ],
 "metadata": {
  "language_info": {
   "name": "python"
  }
 },
 "nbformat": 4,
 "nbformat_minor": 2
}