{
 "cells": [
  {
   "cell_type": "markdown",
   "metadata": {},
   "source": [
    "# File I/O\n",
    "\n",
    "So far we discussed how to process data and how \n",
    "to build, train, and test deep learning models. \n",
    "However, at some point, we will hopefully be happy enough\n",
    "with the learned models that we will want \n",
    "to save the results for later use in various contexts\n",
    "(perhaps even to make predictions in deployment). \n",
    "Additionally, when running a long training process,\n",
    "the best practice is to periodically save intermediate results (checkpointing)\n",
    "to ensure that we do not lose several days worth of computation\n",
    "if we trip over the power cord of our server.\n",
    "Thus it is time we learned how to load and store \n",
    "both individual weight vectors and entire models. \n",
    "This section addresses both issues.\n",
    "\n",
    "## Loading and Saving `ndarray`s\n",
    "\n",
    "For individual `ndarray`s, we can directly \n",
    "invoke their `load` and `save` functions \n",
    "to read and write them respectively. \n",
    "Both functions require that we supply a name,\n",
    "and `save` requires as input the variable to be saved."
   ]
  },
  {
   "cell_type": "code",
   "execution_count": 1,
   "metadata": {},
   "outputs": [],
   "source": [
    "from mxnet import np, npx\n",
    "from mxnet.gluon import nn\n",
    "npx.set_np()\n",
    "\n",
    "x = np.arange(4)\n",
    "npx.save('x-file', x)"
   ]
  },
  {
   "cell_type": "markdown",
   "metadata": {},
   "source": [
    "We can now read this data from the stored file back into memory."
   ]
  },
  {
   "cell_type": "code",
   "execution_count": 2,
   "metadata": {},
   "outputs": [
    {
     "data": {
      "text/plain": [
       "[array([0., 1., 2., 3.])]"
      ]
     },
     "execution_count": 2,
     "metadata": {},
     "output_type": "execute_result"
    }
   ],
   "source": [
    "x2 = npx.load('x-file')\n",
    "x2"
   ]
  },
  {
   "cell_type": "markdown",
   "metadata": {},
   "source": [
    "MXNet also allows us to store a list of `ndarray`s and read them back into memory."
   ]
  },
  {
   "cell_type": "code",
   "execution_count": 3,
   "metadata": {
    "attributes": {
     "classes": [],
     "id": "",
     "n": "2"
    }
   },
   "outputs": [
    {
     "data": {
      "text/plain": [
       "(array([0., 1., 2., 3.]), array([0., 0., 0., 0.]))"
      ]
     },
     "execution_count": 3,
     "metadata": {},
     "output_type": "execute_result"
    }
   ],
   "source": [
    "y = np.zeros(4)\n",
    "npx.save('x-files', [x, y])\n",
    "x2, y2 = npx.load('x-files')\n",
    "(x2, y2)"
   ]
  },
  {
   "cell_type": "markdown",
   "metadata": {},
   "source": [
    "We can even write and read a dictionary that maps \n",
    "from strings to `ndarray`s. \n",
    "This is convenient when we want \n",
    "to read or write all the weights in a model."
   ]
  },
  {
   "cell_type": "code",
   "execution_count": 4,
   "metadata": {
    "attributes": {
     "classes": [],
     "id": "",
     "n": "4"
    }
   },
   "outputs": [
    {
     "data": {
      "text/plain": [
       "{'x': array([0., 1., 2., 3.]), 'y': array([0., 0., 0., 0.])}"
      ]
     },
     "execution_count": 4,
     "metadata": {},
     "output_type": "execute_result"
    }
   ],
   "source": [
    "mydict = {'x': x, 'y': y}\n",
    "npx.save('mydict', mydict)\n",
    "mydict2 = npx.load('mydict')\n",
    "mydict2"
   ]
  },
  {
   "cell_type": "markdown",
   "metadata": {},
   "source": [
    "## Gluon Model Parameters\n",
    "\n",
    "Saving individual weight vectors (or other `ndarray` tensors) is useful \n",
    "but it gets very tedious if we want to save \n",
    "(and later load) an entire model.\n",
    "After all, we might have hundreds of \n",
    "parameter groups sprinkled throughout. \n",
    "For this reason Gluon provides built-in functionality \n",
    "to load and save entire networks.\n",
    "An important detail to note is that this \n",
    "saves model *parameters* and not the entire model. \n",
    "For example, if we have a 3 layer MLP,\n",
    "we need to specify the *architecture* separately. \n",
    "The reason for this is that the models themselves can contain arbitrary code, \n",
    "hence they cannot be serialized as naturally \n",
    "(and there is a way to do this for compiled models: \n",
    "please refer to the [MXNet documentation](http://www.mxnet.io)\n",
    "for technical details). \n",
    "Thus, in order to reinstate a model, we need \n",
    "to generate the architecture in code \n",
    "and then load the parameters from disk. \n",
    "The deferred initialization (:numref:`sec_deferred_init`) \n",
    "is advantageous here since we can simply define a model\n",
    "without the need to put actual values in place. \n",
    "Let us start with our familiar MLP."
   ]
  },
  {
   "cell_type": "code",
   "execution_count": 5,
   "metadata": {
    "attributes": {
     "classes": [],
     "id": "",
     "n": "6"
    }
   },
   "outputs": [],
   "source": [
    "class MLP(nn.Block):\n",
    "    def __init__(self, **kwargs):\n",
    "        super(MLP, self).__init__(**kwargs)\n",
    "        self.hidden = nn.Dense(256, activation='relu')\n",
    "        self.output = nn.Dense(10)\n",
    "\n",
    "    def forward(self, x):\n",
    "        return self.output(self.hidden(x))\n",
    "\n",
    "net = MLP()\n",
    "net.initialize()\n",
    "x = np.random.uniform(size=(2, 20))\n",
    "y = net(x)"
   ]
  },
  {
   "cell_type": "markdown",
   "metadata": {},
   "source": [
    "Next, we store the parameters of the model as a file with the name `mlp.params`.\n",
    "Gluon Blocks support a `save_parameters` method \n",
    "that writes all parameters to disk given \n",
    "a string for the file name."
   ]
  },
  {
   "cell_type": "code",
   "execution_count": 6,
   "metadata": {},
   "outputs": [],
   "source": [
    "net.save_parameters('mlp.params')"
   ]
  },
  {
   "cell_type": "markdown",
   "metadata": {},
   "source": [
    "To recover the model, we instantiate a clone \n",
    "of the original MLP model.\n",
    "Instead of randomly initializing the model parameters, \n",
    "we read the parameters stored in the file directly.\n",
    "Conveniently we can load parameters into Blocks\n",
    "via their `load_parameters` method."
   ]
  },
  {
   "cell_type": "code",
   "execution_count": 7,
   "metadata": {
    "attributes": {
     "classes": [],
     "id": "",
     "n": "8"
    }
   },
   "outputs": [],
   "source": [
    "clone = MLP()\n",
    "clone.load_parameters('mlp.params')"
   ]
  },
  {
   "cell_type": "markdown",
   "metadata": {},
   "source": [
    "Since both instances have the same model parameters, \n",
    "the computation result of the same input `x` should be the same. \n",
    "Let us verify this."
   ]
  },
  {
   "cell_type": "code",
   "execution_count": 8,
   "metadata": {},
   "outputs": [
    {
     "data": {
      "text/plain": [
       "array([[ True,  True,  True,  True,  True,  True,  True,  True,  True,\n",
       "         True],\n",
       "       [ True,  True,  True,  True,  True,  True,  True,  True,  True,\n",
       "         True]])"
      ]
     },
     "execution_count": 8,
     "metadata": {},
     "output_type": "execute_result"
    }
   ],
   "source": [
    "yclone = clone(x)\n",
    "yclone == y"
   ]
  },
  {
   "cell_type": "markdown",
   "metadata": {},
   "source": [
    "## Summary\n",
    "\n",
    "* The `save` and `load` functions can be used to perform File I/O for `ndarray` objects.\n",
    "* The `load_parameters` and `save_parameters` functions allow us to save entire sets of parameters for a network in Gluon.\n",
    "* Saving the architecture has to be done in code rather than in parameters.\n",
    "\n",
    "## Exercises\n",
    "\n",
    "1. Even if there is no need to deploy trained models to a different device, what are the practical benefits of storing model parameters?\n",
    "1. Assume that we want to reuse only parts of a network to be incorporated into a network of a *different* architecture. How would you go about using, say the first two layers from a previous network in a new network.\n",
    "1. How would you go about saving network architecture and parameters? What restrictions would you impose on the architecture?\n",
    "\n",
    "## [Discussions](https://discuss.mxnet.io/t/2329)\n",
    "\n",
    "![](../img/qr_read-write.svg)"
   ]
  }
 ],
 "metadata": {
  "language_info": {
   "name": "python"
  }
 },
 "nbformat": 4,
 "nbformat_minor": 2
}