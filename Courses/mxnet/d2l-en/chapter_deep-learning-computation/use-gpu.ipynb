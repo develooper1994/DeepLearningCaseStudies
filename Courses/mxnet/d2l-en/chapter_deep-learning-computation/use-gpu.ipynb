{
 "cells": [
  {
   "cell_type": "markdown",
   "metadata": {},
   "source": [
    "# GPUs\n",
    "\n",
    ":label:`sec_use_gpu`\n",
    "\n",
    "\n",
    "In the introduction, we discussed the rapid growth\n",
    "of computation over the past two decades.\n",
    "In a nutshell, GPU performance has increased \n",
    "by a factor of 1000 every decade since 2000.\n",
    "This offers great opportunity but it also suggests\n",
    "a significant need to provide such performance.\n",
    "\n",
    "|Decade|Dataset|Memory|Floating Point Calculations per Second|\n",
    "|:--|:-|:-|:-|\n",
    "|1970|100 (Iris)|1 KB|100 KF (Intel 8080)|\n",
    "|1980|1 K (House prices in Boston)|100 KB|1 MF (Intel 80186)|\n",
    "|1990|10 K (optical character recognition)|10 MB|10 MF (Intel 80486)|\n",
    "|2000|10 M (web pages)|100 MB|1 GF (Intel Core)|\n",
    "|2010|10 G (advertising)|1 GB|1 TF (NVIDIA C2050)|\n",
    "|2020|1 T (social network)|100 GB|1 PF (NVIDIA DGX-2)|\n",
    "\n",
    "In this section, we begin to discuss how to harness \n",
    "this compute performance for your research. \n",
    "First by using single GPUs and at a later point,\n",
    "how to use multiple GPUs and multiple servers (with multiple GPUs). \n",
    "You might have noticed that MXNet `ndarray` \n",
    "looks almost identical to NumPy. \n",
    "But there are a few crucial differences.\n",
    "One of the key features that distinguishes MXNet \n",
    "from NumPy is its support for diverse hardware devices.\n",
    "\n",
    "In MXNet, every array has a context.\n",
    "So far, by default, all variables \n",
    "and associated computation\n",
    "have been assigned to the CPU.\n",
    "Typically, other contexts might be various GPUs.\n",
    "Things can get even hairier when\n",
    "we deploy jobs across multiple servers.\n",
    "By assigning arrays to contexts intelligently,\n",
    "we can minimize the time spent\n",
    "transferring data between devices.\n",
    "For example, when training neural networks on a server with a GPU,\n",
    "we typically prefer for the model’s parameters to live on the GPU.\n",
    "\n",
    "In short, for complex neural networks and large-scale data,\n",
    "using only CPUs for computation may be inefficient.\n",
    "In this section, we will discuss how\n",
    "to use a single NVIDIA GPU for calculations.\n",
    "First, make sure you have at least one NVIDIA GPU installed.\n",
    "Then, [download CUDA](https://developer.nvidia.com/cuda-downloads)\n",
    "and follow the prompts to set the appropriate path.\n",
    "Once these preparations are complete,\n",
    "the `nvidia-smi` command can be used\n",
    "to view the graphics card information."
   ]
  },
  {
   "cell_type": "code",
   "execution_count": 1,
   "metadata": {
    "attributes": {
     "classes": [],
     "id": "",
     "n": "1"
    }
   },
   "outputs": [
    {
     "name": "stdout",
     "output_type": "stream",
     "text": [
      "Sun Apr  5 19:33:28 2020       \r\n",
      "+-----------------------------------------------------------------------------+\r\n",
      "| NVIDIA-SMI 418.67       Driver Version: 418.67       CUDA Version: 10.1     |\r\n",
      "|-------------------------------+----------------------+----------------------+\r\n",
      "| GPU  Name        Persistence-M| Bus-Id        Disp.A | Volatile Uncorr. ECC |\r\n",
      "| Fan  Temp  Perf  Pwr:Usage/Cap|         Memory-Usage | GPU-Util  Compute M. |\r\n",
      "|===============================+======================+======================|\r\n"
     ]
    },
    {
     "name": "stdout",
     "output_type": "stream",
     "text": [
      "|   0  Tesla V100-SXM2...  Off  | 00000000:00:1B.0 Off |                    0 |\r\n",
      "| N/A   35C    P0    51W / 300W |      0MiB / 16130MiB |      0%      Default |\r\n",
      "+-------------------------------+----------------------+----------------------+\r\n",
      "|   1  Tesla V100-SXM2...  Off  | 00000000:00:1C.0 Off |                    0 |\r\n",
      "| N/A   35C    P0    51W / 300W |   2413MiB / 16130MiB |      0%      Default |\r\n",
      "+-------------------------------+----------------------+----------------------+\r\n",
      "|   2  Tesla V100-SXM2...  Off  | 00000000:00:1D.0 Off |                    0 |\r\n",
      "| N/A   36C    P0    54W / 300W |      0MiB / 16130MiB |      0%      Default |\r\n",
      "+-------------------------------+----------------------+----------------------+\r\n",
      "|   3  Tesla V100-SXM2...  Off  | 00000000:00:1E.0 Off |                    0 |\r\n",
      "| N/A   35C    P0    53W / 300W |   2403MiB / 16130MiB |      0%      Default |\r\n",
      "+-------------------------------+----------------------+----------------------+\r\n",
      "                                                                               \r\n",
      "+-----------------------------------------------------------------------------+\r\n",
      "| Processes:                                                       GPU Memory |\r\n",
      "|  GPU       PID   Type   Process name                             Usage      |\r\n",
      "|=============================================================================|\r\n",
      "|    1     64250      C   /home/ubuntu/miniconda3/bin/python          1313MiB |\r\n",
      "|    1    115009      C   /home/ubuntu/miniconda3/bin/python          1089MiB |\r\n",
      "|    3     64250      C   /home/ubuntu/miniconda3/bin/python          1303MiB |\r\n",
      "|    3    115009      C   /home/ubuntu/miniconda3/bin/python          1089MiB |\r\n",
      "+-----------------------------------------------------------------------------+\r\n"
     ]
    }
   ],
   "source": [
    "!nvidia-smi"
   ]
  },
  {
   "cell_type": "markdown",
   "metadata": {},
   "source": [
    "Next, we need to confirm that \n",
    "the GPU version of MXNet is installed.\n",
    "If a CPU version of MXNet is already installed, \n",
    "we need to uninstall it first.\n",
    "For example, use the `pip uninstall mxnet` command,\n",
    "then install the corresponding MXNet version \n",
    "according to your CUDA version.\n",
    "Assuming you have CUDA 9.0 installed,\n",
    "you can install the MXNet version \n",
    "that supports CUDA 9.0 via `pip install mxnet-cu90`.\n",
    "To run the programs in this section, \n",
    "you need at least two GPUs.\n",
    "\n",
    "Note that this might be extravagant for most desktop computers\n",
    "but it is easily available in the cloud, e.g., \n",
    "by using the AWS EC2 multi-GPU instances.\n",
    "Almost all other sections do *not* require multiple GPUs.\n",
    "Instead, this is simply to illustrate\n",
    "how data flows between different devices.\n",
    "\n",
    "## Computing Devices\n",
    "\n",
    "MXNet can specify devices, such as CPUs and GPUs,\n",
    "for storage and calculation.\n",
    "By default, MXNet creates data in the main memory\n",
    "and then uses the CPU to calculate it.\n",
    "In MXNet, the CPU and GPU can be indicated by `cpu()` and `gpu()`. \n",
    "It should be noted that `cpu()` \n",
    "(or any integer in the parentheses) \n",
    "means all physical CPUs and memory.\n",
    "This means that MXNet's calculations \n",
    "will try to use all CPU cores.\n",
    "However, `gpu()` only represents one card \n",
    "and the corresponding memory. \n",
    "If there are multiple GPUs, we use `gpu(i)` \n",
    "to represent the $i^\\mathrm{th}$ GPU ($i$ starts from 0). \n",
    "Also, `gpu(0)` and `gpu()` are equivalent."
   ]
  },
  {
   "cell_type": "code",
   "execution_count": 2,
   "metadata": {},
   "outputs": [
    {
     "data": {
      "text/plain": [
       "(cpu(0), gpu(0), gpu(1))"
      ]
     },
     "execution_count": 2,
     "metadata": {},
     "output_type": "execute_result"
    }
   ],
   "source": [
    "from mxnet import np, npx\n",
    "from mxnet.gluon import nn\n",
    "npx.set_np()\n",
    "\n",
    "npx.cpu(), npx.gpu(), npx.gpu(1)"
   ]
  },
  {
   "cell_type": "markdown",
   "metadata": {},
   "source": [
    "We can query the number of available GPUs through `num_gpus()`."
   ]
  },
  {
   "cell_type": "code",
   "execution_count": 3,
   "metadata": {},
   "outputs": [
    {
     "data": {
      "text/plain": [
       "2"
      ]
     },
     "execution_count": 3,
     "metadata": {},
     "output_type": "execute_result"
    }
   ],
   "source": [
    "npx.num_gpus()"
   ]
  },
  {
   "cell_type": "markdown",
   "metadata": {},
   "source": [
    "Now we define two convenient functions that allow us \n",
    "to run codes even if the requested GPUs do not exist."
   ]
  },
  {
   "cell_type": "code",
   "execution_count": 4,
   "metadata": {},
   "outputs": [
    {
     "data": {
      "text/plain": [
       "(gpu(0), cpu(0), [gpu(0), gpu(1)])"
      ]
     },
     "execution_count": 4,
     "metadata": {},
     "output_type": "execute_result"
    }
   ],
   "source": [
    "# Saved in the d2l package for later use\n",
    "def try_gpu(i=0):\n",
    "    \"\"\"Return gpu(i) if exists, otherwise return cpu().\"\"\"\n",
    "    return npx.gpu(i) if npx.num_gpus() >= i + 1 else npx.cpu()\n",
    "\n",
    "# Saved in the d2l package for later use\n",
    "def try_all_gpus():\n",
    "    \"\"\"Return all available GPUs, or [cpu(),] if no GPU exists.\"\"\"\n",
    "    ctxes = [npx.gpu(i) for i in range(npx.num_gpus())]\n",
    "    return ctxes if ctxes else [npx.cpu()]\n",
    "\n",
    "try_gpu(), try_gpu(3), try_all_gpus()"
   ]
  },
  {
   "cell_type": "markdown",
   "metadata": {},
   "source": [
    "## `ndarray` and GPUs\n",
    "\n",
    "By default, `ndarray` objects are created on the CPU.\n",
    "We can use the `ctx` property of `ndarray` \n",
    "to view the device where the `ndarray` is located."
   ]
  },
  {
   "cell_type": "code",
   "execution_count": 5,
   "metadata": {
    "attributes": {
     "classes": [],
     "id": "",
     "n": "4"
    }
   },
   "outputs": [
    {
     "data": {
      "text/plain": [
       "cpu(0)"
      ]
     },
     "execution_count": 5,
     "metadata": {},
     "output_type": "execute_result"
    }
   ],
   "source": [
    "x = np.array([1, 2, 3])\n",
    "x.ctx"
   ]
  },
  {
   "cell_type": "markdown",
   "metadata": {},
   "source": [
    "It is important to note that whenever we want\n",
    "to operate on multiple terms, \n",
    "they need to be in the same context. \n",
    "For instance, if we sum two ndarrays, \n",
    "we need to make sure that both arguments \n",
    "live on the same device---otherwise MXNet\n",
    "would not know where to store the result \n",
    "or even how to decide where to perform the computation.\n",
    "\n",
    "### Storage on the GPU\n",
    "\n",
    "There are several ways to store an `ndarray` on the GPU.\n",
    "For example, we can specify a storage device \n",
    "with the `ctx` parameter when creating an `ndarray`.\n",
    "Next, we create the `ndarray` variable `a` on `gpu(0)`.\n",
    "Notice that when printing `a`, the device information becomes `@gpu(0)`.\n",
    "The `ndarray` created on a GPU only consumes the memory of this GPU.\n",
    "We can use the `nvidia-smi` command to view GPU memory usage.\n",
    "In general, we need to make sure we do not \n",
    "create data that exceeds the GPU memory limit."
   ]
  },
  {
   "cell_type": "code",
   "execution_count": 6,
   "metadata": {
    "attributes": {
     "classes": [],
     "id": "",
     "n": "5"
    }
   },
   "outputs": [
    {
     "data": {
      "text/plain": [
       "array([[1., 1., 1.],\n",
       "       [1., 1., 1.]], ctx=gpu(0))"
      ]
     },
     "execution_count": 6,
     "metadata": {},
     "output_type": "execute_result"
    }
   ],
   "source": [
    "x = np.ones((2, 3), ctx=try_gpu())\n",
    "x"
   ]
  },
  {
   "cell_type": "markdown",
   "metadata": {},
   "source": [
    "Assuming you have at least two GPUs, the following code will create a random array on `gpu(1)`."
   ]
  },
  {
   "cell_type": "code",
   "execution_count": 7,
   "metadata": {},
   "outputs": [
    {
     "data": {
      "text/plain": [
       "array([[0.67478997, 0.07540122, 0.9956977 ],\n",
       "       [0.09488854, 0.415456  , 0.11231736]], ctx=gpu(1))"
      ]
     },
     "execution_count": 7,
     "metadata": {},
     "output_type": "execute_result"
    }
   ],
   "source": [
    "y = np.random.uniform(size=(2, 3), ctx=try_gpu(1))\n",
    "y"
   ]
  },
  {
   "cell_type": "markdown",
   "metadata": {},
   "source": [
    "### Copying\n",
    "\n",
    "If we want to compute $\\mathbf{x} + \\mathbf{y}$,\n",
    "we need to decide where to perform this operation.\n",
    "For instance, as shown in :numref:`fig_copyto`,\n",
    "we can transfer $\\mathbf{x}$ to `gpu(1)`\n",
    "and perform the operation there. \n",
    "*Do not* simply add `x + y`,\n",
    "since this will result in an exception. \n",
    "The runtime engine would not know what to do,\n",
    "it cannot find data on the same device and it fails.\n",
    "\n",
    "![Copyto copies arrays to the target device](../img/copyto.svg)\n",
    "\n",
    ":label:`fig_copyto`\n",
    "\n",
    "\n",
    "`copyto` copies the data to another device such that we can add them. \n",
    "Since $\\mathbf{y}$ lives on the second GPU,\n",
    "we need to move $\\mathbf{x}$ there before we can add the two."
   ]
  },
  {
   "cell_type": "code",
   "execution_count": 8,
   "metadata": {
    "attributes": {
     "classes": [],
     "id": "",
     "n": "7"
    }
   },
   "outputs": [
    {
     "name": "stdout",
     "output_type": "stream",
     "text": [
      "[[1. 1. 1.]\n",
      " [1. 1. 1.]] @gpu(0)\n",
      "[[1. 1. 1.]\n",
      " [1. 1. 1.]] @gpu(1)\n"
     ]
    }
   ],
   "source": [
    "z = x.copyto(try_gpu(1))\n",
    "print(x)\n",
    "print(z)"
   ]
  },
  {
   "cell_type": "markdown",
   "metadata": {},
   "source": [
    "Now that the data is on the same GPU \n",
    "(both $\\mathbf{z}$ and $\\mathbf{y}$ are), \n",
    "we can add them up. \n",
    "In such cases, MXNet places the result \n",
    "on the same device as its constituents.\n",
    "In our case, that is `@gpu(1)`."
   ]
  },
  {
   "cell_type": "code",
   "execution_count": 9,
   "metadata": {},
   "outputs": [
    {
     "data": {
      "text/plain": [
       "array([[1.6747899, 1.0754012, 1.9956977],\n",
       "       [1.0948886, 1.415456 , 1.1123173]], ctx=gpu(1))"
      ]
     },
     "execution_count": 9,
     "metadata": {},
     "output_type": "execute_result"
    }
   ],
   "source": [
    "y + z"
   ]
  },
  {
   "cell_type": "markdown",
   "metadata": {},
   "source": [
    "Imagine that your variable z already lives on your second GPU (gpu(1)).\n",
    "What happens if we call z.copyto(gpu(1))? \n",
    "It will make a copy and allocate new memory,\n",
    "even though that variable already lives on the desired device!\n",
    "There are times where depending on the environment our code is running in,\n",
    "two variables may already live on the same device.\n",
    "So we only want to make a copy if the variables \n",
    "currently lives on different contexts.\n",
    "In these cases, we can call `as_in_ctx()`.\n",
    "If the variable already live in the specified context\n",
    "then this is a no-op. \n",
    "Unless you specifically want to make a copy, \n",
    "`as_in_ctx()` is the method of choice."
   ]
  },
  {
   "cell_type": "code",
   "execution_count": 10,
   "metadata": {},
   "outputs": [
    {
     "data": {
      "text/plain": [
       "array([[1., 1., 1.],\n",
       "       [1., 1., 1.]], ctx=gpu(1))"
      ]
     },
     "execution_count": 10,
     "metadata": {},
     "output_type": "execute_result"
    }
   ],
   "source": [
    "z = x.as_in_ctx(try_gpu(1))\n",
    "z"
   ]
  },
  {
   "cell_type": "markdown",
   "metadata": {},
   "source": [
    "It is important to note that, \n",
    "if the `ctx` of the source variable and the target variable are consistent, \n",
    "then the `as_in_ctx` function causes the target variable \n",
    "and the source variable to share the memory of the source variable."
   ]
  },
  {
   "cell_type": "code",
   "execution_count": 11,
   "metadata": {
    "attributes": {
     "classes": [],
     "id": "",
     "n": "8"
    }
   },
   "outputs": [
    {
     "data": {
      "text/plain": [
       "True"
      ]
     },
     "execution_count": 11,
     "metadata": {},
     "output_type": "execute_result"
    }
   ],
   "source": [
    "y.as_in_ctx(try_gpu(1)) is y"
   ]
  },
  {
   "cell_type": "markdown",
   "metadata": {},
   "source": [
    "The `copyto` function always creates new memory for the target variable."
   ]
  },
  {
   "cell_type": "code",
   "execution_count": 12,
   "metadata": {},
   "outputs": [
    {
     "data": {
      "text/plain": [
       "False"
      ]
     },
     "execution_count": 12,
     "metadata": {},
     "output_type": "execute_result"
    }
   ],
   "source": [
    "y.copyto(try_gpu(1)) is y"
   ]
  },
  {
   "cell_type": "markdown",
   "metadata": {},
   "source": [
    "### Side Notes\n",
    "\n",
    "People use GPUs to do machine learning \n",
    "because they expect them to be fast.\n",
    "But transferring variables between contexts is slow.\n",
    "So we want you to be 100% certain \n",
    "that you want to do something slow before we let you do it.\n",
    "If MXNet just did the copy automatically \n",
    "without crashing then you might not realize\n",
    "that you had written some slow code.\n",
    "\n",
    "Also, transferring data between devices (CPU, GPUs, other machines)\n",
    "is something that is *much slower* than computation.\n",
    "It also makes parallelization a lot more difficult,\n",
    "since we have to wait for data to be sent (or rather to be received)\n",
    "before we can proceed with more operations. \n",
    "This is why copy operations should be taken with great care.\n",
    "As a rule of thumb, many small operations \n",
    "are much worse than one big operation. \n",
    "Moreover, several operations at a time \n",
    "are much better than many single operations interspersed in the code \n",
    "(unless you know what you are doing)\n",
    "This is the case since such operations can block if one device \n",
    "has to wait for the other before it can do something else.\n",
    "It is a bit like ordering your coffee in a queue \n",
    "rather than pre-ordering it by phone\n",
    "and finding out that it is ready when you are.\n",
    "\n",
    "Last, when we print `ndarray`s or convert `ndarray`s to the NumPy format, \n",
    "if the data is not in main memory, \n",
    "MXNet will copy it to the main memory first, \n",
    "resulting in additional transmission overhead.\n",
    "Even worse, it is now subject to the dreaded Global Interpreter Lock \n",
    "that makes everything wait for Python to complete.\n",
    "\n",
    "\n",
    "## Gluon and GPUs\n",
    "\n",
    "Similarly, Gluon's model can specify devices \n",
    "through the `ctx` parameter during initialization.\n",
    "The following code initializes the model parameters on the GPU \n",
    "(we will see many more examples of \n",
    "how to run models on GPUs in the following, \n",
    "simply since they will become somewhat more compute intensive)."
   ]
  },
  {
   "cell_type": "code",
   "execution_count": 13,
   "metadata": {
    "attributes": {
     "classes": [],
     "id": "",
     "n": "12"
    }
   },
   "outputs": [],
   "source": [
    "net = nn.Sequential()\n",
    "net.add(nn.Dense(1))\n",
    "net.initialize(ctx=try_gpu())"
   ]
  },
  {
   "cell_type": "markdown",
   "metadata": {},
   "source": [
    "When the input is an `ndarray` on the GPU, Gluon will calculate the result on the same GPU."
   ]
  },
  {
   "cell_type": "code",
   "execution_count": 14,
   "metadata": {
    "attributes": {
     "classes": [],
     "id": "",
     "n": "13"
    }
   },
   "outputs": [
    {
     "data": {
      "text/plain": [
       "array([[0.04995865],\n",
       "       [0.04995865]], ctx=gpu(0))"
      ]
     },
     "execution_count": 14,
     "metadata": {},
     "output_type": "execute_result"
    }
   ],
   "source": [
    "net(x)"
   ]
  },
  {
   "cell_type": "markdown",
   "metadata": {},
   "source": [
    "Let us confirm that the model parameters are stored on the same GPU."
   ]
  },
  {
   "cell_type": "code",
   "execution_count": 15,
   "metadata": {
    "attributes": {
     "classes": [],
     "id": "",
     "n": "14"
    }
   },
   "outputs": [
    {
     "data": {
      "text/plain": [
       "gpu(0)"
      ]
     },
     "execution_count": 15,
     "metadata": {},
     "output_type": "execute_result"
    }
   ],
   "source": [
    "net[0].weight.data().ctx"
   ]
  },
  {
   "cell_type": "markdown",
   "metadata": {},
   "source": [
    "In short, as long as all data and parameters are on the same device, we can learn models efficiently. In the following we will see several such examples.\n",
    "\n",
    "## Summary\n",
    "\n",
    "* MXNet can specify devices for storage and calculation, such as CPU or GPU. \n",
    "  By default, MXNet creates data in the main memory \n",
    "  and then uses the CPU for calculations.\n",
    "* MXNet requires all input data for calculation \n",
    "  to be *on the same device*, \n",
    "  be it CPU or the same GPU.\n",
    "* You can lose significant performance by moving data without care. \n",
    "  A typical mistake is as follows: computing the loss \n",
    "  for every minibatch on the GPU and reporting it back \n",
    "  to the user on the command line (or logging it in a NumPy array)\n",
    "  will trigger a global interpreter lock which stalls all GPUs.\n",
    "  It is much better to allocate memory \n",
    "  for logging inside the GPU and only move larger logs.\n",
    "\n",
    "## Exercises\n",
    "\n",
    "1. Try a larger computation task, such as the multiplication of large matrices, \n",
    "   and see the difference in speed between the CPU and GPU. \n",
    "   What about a task with a small amount of calculations?\n",
    "1. How should we read and write model parameters on the GPU?\n",
    "1. Measure the time it takes to compute 1000 \n",
    "   matrix-matrix multiplications of $100 \\times 100$ matrices \n",
    "   and log the matrix norm $\\mathrm{tr} M M^\\top$ one result at a time \n",
    "   vs. keeping a log on the GPU and transferring only the final result.\n",
    "1. Measure how much time it takes to perform two matrix-matrix multiplications \n",
    "   on two GPUs at the same time vs. in sequence \n",
    "   on one GPU (hint: you should see almost linear scaling).\n",
    "\n",
    "## [Discussions](https://discuss.mxnet.io/t/2330)\n",
    "\n",
    "![](../img/qr_use-gpu.svg)"
   ]
  }
 ],
 "metadata": {
  "language_info": {
   "name": "python"
  }
 },
 "nbformat": 4,
 "nbformat_minor": 2
}