{
 "cells": [
  {
   "cell_type": "markdown",
   "metadata": {},
   "source": [
    "# Layers and Blocks\n",
    "\n",
    ":label:`sec_model_construction`\n",
    "\n",
    "\n",
    "When we first introduced neural networks,\n",
    "we focused on linear models with a single output.\n",
    "Here, the entire model consists of just a single neuron.\n",
    "Note that a single neuron\n",
    "(i) takes some set of inputs;\n",
    "(ii) generates a corresponding (*scalar*) output;\n",
    "and (iii) has a set of associated parameters that can be updated \n",
    "to optimize some objective function of interest.\n",
    "Then, once we started thinking about networks with multiple outputs,\n",
    "we leveraged vectorized arithmetic\n",
    "to characterize an entire *layer* of neurons.\n",
    "Just like individual neurons, \n",
    "layers (i) take a set of inputs, \n",
    "(ii) generate corresponding outputs,\n",
    "and (iii) are described by a set of tunable parameters.\n",
    "When we worked through softmax regression,\n",
    "a single *layer* was itself *the model*.\n",
    "However, even when we subsequently \n",
    "introduced multilayer perceptrons,\n",
    "we could still think of the model as \n",
    "retaining this same basic structure.\n",
    "\n",
    "Interestingly, for multilayer perceptrons, \n",
    "both the *entire model* and its *constituent layers* \n",
    "share this structure. \n",
    "The (entire) model takes in raw inputs (the features),\n",
    "generates outputs (the predictions),\n",
    "and possesses parameters \n",
    "(the combined parameters from all constituent layers).\n",
    "Likewise, each individual layer ingests inputs \n",
    "(supplied by the previous layer)\n",
    "generates outputs (the inputs to the subsequent layer),\n",
    "and possesses a set of tunable parameters that are updated\n",
    "according to the signal that flows backwards \n",
    "from the subsequent layer.\n",
    "\n",
    "\n",
    "While you might think that neurons, layers, and models\n",
    "give us enough abstractions to go about our business,\n",
    "it turns out that we often find it convenient\n",
    "to speak about components that are\n",
    "larger than an individual layer\n",
    "but smaller than the entire model.\n",
    "For example, the ResNet-152 architecture,\n",
    "which is wildly popular in computer vision,\n",
    "possesses hundreds of layers.\n",
    "These layers consist of repeating patterns of *groups of layers*. Implementing such a network one layer at a time can grow tedious.\n",
    "This concern is not just hypothetical---such \n",
    "design patterns are common in practice.\n",
    "The ResNet architecture mentioned above\n",
    "won the 2015 ImageNet and COCO computer vision competitions\n",
    "for both recognition and detection :cite:`He.Zhang.Ren.ea.2016`\n",
    "and remains a go-to architecture for many vision tasks.\n",
    "Similar patterns are in which layers are arranged \n",
    "in various repeating patterns \n",
    "are now ubiquitous in other domains,\n",
    "including natural language processing and speech.\n",
    "\n",
    "To implement these complex networks,\n",
    "we introduce the concept of a neural network *block*.\n",
    "A block could describe a single layer,\n",
    "a component consisting of multiple layers,\n",
    "or the entire model itself!\n",
    "From a software standpoint, a `Block` is a *class*.\n",
    "Any subclass of `Block` must define a `forward` method \n",
    "that transforms its input into output\n",
    "and must store any necessary parameters.\n",
    "Note that some Blocks do not require any parameters at all!\n",
    "Finally a `Block` must possess a `backward` method,\n",
    "for purposes of calculating gradients.\n",
    "Fortunately, due to some behind-the-scenes magic\n",
    "supplied by the `autograd` package\n",
    "(introduced in :numref:`chap_preliminaries`)\n",
    "when defining our own `Block`,\n",
    "we only need to worry about parameters\n",
    "and the `forward` function.\n",
    "\n",
    "One benefit of working with the `Block` abstraction \n",
    "is that they can be combined into larger artifacts,\n",
    "often recursively, (see illustration in :numref:`fig_blocks`).\n",
    "\n",
    "![Multiple layers are combined into blocks](../img/blocks.svg)\n",
    "\n",
    ":label:`fig_blocks`\n",
    "\n",
    "\n",
    "By defining code to generate Blocks \n",
    "of arbitrary complexity on demand,\n",
    "we can write surprisingly compact code\n",
    "and still implement complex neural networks.\n",
    "\n",
    "To begin, we revisit the Blocks \n",
    "that we used to implement multilayer perceptrons\n",
    "(:numref:`sec_mlp_gluon`).\n",
    "The following code generates a network\n",
    "with one fully-connected hidden layer \n",
    "with 256 units and ReLU activation,\n",
    "followed by a fully-connected *output layer*\n",
    "with 10 units (no activation function)."
   ]
  },
  {
   "cell_type": "code",
   "execution_count": 1,
   "metadata": {
    "attributes": {
     "classes": [],
     "id": "",
     "n": "33"
    }
   },
   "outputs": [
    {
     "data": {
      "text/plain": [
       "array([[ 0.06240272, -0.03268593,  0.02582653,  0.02254182, -0.03728798,\n",
       "        -0.04253786,  0.00540613, -0.01364186, -0.09915452, -0.02272738],\n",
       "       [ 0.02816677, -0.03341204,  0.03565666,  0.02506382, -0.04136416,\n",
       "        -0.04941845,  0.01738528,  0.01081961, -0.09932579, -0.01176298]])"
      ]
     },
     "execution_count": 1,
     "metadata": {},
     "output_type": "execute_result"
    }
   ],
   "source": [
    "from mxnet import np, npx\n",
    "from mxnet.gluon import nn\n",
    "npx.set_np()\n",
    "\n",
    "x = np.random.uniform(size=(2, 20))\n",
    "\n",
    "net = nn.Sequential()\n",
    "net.add(nn.Dense(256, activation='relu'))\n",
    "net.add(nn.Dense(10))\n",
    "net.initialize()\n",
    "net(x)"
   ]
  },
  {
   "cell_type": "markdown",
   "metadata": {},
   "source": [
    "In this example, we constructed\n",
    "our model by instantiating an `nn.Sequential`,\n",
    "assigning the returned object to the `net` variable.\n",
    "Next, we repeatedly call its `add` method,\n",
    "appending layers in the order\n",
    "that they should be executed.\n",
    "In short, `nn.Sequential` defines a special kind of `Block`\n",
    "that mantains an ordered list of constituent `Blocks`.\n",
    "The `add` method simply facilitates\n",
    "the addition of each successive `Block` to the list.\n",
    "Note that each our layer is an instance of the `Dense` class\n",
    "which is itself a subclass of `Block`.\n",
    "The `forward` function is also remarkably simple:\n",
    "it chains each Block in the list together,\n",
    "passing the output of each as the input to the next.\n",
    "Note that until now, we have been invoking our models\n",
    "via the construction `net(X)` to obtain their outputs.\n",
    "This is actually just shorthand for `net.forward(X)`,\n",
    "a slick Python trick achieved via \n",
    "the Block class's `__call__` function.\n",
    "\n",
    "\n",
    "## A Custom Block\n",
    "\n",
    "Perhaps the easiest way to develop intuition\n",
    "about how `nn.Block` works\n",
    "is to implement one ourselves.\n",
    "Before we implement our own custom `Block`,\n",
    "we briefly summarize the basic functionality\n",
    "that each `Block` must provide:\n",
    "\n",
    "1. Ingest input data as arguments to its `forward` method.\n",
    "1. Generate an output by having `forward` return a value. \n",
    "   Note that the output may have a different shape from the input.      For example, the first Dense layer in our model above ingests an      input of arbitrary dimension but returns \n",
    "   an output of dimension 256.\n",
    "1. Calculate the gradient of its output with respect to its input,      which can be accessed via its `backward` method. \n",
    "   Typically this happens automatically.\n",
    "1. Store and provide access to those parameters necessary \n",
    "   to execute the `forward` computation.\n",
    "1. Initialize these parameters as needed.\n",
    "\n",
    "In the following snippet,\n",
    "we code up a Block from scratch\n",
    "corresponding to a multilayer perceptron\n",
    "with one hidden layer with 256 hidden nodes, \n",
    "and a 10-dimensional output layer.\n",
    "Note that the `MLP` class below inherits the `Block` class.\n",
    "We will rely heavily on the parent class's methods,\n",
    "supplying only our own `__init__` and `forward` methods."
   ]
  },
  {
   "cell_type": "code",
   "execution_count": 2,
   "metadata": {
    "attributes": {
     "classes": [],
     "id": "",
     "n": "34"
    }
   },
   "outputs": [],
   "source": [
    "from mxnet.gluon import nn\n",
    "\n",
    "class MLP(nn.Block):\n",
    "    # Declare a layer with model parameters. Here, we declare two fully\n",
    "    # connected layers\n",
    "    def __init__(self, **kwargs):\n",
    "        # Call the constructor of the MLP parent class Block to perform the\n",
    "        # necessary initialization. In this way, other function parameters can\n",
    "        # also be specified when constructing an instance, such as the model\n",
    "        # parameter, params, described in the following sections\n",
    "        super(MLP, self).__init__(**kwargs)\n",
    "        self.hidden = nn.Dense(256, activation='relu')  # Hidden layer\n",
    "        self.output = nn.Dense(10)  # Output layer\n",
    "\n",
    "    # Define the forward computation of the model, that is, how to return the\n",
    "    # required model output based on the input x\n",
    "    def forward(self, x):\n",
    "        return self.output(self.hidden(x))"
   ]
  },
  {
   "cell_type": "markdown",
   "metadata": {},
   "source": [
    "To begin, let us focus on the `forward` method.\n",
    "Note that it takes `x` as input,\n",
    "calculates the hidden representation (`self.hidden(x)`),\n",
    "and outputs its logits (`self.output( ... )`).\n",
    "In this MLP implementation,\n",
    "both layers are instance variables.\n",
    "To see why this is reasonable, imagine\n",
    "instantiating two MLPs, `net1` and `net2`,\n",
    "and training them on different data.\n",
    "Naturally, we would expect them\n",
    "to represent two different learned models.\n",
    "\n",
    "We instantiate the MLP's layers\n",
    "in the `__init__` method (the constructor)\n",
    "and subsequently invoke these layers\n",
    "on each call to the `forward` method.\n",
    "Note a few key details.\n",
    "First, our customized `__init__` method \n",
    "invokes the parent class's `__init__` method\n",
    "via `super(MLP, self).__init__(**kwargs)`\n",
    "sparing us the pain of restating\n",
    "boilerplate code applicable to most Blocks.\n",
    "We then instantiate our two `Dense` layers,\n",
    "assigning them to `self.hidden` and `self.output`.\n",
    "Note that unless we implement a new operator,\n",
    "we need not worry about backpropagation (the `backward` method)\n",
    "or parameter initialization (the `initialize` method).\n",
    "Gluon will generate these methods automatically.\n",
    "Let us try this out:"
   ]
  },
  {
   "cell_type": "code",
   "execution_count": 3,
   "metadata": {
    "attributes": {
     "classes": [],
     "id": "",
     "n": "35"
    }
   },
   "outputs": [
    {
     "data": {
      "text/plain": [
       "array([[-0.03989594, -0.1041471 ,  0.06799038,  0.05245074,  0.02526059,\n",
       "        -0.00640342,  0.04182098, -0.01665319, -0.02067346, -0.07863817],\n",
       "       [-0.03612847, -0.07210436,  0.09159479,  0.07890771,  0.02494172,\n",
       "        -0.01028665,  0.01732428, -0.02843242,  0.03772651, -0.06671704]])"
      ]
     },
     "execution_count": 3,
     "metadata": {},
     "output_type": "execute_result"
    }
   ],
   "source": [
    "net = MLP()\n",
    "net.initialize()\n",
    "net(x)"
   ]
  },
  {
   "cell_type": "markdown",
   "metadata": {},
   "source": [
    "A key virtue of the `Block` abstraction is its versatility.\n",
    "We can subclass `Block` to create layers\n",
    "(such as the `Dense` class provided by Gluon),\n",
    "entire models (such as the `MLP` above),\n",
    "or various components of intermediate complexity.\n",
    "We exploit this versatility\n",
    "throughout the following chapters,\n",
    "especially when addressing \n",
    "convolutional neural networks.\n",
    "\n",
    "\n",
    "## The Sequential Block\n",
    "\n",
    "We can now take a closer look \n",
    "at how the `Sequential` class works.\n",
    "Recall that `Sequential` was designed \n",
    "to daisy-chain other Blocks together.\n",
    "To build our own simplified `MySequential`,\n",
    "we just need to define two key methods:\n",
    "1. An `add` method for appending Blocks one by one to a list.\n",
    "2. A `forward` method to pass an input through the chain of Blocks\n",
    "(in the same order as they were appended).\n",
    "\n",
    "The following `MySequential` class delivers the same \n",
    "functionality as Gluon's default `Sequential` class:"
   ]
  },
  {
   "cell_type": "code",
   "execution_count": 4,
   "metadata": {
    "attributes": {
     "classes": [],
     "id": "",
     "n": "36"
    }
   },
   "outputs": [],
   "source": [
    "class MySequential(nn.Block):\n",
    "    def add(self, block):\n",
    "        # Here, block is an instance of a Block subclass, and we assume it has\n",
    "        # a unique name. We save it in the member variable _children of the\n",
    "        # Block class, and its type is OrderedDict. When the MySequential\n",
    "        # instance calls the initialize function, the system automatically\n",
    "        # initializes all members of _children\n",
    "        self._children[block.name] = block\n",
    "\n",
    "    def forward(self, x):\n",
    "        # OrderedDict guarantees that members will be traversed in the order\n",
    "        # they were added\n",
    "        for block in self._children.values():\n",
    "            x = block(x)\n",
    "        return x"
   ]
  },
  {
   "cell_type": "markdown",
   "metadata": {},
   "source": [
    "The `add` method adds a single Block \n",
    "to the ordered dictionary `_children`. \n",
    "You might wonder why every Gluon `Block` \n",
    "possesses a `_children` attribute \n",
    "and why we used it rather than just \n",
    "defining a Python list ourselves.\n",
    "In short the chief advantage of `_children`\n",
    "is that during our Block's parameter inititialization,\n",
    "Gluon knows to look in the `_children`\n",
    "dictionary to find sub-Blocks whose \n",
    "parameters also need to be initialized.\n",
    "\n",
    "When our `MySequential` Block's `forward` method is invoked,\n",
    "each added `Block` is executed \n",
    "in the order in which they were added.\n",
    "We can now reimplement an MLP \n",
    "using our `MySequential` class."
   ]
  },
  {
   "cell_type": "code",
   "execution_count": 5,
   "metadata": {
    "attributes": {
     "classes": [],
     "id": "",
     "n": "37"
    }
   },
   "outputs": [
    {
     "data": {
      "text/plain": [
       "array([[-0.07645682, -0.01130233,  0.04952145, -0.04651389, -0.04131573,\n",
       "        -0.05884133, -0.0621381 ,  0.01311472, -0.01379425, -0.02514282],\n",
       "       [-0.05124625,  0.00711231, -0.00155935, -0.07555379, -0.06675334,\n",
       "        -0.01762914,  0.00589084,  0.01447191, -0.04330775,  0.03317726]])"
      ]
     },
     "execution_count": 5,
     "metadata": {},
     "output_type": "execute_result"
    }
   ],
   "source": [
    "net = MySequential()\n",
    "net.add(nn.Dense(256, activation='relu'))\n",
    "net.add(nn.Dense(10))\n",
    "net.initialize()\n",
    "net(x)"
   ]
  },
  {
   "cell_type": "markdown",
   "metadata": {},
   "source": [
    "Note that this use of `MySequential`\n",
    "is identical to the code we previously wrote \n",
    "for the Gluon `Sequential` class \n",
    "(as described in :numref:`sec_mlp_gluon`).\n",
    "\n",
    "\n",
    "## Executing Code in the `forward` Method\n",
    "\n",
    "The `nn.Sequential` class makes model construction easy,\n",
    "allowing us to assemble new architectures\n",
    "without having to defined our own class.\n",
    "However, not all architectures are simple daisy chains.\n",
    "When greater flexibility is required,\n",
    "we will want to define our own `Block`s.\n",
    "For example, we might want to exectute \n",
    "Python's control flow within the forward method.\n",
    "Moreover we might want to perform\n",
    "arbitrary mathematical operations,\n",
    "not simply relying on predefined neural network layers.\n",
    "\n",
    "You might have noticed that until now,\n",
    "all of the operations in our networks\n",
    "have acted upon our network's activations\n",
    "and its parameters. \n",
    "Sometimes, however, we might want to \n",
    "incorporate terms constant terms \n",
    "which are neither the result of previous layers\n",
    "nor updatable parameters. \n",
    "In Gluon, we call these *constant* parameters. \n",
    "Say for example that we want a layer\n",
    "that calculates the function \n",
    "$f(\\mathbf{x},\\mathbf{w}) = c \\cdot \\mathbf{w}^\\top \\mathbf{x}$,\n",
    "where $\\mathbf{x}$ is the input, $\\mathbf{w}$ is our parameter,\n",
    "and $c$ is some specified constant \n",
    "that is not updated during optimization.\n",
    "\n",
    "Declaring constants explicitly (via `get_constant`)\n",
    "makes this clear helps Gluon to speed up execution.\n",
    "In the following code, we will implement a model\n",
    "that could not easily be assembled\n",
    "using only predefined layers and `Sequential`."
   ]
  },
  {
   "cell_type": "code",
   "execution_count": 6,
   "metadata": {
    "attributes": {
     "classes": [],
     "id": "",
     "n": "38"
    }
   },
   "outputs": [],
   "source": [
    "class FixedHiddenMLP(nn.Block):\n",
    "    def __init__(self, **kwargs):\n",
    "        super(FixedHiddenMLP, self).__init__(**kwargs)\n",
    "        # Random weight parameters created with the get_constant are not\n",
    "        # iterated during training (i.e., constant parameters)\n",
    "        self.rand_weight = self.params.get_constant(\n",
    "            'rand_weight', np.random.uniform(size=(20, 20)))\n",
    "        self.dense = nn.Dense(20, activation='relu')\n",
    "\n",
    "    def forward(self, x):\n",
    "        x = self.dense(x)\n",
    "        # Use the constant parameters created, as well as the relu\n",
    "        # and dot functions\n",
    "        x = npx.relu(np.dot(x, self.rand_weight.data()) + 1)\n",
    "        # Reuse the fully connected layer. This is equivalent to sharing\n",
    "        # parameters with two fully connected layers\n",
    "        x = self.dense(x)\n",
    "        # Here in Control flow, we need to call asscalar to return the scalar\n",
    "        # for comparison\n",
    "        while np.abs(x).sum() > 1:\n",
    "            x /= 2\n",
    "        return x.sum()"
   ]
  },
  {
   "cell_type": "markdown",
   "metadata": {},
   "source": [
    "In this `FixedHiddenMLP` model,\n",
    "we implement a hidden layer whose weights \n",
    "(`self.rand_weight`) are initialized randomly\n",
    "at instantiation and are thereafter constant. \n",
    "This weight is not a model parameter\n",
    "and thus it is never updated by backpropagation.\n",
    "The network then passes the output of this *fixed* layer\n",
    "through a `Dense` layer. \n",
    "\n",
    "Note that before returning output,\n",
    "our model did something unusual.\n",
    "We ran a `while` loop, testing \n",
    "on the condition `np.abs(x).sum() > 1`,\n",
    "and dividing our output vector by $2$ \n",
    "until it satisfied the condition.\n",
    "Finally, we outputed the sum of the entries in `x`.\n",
    "To our knowledge, no standard neural network\n",
    "performs this operation.\n",
    "Note that this particular operation may not be useful\n",
    "in any real world task. \n",
    "Our point is only to show you how to integrate\n",
    "arbitrary code into the flow of your \n",
    "neural network computations."
   ]
  },
  {
   "cell_type": "code",
   "execution_count": 7,
   "metadata": {
    "attributes": {
     "classes": [],
     "id": "",
     "n": "39"
    }
   },
   "outputs": [
    {
     "data": {
      "text/plain": [
       "array(0.52637565)"
      ]
     },
     "execution_count": 7,
     "metadata": {},
     "output_type": "execute_result"
    }
   ],
   "source": [
    "net = FixedHiddenMLP()\n",
    "net.initialize()\n",
    "net(x)"
   ]
  },
  {
   "cell_type": "markdown",
   "metadata": {},
   "source": [
    "With Gluon, we can mix and match various \n",
    "ways of assembling `Block`s together.\n",
    "In the following example, we nest `Block`s\n",
    "in some creative ways."
   ]
  },
  {
   "cell_type": "code",
   "execution_count": 8,
   "metadata": {
    "attributes": {
     "classes": [],
     "id": "",
     "n": "40"
    }
   },
   "outputs": [
    {
     "data": {
      "text/plain": [
       "array(0.97720534)"
      ]
     },
     "execution_count": 8,
     "metadata": {},
     "output_type": "execute_result"
    }
   ],
   "source": [
    "class NestMLP(nn.Block):\n",
    "    def __init__(self, **kwargs):\n",
    "        super(NestMLP, self).__init__(**kwargs)\n",
    "        self.net = nn.Sequential()\n",
    "        self.net.add(nn.Dense(64, activation='relu'),\n",
    "                     nn.Dense(32, activation='relu'))\n",
    "        self.dense = nn.Dense(16, activation='relu')\n",
    "\n",
    "    def forward(self, x):\n",
    "        return self.dense(self.net(x))\n",
    "\n",
    "chimera = nn.Sequential()\n",
    "chimera.add(NestMLP(), nn.Dense(20), FixedHiddenMLP())\n",
    "\n",
    "chimera.initialize()\n",
    "chimera(x)"
   ]
  },
  {
   "cell_type": "markdown",
   "metadata": {},
   "source": [
    "## Compilation\n",
    "\n",
    "The avid reader might start to worry \n",
    "about the efficiency of some of these operations. \n",
    "After all, we have lots of dictionary lookups, \n",
    "code execution, and lots of other Pythonic things \n",
    "taking place in what is supposed to be \n",
    "a high performance deep learning library.\n",
    "The problems of Python's [Global Interpreter Lock](https://wiki.python.org/moin/GlobalInterpreterLock) are well known. In the context of deep learning,\n",
    "we worry that our extremely fast GPU(s)\n",
    "might have to wait until a puny CPU\n",
    "runs Python code before it gets another job to run.\n",
    "The best way to speed up Python is by avoiding it altogether.\n",
    "One way that Gluon does this by allowing for \n",
    "Hybridization (:numref:`sec_hybridize`). \n",
    "Here, the Python interpreter executes a Block\n",
    "the first time it is invoked. \n",
    "The Gluon runtime records what is happening\n",
    "and the next time around it short-circuits calls to Python.\n",
    "This can accelerate things considerably in some cases\n",
    "but care needs to be taken when control flow (as above)\n",
    "lead down different branches on different passes through the net.\n",
    "We recommend that the interested reader check out \n",
    "the hybridization section (:numref:`sec_hybridize`)\n",
    "to learn about compilation after finishing the current chapter.\n",
    "\n",
    "\n",
    "## Summary\n",
    "\n",
    "* Layers are Blocks.\n",
    "* Many layers can comprise a Block.\n",
    "* Many Blocks can comprise a Block.\n",
    "* A Block can contain code.\n",
    "* Blocks take care of lots of housekeeping, including parameter initialization and backpropagation.\n",
    "* Sequential concatenations of layers and blocks are handled by the `Sequential` Block.\n",
    "\n",
    "\n",
    "## Exercises\n",
    "\n",
    "1. What kinds of problems will occur if you remove the `asscalar` function in the `FixedHiddenMLP` class?\n",
    "1. What kinds of problems will occur if you change `self.net` defined by the Sequential instance in the `NestMLP` class to `self.net = [nn.Dense(64, activation='relu'), nn. Dense(32, activation='relu')]`?\n",
    "1. Implement a block that takes two blocks as an argument, say `net1` and `net2` and returns the concatenated output of both networks in the forward pass (this is also called a parallel block).\n",
    "1. Assume that you want to concatenate multiple instances of the same network. Implement a factory function that generates multiple instances of the same block and build a larger network from it.\n",
    "\n",
    "## [Discussions](https://discuss.mxnet.io/t/2325)\n",
    "\n",
    "![](../img/qr_model-construction.svg)"
   ]
  }
 ],
 "metadata": {
  "language_info": {
   "name": "python"
  }
 },
 "nbformat": 4,
 "nbformat_minor": 2
}