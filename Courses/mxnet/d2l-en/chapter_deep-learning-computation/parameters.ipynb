{
 "cells": [
  {
   "cell_type": "markdown",
   "metadata": {},
   "source": [
    "# Parameter Management\n",
    "\n",
    "Once we have chosen an architecture\n",
    "and set our hyperparameters,\n",
    "we proceed to the training loop,\n",
    "where our goal is to find parameter values\n",
    "that minimize our objective function. \n",
    "After training, we will need these parameters \n",
    "in order to make future predictions.\n",
    "Additionally, we will sometimes wish \n",
    "to extract the parameters \n",
    "either to reuse them in some other context,\n",
    "to save our model to disk so that \n",
    "it may be exectuted in other software,\n",
    "or for examination in the hopes of \n",
    "gaining scientific understanding.\n",
    "\n",
    "Most of the time, we will be able \n",
    "to ignore the nitty-gritty details\n",
    "of how parameters are declared\n",
    "and manipulated, relying on Gluon\n",
    "to do the heavy lifting.\n",
    "However, when we move away from \n",
    "stacked architectures with standard layers, \n",
    "we will sometimes need to get into the weeds\n",
    "of declaring and manipulate parameters. \n",
    "In this section, we cover the following:\n",
    "\n",
    "* Accessing parameters for debugging, diagnostics, and visualiziations.\n",
    "* Parameter initialization.\n",
    "* Sharing parameters across different model components.\n",
    "\n",
    "We start by focusing on an MLP with one hidden layer."
   ]
  },
  {
   "cell_type": "code",
   "execution_count": 1,
   "metadata": {
    "attributes": {
     "classes": [],
     "id": "",
     "n": "1"
    }
   },
   "outputs": [
    {
     "data": {
      "text/plain": [
       "array([[ 0.06240272, -0.03268593,  0.02582653,  0.02254182, -0.03728798,\n",
       "        -0.04253786,  0.00540613, -0.01364186, -0.09915452, -0.02272738],\n",
       "       [ 0.02816677, -0.03341204,  0.03565666,  0.02506382, -0.04136416,\n",
       "        -0.04941845,  0.01738528,  0.01081961, -0.09932579, -0.01176298]])"
      ]
     },
     "execution_count": 1,
     "metadata": {},
     "output_type": "execute_result"
    }
   ],
   "source": [
    "from mxnet import init, np, npx\n",
    "from mxnet.gluon import nn\n",
    "npx.set_np()\n",
    "\n",
    "net = nn.Sequential()\n",
    "net.add(nn.Dense(256, activation='relu'))\n",
    "net.add(nn.Dense(10))\n",
    "net.initialize()  # Use the default initialization method\n",
    "\n",
    "x = np.random.uniform(size=(2, 20))\n",
    "net(x)  # Forward computation"
   ]
  },
  {
   "cell_type": "markdown",
   "metadata": {},
   "source": [
    "## Parameter Access\n",
    "\n",
    "Let us start with how to access parameters\n",
    "from the models that you already know.\n",
    "When a model is defined via the Sequential class,\n",
    "we can first access any layer by indexing \n",
    "into the model as though it were a list.\n",
    "Each layer's parameters are conveniently \n",
    "located in its `params` attribute. \n",
    "We can inspect the parameters of the `net` defined above."
   ]
  },
  {
   "cell_type": "code",
   "execution_count": 2,
   "metadata": {
    "attributes": {
     "classes": [],
     "id": "",
     "n": "2"
    }
   },
   "outputs": [
    {
     "name": "stdout",
     "output_type": "stream",
     "text": [
      "dense0_ (\n",
      "  Parameter dense0_weight (shape=(256, 20), dtype=float32)\n",
      "  Parameter dense0_bias (shape=(256,), dtype=float32)\n",
      ")\n",
      "dense1_ (\n",
      "  Parameter dense1_weight (shape=(10, 256), dtype=float32)\n",
      "  Parameter dense1_bias (shape=(10,), dtype=float32)\n",
      ")\n"
     ]
    }
   ],
   "source": [
    "print(net[0].params)\n",
    "print(net[1].params)"
   ]
  },
  {
   "cell_type": "markdown",
   "metadata": {},
   "source": [
    "The output tells us a few important things.\n",
    "First, each fully-connected layer \n",
    "contains two parameters, e.g., \n",
    "`dense0_weight` and `dense0_bias`,\n",
    "corresponding to that layer's \n",
    "weights and biases, respectively.\n",
    "Both are stored as single precision floats.\n",
    "Note that the names of the parameters\n",
    "are allow us to *uniquely* identify\n",
    "each layer's parameters,\n",
    "even in a network contains hundreds of layers.\n",
    "\n",
    "\n",
    "### Targeted Parameters\n",
    "\n",
    "Note that each parameters is represented\n",
    "as an instance of the `Parameter` class.\n",
    "To do anything useful with the parameters,\n",
    "we first need to access the underlying numerical values. \n",
    "There are several ways to do this.\n",
    "Some are simpler while others are more general.\n",
    "To begin, given a layer, \n",
    "we can access one of its parameters \n",
    "via the `bias` or `weight` attributes,\n",
    "and further access that parameter's value\n",
    "via its `data()` method.\n",
    "The following code extracts the bias\n",
    "from the second neural network layer."
   ]
  },
  {
   "cell_type": "code",
   "execution_count": 3,
   "metadata": {
    "attributes": {
     "classes": [],
     "id": "",
     "n": "3"
    }
   },
   "outputs": [
    {
     "name": "stdout",
     "output_type": "stream",
     "text": [
      "Parameter dense1_bias (shape=(10,), dtype=float32)\n",
      "[0. 0. 0. 0. 0. 0. 0. 0. 0. 0.]\n"
     ]
    }
   ],
   "source": [
    "print(net[1].bias)\n",
    "print(net[1].bias.data())"
   ]
  },
  {
   "cell_type": "markdown",
   "metadata": {},
   "source": [
    "Parameters are complex objects,\n",
    "containing data, gradients,\n",
    "and additional information.\n",
    "That's why we need to request the data explicitly.\n",
    "Note that the bias vector consists of zeroes\n",
    "because we have not updated the network\n",
    "since it was initialized.\n",
    "We can also access each parameter by name,\n",
    "e.g., `dense0_weight` as follows. \n",
    "Under the hood this is possible because\n",
    "each layer contains a parameter dictionary."
   ]
  },
  {
   "cell_type": "code",
   "execution_count": 4,
   "metadata": {
    "attributes": {
     "classes": [],
     "id": "",
     "n": "4"
    }
   },
   "outputs": [
    {
     "name": "stdout",
     "output_type": "stream",
     "text": [
      "Parameter dense0_weight (shape=(256, 20), dtype=float32)\n",
      "[[ 0.06700657 -0.00369488  0.0418822  ... -0.05517294 -0.01194733\n",
      "  -0.00369594]\n",
      " [-0.03296221 -0.04391347  0.03839272 ...  0.05636378  0.02545484\n",
      "  -0.007007  ]\n",
      " [-0.0196689   0.01582889 -0.00881553 ...  0.01509629 -0.01908049\n",
      "  -0.02449339]\n",
      " ...\n",
      " [-0.02055008 -0.02618652  0.06762936 ... -0.02315108 -0.06794678\n",
      "  -0.04618235]\n",
      " [ 0.02802853  0.06672969  0.05018687 ... -0.02206502 -0.01315478\n",
      "  -0.03791244]\n",
      " [-0.00638592  0.00914261  0.06667828 ... -0.00800052  0.03406764\n",
      "  -0.03954004]]\n"
     ]
    }
   ],
   "source": [
    "print(net[0].params['dense0_weight'])\n",
    "print(net[0].params['dense0_weight'].data())"
   ]
  },
  {
   "cell_type": "markdown",
   "metadata": {},
   "source": [
    "Note that unlike the biases, the weights are nonzero. \n",
    "This is because unlike biases, \n",
    "weights are initialized randomly. \n",
    "In addition to `data`, each `Parameter`\n",
    "also provides a `grad()` method for \n",
    "accessing the gradient. \n",
    "It has the same shape as the weight. \n",
    "Because we have not invoked backpropagation \n",
    "for this network yet, its values are all 0."
   ]
  },
  {
   "cell_type": "code",
   "execution_count": 5,
   "metadata": {
    "attributes": {
     "classes": [],
     "id": "",
     "n": "5"
    }
   },
   "outputs": [
    {
     "data": {
      "text/plain": [
       "array([[0., 0., 0., ..., 0., 0., 0.],\n",
       "       [0., 0., 0., ..., 0., 0., 0.],\n",
       "       [0., 0., 0., ..., 0., 0., 0.],\n",
       "       ...,\n",
       "       [0., 0., 0., ..., 0., 0., 0.],\n",
       "       [0., 0., 0., ..., 0., 0., 0.],\n",
       "       [0., 0., 0., ..., 0., 0., 0.]])"
      ]
     },
     "execution_count": 5,
     "metadata": {},
     "output_type": "execute_result"
    }
   ],
   "source": [
    "net[0].weight.grad()"
   ]
  },
  {
   "cell_type": "markdown",
   "metadata": {},
   "source": [
    "### All Parameters at Once\n",
    "\n",
    "When we need to perform operations on all parameters,\n",
    "accessing them one-by-one can grow tedious.\n",
    "The situation can grow especially unwieldy\n",
    "when we work with more complex Blocks, (e.g., nested Blocks),\n",
    "since we would need to recurse \n",
    "through the entire tree in to extact\n",
    "each sub-Block's parameters.\n",
    "To avoid this, each Block comes \n",
    "with a `collect_params`  method \n",
    "that returns all Parameters in a single dictionary.\n",
    "We can invoke `collect_params` on a single layer \n",
    "or a whole network as follows:"
   ]
  },
  {
   "cell_type": "code",
   "execution_count": 6,
   "metadata": {
    "attributes": {
     "classes": [],
     "id": "",
     "n": "6"
    }
   },
   "outputs": [
    {
     "name": "stdout",
     "output_type": "stream",
     "text": [
      "dense0_ (\n",
      "  Parameter dense0_weight (shape=(256, 20), dtype=float32)\n",
      "  Parameter dense0_bias (shape=(256,), dtype=float32)\n",
      ")\n",
      "sequential0_ (\n",
      "  Parameter dense0_weight (shape=(256, 20), dtype=float32)\n",
      "  Parameter dense0_bias (shape=(256,), dtype=float32)\n",
      "  Parameter dense1_weight (shape=(10, 256), dtype=float32)\n",
      "  Parameter dense1_bias (shape=(10,), dtype=float32)\n",
      ")\n"
     ]
    }
   ],
   "source": [
    "# parameters only for the first layer\n",
    "print(net[0].collect_params())\n",
    "# parameters of the entire network\n",
    "print(net.collect_params())"
   ]
  },
  {
   "cell_type": "markdown",
   "metadata": {},
   "source": [
    "This provides us with a third way of accessing the parameters of the network:"
   ]
  },
  {
   "cell_type": "code",
   "execution_count": 7,
   "metadata": {
    "attributes": {
     "classes": [],
     "id": "",
     "n": "7"
    }
   },
   "outputs": [
    {
     "data": {
      "text/plain": [
       "array([0., 0., 0., 0., 0., 0., 0., 0., 0., 0.])"
      ]
     },
     "execution_count": 7,
     "metadata": {},
     "output_type": "execute_result"
    }
   ],
   "source": [
    "net.collect_params()['dense1_bias'].data()"
   ]
  },
  {
   "cell_type": "markdown",
   "metadata": {},
   "source": [
    "Throughout the book we encounter Blocks \n",
    "that name their sub-Blocks in various ways. \n",
    "Sequential simply numbers them.\n",
    "We can exploit this naming convention by leveraging\n",
    "one clever feature of `collect_params`:\n",
    "it allows us to filter the parameters \n",
    "returned by using regular expressions."
   ]
  },
  {
   "cell_type": "code",
   "execution_count": 8,
   "metadata": {
    "attributes": {
     "classes": [],
     "id": "",
     "n": "8"
    }
   },
   "outputs": [
    {
     "name": "stdout",
     "output_type": "stream",
     "text": [
      "sequential0_ (\n",
      "  Parameter dense0_weight (shape=(256, 20), dtype=float32)\n",
      "  Parameter dense1_weight (shape=(10, 256), dtype=float32)\n",
      ")\n",
      "sequential0_ (\n",
      "  Parameter dense0_weight (shape=(256, 20), dtype=float32)\n",
      "  Parameter dense0_bias (shape=(256,), dtype=float32)\n",
      ")\n"
     ]
    }
   ],
   "source": [
    "print(net.collect_params('.*weight'))\n",
    "print(net.collect_params('dense0.*'))"
   ]
  },
  {
   "cell_type": "markdown",
   "metadata": {},
   "source": [
    "### Collecting Parameters from Nested Blocks\n",
    "\n",
    "Let us see how the parameter naming conventions work \n",
    "if we nest multiple blocks inside each other. \n",
    "For that we first define a function that produces Blocks \n",
    "(a Block factory, so to speak) and then \n",
    "combine these inside yet larger Blocks."
   ]
  },
  {
   "cell_type": "code",
   "execution_count": 9,
   "metadata": {
    "attributes": {
     "classes": [],
     "id": "",
     "n": "20"
    }
   },
   "outputs": [
    {
     "data": {
      "text/plain": [
       "array([[-4.1923025e-09,  1.9830502e-09,  8.9444063e-10,  6.2912990e-09,\n",
       "        -3.3241778e-09,  5.4330038e-09,  1.6013515e-09, -3.7408681e-09,\n",
       "         8.5468477e-09, -6.4805539e-09],\n",
       "       [-3.7507064e-09,  1.4866974e-09,  6.8314709e-10,  5.6925784e-09,\n",
       "        -2.6349172e-09,  4.8626667e-09,  1.4280275e-09, -3.4603027e-09,\n",
       "         7.4127922e-09, -5.7896132e-09]])"
      ]
     },
     "execution_count": 9,
     "metadata": {},
     "output_type": "execute_result"
    }
   ],
   "source": [
    "def block1():\n",
    "    net = nn.Sequential()\n",
    "    net.add(nn.Dense(32, activation='relu'))\n",
    "    net.add(nn.Dense(16, activation='relu'))\n",
    "    return net\n",
    "\n",
    "def block2():\n",
    "    net = nn.Sequential()\n",
    "    for i in range(4):\n",
    "        net.add(block1())\n",
    "    return net\n",
    "\n",
    "rgnet = nn.Sequential()\n",
    "rgnet.add(block2())\n",
    "rgnet.add(nn.Dense(10))\n",
    "rgnet.initialize()\n",
    "rgnet(x)"
   ]
  },
  {
   "cell_type": "markdown",
   "metadata": {},
   "source": [
    "Now that we have designed the network, \n",
    "let us see how it is organized.\n",
    "Notice below that while `collect_params()`\n",
    "produces a list of named parameters,\n",
    "invoking `collect_params` as an attribute\n",
    "reveals our network's structure."
   ]
  },
  {
   "cell_type": "code",
   "execution_count": 10,
   "metadata": {},
   "outputs": [
    {
     "name": "stdout",
     "output_type": "stream",
     "text": [
      "<bound method Block.collect_params of Sequential(\n",
      "  (0): Sequential(\n",
      "    (0): Sequential(\n",
      "      (0): Dense(20 -> 32, Activation(relu))\n",
      "      (1): Dense(32 -> 16, Activation(relu))\n",
      "    )\n",
      "    (1): Sequential(\n",
      "      (0): Dense(16 -> 32, Activation(relu))\n",
      "      (1): Dense(32 -> 16, Activation(relu))\n",
      "    )\n",
      "    (2): Sequential(\n",
      "      (0): Dense(16 -> 32, Activation(relu))\n",
      "      (1): Dense(32 -> 16, Activation(relu))\n",
      "    )\n",
      "    (3): Sequential(\n",
      "      (0): Dense(16 -> 32, Activation(relu))\n",
      "      (1): Dense(32 -> 16, Activation(relu))\n",
      "    )\n",
      "  )\n",
      "  (1): Dense(16 -> 10, linear)\n",
      ")>\n",
      "sequential1_ (\n",
      "  Parameter dense2_weight (shape=(32, 20), dtype=float32)\n",
      "  Parameter dense2_bias (shape=(32,), dtype=float32)\n",
      "  Parameter dense3_weight (shape=(16, 32), dtype=float32)\n",
      "  Parameter dense3_bias (shape=(16,), dtype=float32)\n",
      "  Parameter dense4_weight (shape=(32, 16), dtype=float32)\n",
      "  Parameter dense4_bias (shape=(32,), dtype=float32)\n",
      "  Parameter dense5_weight (shape=(16, 32), dtype=float32)\n",
      "  Parameter dense5_bias (shape=(16,), dtype=float32)\n",
      "  Parameter dense6_weight (shape=(32, 16), dtype=float32)\n",
      "  Parameter dense6_bias (shape=(32,), dtype=float32)\n",
      "  Parameter dense7_weight (shape=(16, 32), dtype=float32)\n",
      "  Parameter dense7_bias (shape=(16,), dtype=float32)\n",
      "  Parameter dense8_weight (shape=(32, 16), dtype=float32)\n",
      "  Parameter dense8_bias (shape=(32,), dtype=float32)\n",
      "  Parameter dense9_weight (shape=(16, 32), dtype=float32)\n",
      "  Parameter dense9_bias (shape=(16,), dtype=float32)\n",
      "  Parameter dense10_weight (shape=(10, 16), dtype=float32)\n",
      "  Parameter dense10_bias (shape=(10,), dtype=float32)\n",
      ")\n"
     ]
    }
   ],
   "source": [
    "print(rgnet.collect_params)\n",
    "print(rgnet.collect_params())"
   ]
  },
  {
   "cell_type": "markdown",
   "metadata": {},
   "source": [
    "Since the layers are hierarchically nested,\n",
    "we can also access them as though \n",
    "indexing through nested lists. \n",
    "For instance, we can access the first major block, \n",
    "within it the second subblock, \n",
    "and within that the bias of the first layer,\n",
    "with as follows:"
   ]
  },
  {
   "cell_type": "code",
   "execution_count": 11,
   "metadata": {},
   "outputs": [
    {
     "data": {
      "text/plain": [
       "array([0., 0., 0., 0., 0., 0., 0., 0., 0., 0., 0., 0., 0., 0., 0., 0., 0.,\n",
       "       0., 0., 0., 0., 0., 0., 0., 0., 0., 0., 0., 0., 0., 0., 0.])"
      ]
     },
     "execution_count": 11,
     "metadata": {},
     "output_type": "execute_result"
    }
   ],
   "source": [
    "rgnet[0][1][0].bias.data()"
   ]
  },
  {
   "cell_type": "markdown",
   "metadata": {},
   "source": [
    "## Parameter Initialization\n",
    "\n",
    "Now that we know how to access the parameters,\n",
    "let us look at how to initialize them properly.\n",
    "We discussed the need for initialization in :numref:`sec_numerical_stability`. \n",
    "By default, MXNet initializes weight matrices\n",
    "uniformly by drawing from $U[-0.07, 0.07]$ \n",
    "and the bias parameters are all set to $0$.\n",
    "However, we will often want to initialize our weights\n",
    "according to various other protocols. \n",
    "MXNet's `init` module provides a variety \n",
    "of preset initialization methods.\n",
    "If we want to create a custom initializer,\n",
    "we need to do some extra work.\n",
    "\n",
    "### Built-in Initialization\n",
    "\n",
    "Let us begin by calling on built-in initializers. \n",
    "The code below initializes all parameters \n",
    "as Gaussian random variables \n",
    "with standard deviation $.01$."
   ]
  },
  {
   "cell_type": "code",
   "execution_count": 12,
   "metadata": {
    "attributes": {
     "classes": [],
     "id": "",
     "n": "9"
    }
   },
   "outputs": [
    {
     "data": {
      "text/plain": [
       "array([-9.8788980e-03,  5.3957910e-03, -7.0842835e-03, -7.4317548e-03,\n",
       "       -1.4880489e-02,  6.4959107e-03, -8.2659349e-03,  1.8743129e-02,\n",
       "        1.6201857e-02,  1.4534278e-03,  2.2331164e-03,  1.5926110e-02,\n",
       "       -1.2915777e-02, -8.8592555e-05, -1.7293986e-03, -7.2338698e-03,\n",
       "        8.7698260e-03, -4.9947016e-03, -9.6906107e-03,  2.0079101e-03])"
      ]
     },
     "execution_count": 12,
     "metadata": {},
     "output_type": "execute_result"
    }
   ],
   "source": [
    "# force_reinit ensures that variables are freshly initialized\n",
    "# even if they were already initialized previously\n",
    "net.initialize(init=init.Normal(sigma=0.01), force_reinit=True)\n",
    "net[0].weight.data()[0]"
   ]
  },
  {
   "cell_type": "markdown",
   "metadata": {},
   "source": [
    "We can also initialize all parameters \n",
    "to a given constant value (say, $1$), \n",
    "by using the initializer `Constant(1)`."
   ]
  },
  {
   "cell_type": "code",
   "execution_count": 13,
   "metadata": {
    "attributes": {
     "classes": [],
     "id": "",
     "n": "10"
    }
   },
   "outputs": [
    {
     "data": {
      "text/plain": [
       "array([1., 1., 1., 1., 1., 1., 1., 1., 1., 1., 1., 1., 1., 1., 1., 1., 1.,\n",
       "       1., 1., 1.])"
      ]
     },
     "execution_count": 13,
     "metadata": {},
     "output_type": "execute_result"
    }
   ],
   "source": [
    "net.initialize(init=init.Constant(1), force_reinit=True)\n",
    "net[0].weight.data()[0]"
   ]
  },
  {
   "cell_type": "markdown",
   "metadata": {},
   "source": [
    "We can also apply different initialziers for certain Blocks.\n",
    "For example, below we initialize the first layer\n",
    "with the `Xavier` initializer\n",
    "and initialize the second layer \n",
    "to a constant value of 42."
   ]
  },
  {
   "cell_type": "code",
   "execution_count": 14,
   "metadata": {
    "attributes": {
     "classes": [],
     "id": "",
     "n": "11"
    }
   },
   "outputs": [
    {
     "name": "stdout",
     "output_type": "stream",
     "text": [
      "[-0.06319056 -0.10960881  0.11757872 -0.07595599 -0.0849717   0.0851637\n",
      "  0.08330765  0.04028694 -0.0305525   0.02012795 -0.03856885  0.1375024\n",
      "  0.10155623 -0.05016676 -0.02575382 -0.14205234  0.14225402  0.02719662\n",
      " -0.0888046  -0.00962897]\n",
      "42.0\n"
     ]
    }
   ],
   "source": [
    "net[0].weight.initialize(init=init.Xavier(), force_reinit=True)\n",
    "net[1].initialize(init=init.Constant(42), force_reinit=True)\n",
    "print(net[0].weight.data()[0])\n",
    "print(net[1].weight.data()[0, 0])"
   ]
  },
  {
   "cell_type": "markdown",
   "metadata": {},
   "source": [
    "### Custom Initialization\n",
    "\n",
    "Sometimes, the initialization methods we need \n",
    "are not provided in the `init` module. \n",
    "In these cases, we can define a subclass of `Initializer`. \n",
    "Usually, we only need to implement the `_init_weight` function\n",
    "which takes an `ndarray` argument (`data`) \n",
    "and assigns to it the desired initialized values. \n",
    "In the example below, we define an initializer\n",
    "for the following strange distribution:\n",
    "\n",
    "$$\n",
    "\\begin{aligned}\n",
    "    w \\sim \\begin{cases}\n",
    "        U[5, 10] & \\text{ with probability } \\frac{1}{4} \\\\\n",
    "            0    & \\text{ with probability } \\frac{1}{2} \\\\\n",
    "        U[-10, -5] & \\text{ with probability } \\frac{1}{4}\n",
    "    \\end{cases}\n",
    "\\end{aligned}\n",
    "$$"
   ]
  },
  {
   "cell_type": "code",
   "execution_count": 15,
   "metadata": {
    "attributes": {
     "classes": [],
     "id": "",
     "n": "12"
    }
   },
   "outputs": [
    {
     "name": "stdout",
     "output_type": "stream",
     "text": [
      "Init dense0_weight (256, 20)\n",
      "Init dense1_weight (10, 256)\n"
     ]
    },
    {
     "data": {
      "text/plain": [
       "array([-5.172625 , -7.0209026,  5.1446533, -9.844563 ,  8.545956 ,\n",
       "       -0.       ,  0.       , -0.       ,  5.107664 ,  9.658335 ,\n",
       "        5.8564453,  7.4483128,  0.       ,  0.       , -0.       ,\n",
       "        7.9034443,  0.       ,  5.4223766,  8.5655575,  5.1224785])"
      ]
     },
     "execution_count": 15,
     "metadata": {},
     "output_type": "execute_result"
    }
   ],
   "source": [
    "class MyInit(init.Initializer):\n",
    "    def _init_weight(self, name, data):\n",
    "        print('Init', name, data.shape)\n",
    "        data[:] = np.random.uniform(-10, 10, data.shape)\n",
    "        data *= np.abs(data) >= 5\n",
    "\n",
    "net.initialize(MyInit(), force_reinit=True)\n",
    "net[0].weight.data()[0]"
   ]
  },
  {
   "cell_type": "markdown",
   "metadata": {},
   "source": [
    "Note that we always have the option \n",
    "of setting parameters directly by calling `data()` \n",
    "to access the underlying `ndarray`. \n",
    "A note for advanced users: \n",
    "if you want to adjust parameters within an `autograd` scope,\n",
    "you need to use `set_data` to avoid confusing \n",
    "the automatic differentiation mechanics."
   ]
  },
  {
   "cell_type": "code",
   "execution_count": 16,
   "metadata": {
    "attributes": {
     "classes": [],
     "id": "",
     "n": "13"
    }
   },
   "outputs": [
    {
     "data": {
      "text/plain": [
       "array([42.       , -6.0209026,  6.1446533, -8.844563 ,  9.545956 ,\n",
       "        1.       ,  1.       ,  1.       ,  6.107664 , 10.658335 ,\n",
       "        6.8564453,  8.448313 ,  1.       ,  1.       ,  1.       ,\n",
       "        8.903444 ,  1.       ,  6.4223766,  9.5655575,  6.1224785])"
      ]
     },
     "execution_count": 16,
     "metadata": {},
     "output_type": "execute_result"
    }
   ],
   "source": [
    "net[0].weight.data()[:] += 1\n",
    "net[0].weight.data()[0, 0] = 42\n",
    "net[0].weight.data()[0]"
   ]
  },
  {
   "cell_type": "markdown",
   "metadata": {},
   "source": [
    "## Tied Parameters\n",
    "\n",
    "Often, we want to share parameters across multiple layers.\n",
    "Later we will see that when learning word embeddings,\n",
    "it might be sensible to use the same parameters\n",
    "both for encoding and decoding words. \n",
    "We discussed one such case when we introduced :numref:`sec_model_construction`. \n",
    "Let us see how to do this a bit more elegantly. \n",
    "In the following we allocate a dense layer \n",
    "and then use its parameters specifically \n",
    "to set those of another layer."
   ]
  },
  {
   "cell_type": "code",
   "execution_count": 17,
   "metadata": {
    "attributes": {
     "classes": [],
     "id": "",
     "n": "14"
    }
   },
   "outputs": [
    {
     "name": "stdout",
     "output_type": "stream",
     "text": [
      "[ True  True  True  True  True  True  True  True]\n",
      "[ True  True  True  True  True  True  True  True]\n"
     ]
    }
   ],
   "source": [
    "net = nn.Sequential()\n",
    "# We need to give the shared layer a name such that we can reference its\n",
    "# parameters\n",
    "shared = nn.Dense(8, activation='relu')\n",
    "net.add(nn.Dense(8, activation='relu'),\n",
    "        shared,\n",
    "        nn.Dense(8, activation='relu', params=shared.params),\n",
    "        nn.Dense(10))\n",
    "net.initialize()\n",
    "\n",
    "x = np.random.uniform(size=(2, 20))\n",
    "net(x)\n",
    "\n",
    "# Check whether the parameters are the same\n",
    "print(net[1].weight.data()[0] == net[2].weight.data()[0])\n",
    "net[1].weight.data()[0, 0] = 100\n",
    "# Make sure that they are actually the same object rather than just having the\n",
    "# same value\n",
    "print(net[1].weight.data()[0] == net[2].weight.data()[0])"
   ]
  },
  {
   "cell_type": "markdown",
   "metadata": {},
   "source": [
    "This example shows that the parameters \n",
    "of the second and third layer are tied. \n",
    "They are not just equal, they are \n",
    "represented by the same exact `ndarray`. \n",
    "Thus, if we change one of the parameters,\n",
    "the other one changes, too. \n",
    "You might wonder, \n",
    "*when parameters are tied\n",
    "what happens to the gradients?*\n",
    "Since the model parameters contain gradients,\n",
    "the gradients of the second hidden layer\n",
    "and the third hidden layer are added together\n",
    "in `shared.params.grad( )` during backpropagation.\n",
    "\n",
    "## Summary\n",
    "\n",
    "* We have several ways to access, initialize, and tie model parameters.\n",
    "* We can use custom initialization.\n",
    "* Gluon has a sophisticated mechanism for accessing parameters in a unique and hierarchical manner.\n",
    "\n",
    "\n",
    "## Exercises\n",
    "\n",
    "1. Use the FancyMLP defined in :numref:`sec_model_construction` and access the parameters of the various layers.\n",
    "1. Look at the [MXNet documentation](http://beta.mxnet.io/api/gluon-related/mxnet.initializer.html) and explore different initializers.\n",
    "1. Try accessing the model parameters after `net.initialize()` and before `net(x)` to observe the shape of the model parameters. What changes? Why?\n",
    "1. Construct a multilayer perceptron containing a shared parameter layer and train it. During the training process, observe the model parameters and gradients of each layer.\n",
    "1. Why is sharing parameters a good idea?\n",
    "\n",
    "## [Discussions](https://discuss.mxnet.io/t/2326)\n",
    "\n",
    "![](../img/qr_parameters.svg)"
   ]
  }
 ],
 "metadata": {
  "language_info": {
   "name": "python"
  }
 },
 "nbformat": 4,
 "nbformat_minor": 2
}