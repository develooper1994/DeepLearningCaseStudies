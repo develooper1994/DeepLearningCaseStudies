{
 "cells": [
  {
   "cell_type": "code",
   "execution_count": 1,
   "metadata": {
    "collapsed": true,
    "pycharm": {
     "is_executing": false
    }
   },
   "outputs": [],
   "source": [
    "from collections import OrderedDict\n",
    "from collections import namedtuple\n",
    "from itertools import product "
   ]
  },
  {
   "cell_type": "markdown",
   "source": [
    "What is a Cartesian Product?</br>\n",
    "</br>\n",
    "Combines all combinations all to gather.\n",
    "</br>\n",
    "<math xmlns=\"http://www.w3.org/1998/Math/MathML\" display=\"block\">\n",
    "  <mi>X</mi>\n",
    "  <mo>&#x00D7;<!-- × --></mo>\n",
    "  <mi>Y</mi>\n",
    "  <mo>=</mo>\n",
    "  <mstyle scriptlevel=\"0\">\n",
    "    <mrow class=\"MJX-TeXAtom-ORD\">\n",
    "      <mo maxsize=\"2.047em\" minsize=\"2.047em\">{</mo>\n",
    "    </mrow>\n",
    "  </mstyle>\n",
    "  <mo stretchy=\"false\">(</mo>\n",
    "  <mi>x</mi>\n",
    "  <mo>,</mo>\n",
    "  <mi>y</mi>\n",
    "  <mo stretchy=\"false\">)</mo>\n",
    "  <mo>&#x2223;<!-- ∣ --></mo>\n",
    "  <mi>x</mi>\n",
    "  <mo>&#x2208;<!-- ∈ --></mo>\n",
    "  <mi>X</mi>\n",
    "  <mtext>&#xA0;and&#xA0;</mtext>\n",
    "  <mi>y</mi>\n",
    "  <mo>&#x2208;<!-- ∈ --></mo>\n",
    "  <mi>Y</mi>\n",
    "  <mstyle scriptlevel=\"0\">\n",
    "    <mrow class=\"MJX-TeXAtom-ORD\">\n",
    "      <mo maxsize=\"2.047em\" minsize=\"2.047em\">}</mo>\n",
    "    </mrow>\n",
    "  </mstyle>\n",
    "</math>\n",
    "</br>\n",
    "Suppose that X is a set.</br>\n",
    "Suppose that Y is a set.</br>"
   ],
   "metadata": {
    "collapsed": false,
    "pycharm": {
     "name": "#%% md\n"
    }
   }
  },
  {
   "cell_type": "code",
   "execution_count": 2,
   "outputs": [
    {
     "name": "stdout",
     "text": [
      "{(1, 2), (3, 2), (1, 3), (3, 3), (3, 1), (2, 1), (2, 3), (2, 2), (1, 1)}\n"
     ],
     "output_type": "stream"
    }
   ],
   "source": [
    "X = {1,2,3}\n",
    "Y = {1,2,3}\n",
    "\n",
    "print( { (x,y) for x in X for y in Y } )"
   ],
   "metadata": {
    "collapsed": false,
    "pycharm": {
     "name": "#%%\n",
     "is_executing": false
    }
   }
  },
  {
   "cell_type": "code",
   "execution_count": 3,
   "outputs": [
    {
     "name": "stdout",
     "text": [
      "0.01 10\n"
     ],
     "output_type": "stream"
    }
   ],
   "source": [
    "class RunBuilder:\n",
    "    @staticmethod\n",
    "    def get_runs(params):\n",
    "\n",
    "        Run = namedtuple('Run', params.keys())\n",
    "\n",
    "        runs = []\n",
    "        for v in product(*params.values()):\n",
    "            runs.append(Run(*v))\n",
    "\n",
    "        return runs\n",
    "    \n",
    "params = OrderedDict(\n",
    "    lr=[.01, .001],\n",
    "    batch_size=[10, 100, 1000],\n",
    ")\n",
    "# ,device = [\"cuda\", \"cpu\"]\n",
    "# ,shuffle=[True, False]\n",
    "\n",
    "runs = RunBuilder.get_runs(params)\n",
    "# an example\n",
    "run = runs[0]\n",
    "print(run.lr, run.batch_size)"
   ],
   "metadata": {
    "collapsed": false,
    "pycharm": {
     "name": "#%%\n",
     "is_executing": false
    }
   }
  },
  {
   "cell_type": "markdown",
   "source": [
    "older way; Training process given the set of parameters</br>\n",
    "for lr, batch_size, shuffle in product(*param_values):</br>\n",
    "    comment = f' batch_size={batch_size} lr={lr} shuffle={shuffle}'"
   ],
   "metadata": {
    "collapsed": false,
    "pycharm": {
     "name": "#%% md\n"
    }
   }
  },
  {
   "cell_type": "code",
   "execution_count": 4,
   "outputs": [
    {
     "name": "stdout",
     "text": [
      "Run(lr=0.01, batch_size=10) 0.01 10\n",
      "Run(lr=0.01, batch_size=100) 0.01 100\n",
      "Run(lr=0.01, batch_size=1000) 0.01 1000\n",
      "Run(lr=0.001, batch_size=10) 0.001 10\n",
      "Run(lr=0.001, batch_size=100) 0.001 100\n",
      "Run(lr=0.001, batch_size=1000) 0.001 1000\n"
     ],
     "output_type": "stream"
    }
   ],
   "source": [
    "# may be i can do like that but..........\n",
    "for run in runs:\n",
    "    print(run, run.lr, run.batch_size)"
   ],
   "metadata": {
    "collapsed": false,
    "pycharm": {
     "name": "#%%\n",
     "is_executing": false
    }
   }
  },
  {
   "cell_type": "markdown",
   "source": [
    "newest way; Training process given the set of parameters"
   ],
   "metadata": {
    "collapsed": false,
    "pycharm": {
     "name": "#%% md\n"
    }
   }
  },
  {
   "cell_type": "code",
   "execution_count": 5,
   "outputs": [
    {
     "name": "stdout",
     "text": [
      "-Run(lr=0.01, batch_size=10)\n",
      "-Run(lr=0.01, batch_size=100)\n",
      "-Run(lr=0.01, batch_size=1000)\n",
      "-Run(lr=0.001, batch_size=10)\n",
      "-Run(lr=0.001, batch_size=100)\n",
      "-Run(lr=0.001, batch_size=1000)\n"
     ],
     "output_type": "stream"
    }
   ],
   "source": [
    "for run in RunBuilder.get_runs(params):\n",
    "    comment = f'-{run}'\n",
    "    print(comment)"
   ],
   "metadata": {
    "collapsed": false,
    "pycharm": {
     "name": "#%%\n",
     "is_executing": false
    }
   }
  }
 ],
 "metadata": {
  "kernelspec": {
   "display_name": "Python 3",
   "language": "python",
   "name": "python3"
  },
  "language_info": {
   "codemirror_mode": {
    "name": "ipython",
    "version": 2
   },
   "file_extension": ".py",
   "mimetype": "text/x-python",
   "name": "python",
   "nbconvert_exporter": "python",
   "pygments_lexer": "ipython2",
   "version": "2.7.6"
  },
  "pycharm": {
   "stem_cell": {
    "cell_type": "raw",
    "source": [],
    "metadata": {
     "collapsed": false
    }
   }
  }
 },
 "nbformat": 4,
 "nbformat_minor": 0
}