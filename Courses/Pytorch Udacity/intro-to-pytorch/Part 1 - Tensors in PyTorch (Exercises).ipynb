{
  "cells": [
    {
      "cell_type": "markdown",
      "source": [
        "# Introduction to Deep Learning with PyTorch\n",
        "\n",
        "In this notebook, you'll get introduced to [PyTorch](http://pytorch.org/), a framework for building and training neural networks. PyTorch in a lot of ways behaves like the arrays you love from Numpy. These Numpy arrays, after all, are just tensors. PyTorch takes these tensors and makes it simple to move them to GPUs for the faster processing needed when training neural networks. It also provides a module that automatically calculates gradients (for backpropagation!) and another module specifically for building neural networks. All together, PyTorch ends up being more coherent with Python and the Numpy/Scipy stack compared to TensorFlow and other frameworks.\n",
        "\n"
      ],
      "metadata": {}
    },
    {
      "cell_type": "markdown",
      "source": [
        "## Neural Networks\n",
        "\n",
        "Deep Learning is based on artificial neural networks which have been around in some form since the late 1950s. The networks are built from individual parts approximating neurons, typically called units or simply \"neurons.\" Each unit has some number of weighted inputs. These weighted inputs are summed together (a linear combination) then passed through an activation function to get the unit's output.\n",
        "\n",
        "<img src=\"assets/simple_neuron.png\" width=400px>\n",
        "\n",
        "Mathematically this looks like: \n",
        "\n",
        "$$\n",
        "\\begin{align}\n",
        "y &= f(w_1 x_1 + w_2 x_2 + b) \\\\\n",
        "y &= f\\left(\\sum_i w_i x_i +b \\right)\n",
        "\\end{align}\n",
        "$$\n",
        "\n",
        "With vectors this is the dot/inner product of two vectors:\n",
        "\n",
        "$$\n",
        "h = \\begin{bmatrix}\n",
        "x_1 \\, x_2 \\cdots  x_n\n",
        "\\end{bmatrix}\n",
        "\\cdot \n",
        "\\begin{bmatrix}\n",
        "           w_1 \\\\\n",
        "           w_2 \\\\\n",
        "           \\vdots \\\\\n",
        "           w_n\n",
        "\\end{bmatrix}\n",
        "$$"
      ],
      "metadata": {}
    },
    {
      "cell_type": "markdown",
      "source": [
        "## Tensors\n",
        "\n",
        "It turns out neural network computations are just a bunch of linear algebra operations on *tensors*, a generalization of matrices. A vector is a 1-dimensional tensor, a matrix is a 2-dimensional tensor, an array with three indices is a 3-dimensional tensor (RGB color images for example). The fundamental data structure for neural networks are tensors and PyTorch (as well as pretty much every other deep learning framework) is built around tensors.\n",
        "\n",
        "<img src=\"assets/tensor_examples.svg\" width=600px>\n",
        "\n",
        "With the basics covered, it's time to explore how we can use PyTorch to build a simple neural network."
      ],
      "metadata": {}
    },
    {
      "cell_type": "code",
      "source": [
        "# First, import PyTorch\n",
        "from __future__ import print_function\n",
        "import torch"
      ],
      "outputs": [],
      "execution_count": 1,
      "metadata": {}
    },
    {
      "cell_type": "markdown",
      "source": [
        "In Turkish Language<br/>\n",
        "* Torch ,bazı ufak farklılıklar dışında, numpy yerini alabilir. Broadcasting, çoklu cpu, gpu desteği(tpu desteği başladı). <br/>\n",
        "* Ayrıca araştırma, deneme yapmak üzere yapılmış olmasına rağmen artık algoritmalar çok farklı şekillerde ürüne dönüştürülebiliyor."
      ],
      "metadata": {}
    },
    {
      "cell_type": "code",
      "source": [
        "x = torch.empty(5, 13)\n",
        "print(x)"
      ],
      "outputs": [
        {
          "output_type": "stream",
          "name": "stdout",
          "text": [
            "tensor([[ 1.0930e-42,  0.0000e+00,  5.7593e-43,  0.0000e+00,  1.2107e-42,\n",
            "          0.0000e+00,  5.7593e-43,  0.0000e+00,  6.6702e-43,  0.0000e+00,\n",
            "          5.7593e-43,  0.0000e+00,  1.4742e-42],\n",
            "        [ 0.0000e+00,  5.7593e-43,  0.0000e+00,  1.4798e-42,  0.0000e+00,\n",
            "          5.7593e-43,  0.0000e+00,  1.4854e-42,  0.0000e+00,  5.7593e-43,\n",
            "          0.0000e+00,  1.4966e-42,  0.0000e+00],\n",
            "        [ 5.7593e-43,  0.0000e+00,  0.0000e+00,  0.0000e+00,  2.1019e-44,\n",
            "          0.0000e+00, -3.3915e-38,  8.8142e-43,  1.7796e-43,  0.0000e+00,\n",
            "          0.0000e+00,  0.0000e+00,  2.1019e-44],\n",
            "        [ 0.0000e+00, -1.3152e+36,  8.8142e-43,  1.7796e-43,  0.0000e+00,\n",
            "          0.0000e+00,  0.0000e+00,  2.1019e-44,  0.0000e+00, -1.3163e+36,\n",
            "          8.8142e-43,  1.7796e-43,  0.0000e+00],\n",
            "        [ 0.0000e+00,  0.0000e+00,  2.1019e-44,  0.0000e+00, -3.3835e-38,\n",
            "          8.8142e-43,  1.7796e-43,  0.0000e+00,  0.0000e+00,  0.0000e+00,\n",
            "          2.1019e-44,  0.0000e+00, -2.8994e-38]])\n"
          ]
        }
      ],
      "execution_count": 6,
      "metadata": {
        "collapsed": false,
        "outputHidden": false,
        "inputHidden": false
      }
    },
    {
      "cell_type": "code",
      "source": [
        "x = torch.rand(5,13)\n",
        "print(x)"
      ],
      "outputs": [
        {
          "output_type": "stream",
          "name": "stdout",
          "text": [
            "tensor([[0.0179, 0.7166, 0.5264, 0.4853, 0.4208, 0.7540, 0.4746, 0.1015, 0.0622,\n",
            "         0.2833, 0.7847, 0.6136, 0.9975],\n",
            "        [0.4583, 0.8645, 0.1695, 0.4478, 0.2078, 0.2459, 0.3740, 0.9390, 0.9522,\n",
            "         0.7321, 0.3291, 0.9423, 0.1483],\n",
            "        [0.2026, 0.3440, 0.9176, 0.2407, 0.6213, 0.7553, 0.7136, 0.2243, 0.1014,\n",
            "         0.5150, 0.0761, 0.0691, 0.7934],\n",
            "        [0.4920, 0.3113, 0.0869, 0.6134, 0.8918, 0.3942, 0.5958, 0.6169, 0.5253,\n",
            "         0.7162, 0.0040, 0.3712, 0.6749],\n",
            "        [0.7147, 0.7387, 0.1839, 0.5476, 0.6021, 0.4137, 0.8638, 0.6693, 0.6913,\n",
            "         0.9573, 0.0597, 0.4955, 0.4347]])\n"
          ]
        }
      ],
      "execution_count": 11,
      "metadata": {
        "collapsed": false,
        "outputHidden": false,
        "inputHidden": false
      }
    },
    {
      "cell_type": "code",
      "source": [
        "x = torch.zeros(5,13)\n",
        "print(x)"
      ],
      "outputs": [
        {
          "output_type": "stream",
          "name": "stdout",
          "text": [
            "tensor([[0., 0., 0., 0., 0., 0., 0., 0., 0., 0., 0., 0., 0.],\n",
            "        [0., 0., 0., 0., 0., 0., 0., 0., 0., 0., 0., 0., 0.],\n",
            "        [0., 0., 0., 0., 0., 0., 0., 0., 0., 0., 0., 0., 0.],\n",
            "        [0., 0., 0., 0., 0., 0., 0., 0., 0., 0., 0., 0., 0.],\n",
            "        [0., 0., 0., 0., 0., 0., 0., 0., 0., 0., 0., 0., 0.]])\n"
          ]
        }
      ],
      "execution_count": 12,
      "metadata": {
        "collapsed": false,
        "outputHidden": false,
        "inputHidden": false
      }
    },
    {
      "cell_type": "code",
      "source": [
        "x = torch.tensor([5.5, 13]) #np.array -> torch.tensor\n",
        "print(x)\n",
        "print(x.dtype)"
      ],
      "outputs": [
        {
          "output_type": "stream",
          "name": "stdout",
          "text": [
            "tensor([ 5.5000, 13.0000])\n",
            "torch.float32\n"
          ]
        }
      ],
      "execution_count": 15,
      "metadata": {
        "collapsed": false,
        "outputHidden": false,
        "inputHidden": false
      }
    },
    {
      "cell_type": "code",
      "source": [
        "x = x.new_ones(5, 13, dtype=torch.double)\n",
        "print(\"new_ones: \", x)\n",
        "\n",
        "x = torch.randn_like(x, dtype=torch.float)\n",
        "print(\"randn_like: \", x)\n",
        "\n",
        "print(\"size: \", x.size())\n",
        "print(\"shape: \", x.shape)"
      ],
      "outputs": [
        {
          "output_type": "stream",
          "name": "stdout",
          "text": [
            "new_ones:  tensor([[1., 1., 1., 1., 1., 1., 1., 1., 1., 1., 1., 1., 1.],\n",
            "        [1., 1., 1., 1., 1., 1., 1., 1., 1., 1., 1., 1., 1.],\n",
            "        [1., 1., 1., 1., 1., 1., 1., 1., 1., 1., 1., 1., 1.],\n",
            "        [1., 1., 1., 1., 1., 1., 1., 1., 1., 1., 1., 1., 1.],\n",
            "        [1., 1., 1., 1., 1., 1., 1., 1., 1., 1., 1., 1., 1.]],\n",
            "       dtype=torch.float64)\n",
            "randn_like:  tensor([[ 0.9258, -0.8995,  0.5597, -0.0741,  1.0318,  0.0160, -1.8412, -0.0969,\n",
            "          0.3884, -1.2580,  1.0057,  2.2808,  1.3466],\n",
            "        [-1.3222,  1.2992,  0.7528,  0.8137,  1.0845, -2.7458, -0.7474, -0.6788,\n",
            "         -1.1174,  0.5659,  1.8752, -0.0233,  0.6839],\n",
            "        [-0.6707,  0.5640,  0.1654, -0.0916,  0.6203,  0.8889, -0.2196,  0.4434,\n",
            "          1.5502, -1.4648, -0.6065,  1.6198, -2.0080],\n",
            "        [ 1.4144, -0.4427, -0.4887, -1.4851,  1.3941,  1.2006,  1.0668,  1.9415,\n",
            "          0.9852, -0.8307, -0.8806,  1.0124,  0.3049],\n",
            "        [ 0.8860, -1.5386, -0.6430,  0.9855,  0.7785,  1.2646, -1.2456,  1.4839,\n",
            "         -0.5866,  1.9448,  1.3034, -1.0758,  0.1527]])\n",
            "size:  torch.Size([5, 13])\n",
            "shape:  torch.Size([5, 13])\n"
          ]
        }
      ],
      "execution_count": 16,
      "metadata": {
        "collapsed": false,
        "outputHidden": false,
        "inputHidden": false
      }
    },
    {
      "cell_type": "code",
      "source": [
        "# x + y == torch.add(x,y)\n",
        "y = torch.rand(5,13)\n",
        "print(\"x + y: \", x + y)\n",
        "print(\"add(x,y): \", torch.add(x,y))\n",
        "result = torch.empty_like(x)\n",
        "torch.add(x,y, out=result)\n",
        "print(\"add(x,y, output=result): \", result)\n",
        "print(\"x.add(y)\", x.add(y))\n",
        "y.add_(x) #y değişecek.\n",
        "print(\"y.add_(x)\", y)"
      ],
      "outputs": [
        {
          "output_type": "stream",
          "name": "stdout",
          "text": [
            "x + y:  tensor([[ 1.6514, -0.6092,  0.9875,  0.8014,  1.1011,  0.5495, -1.3882,  0.6509,\n",
            "          1.3614, -0.3430,  1.8429,  2.9515,  1.6271],\n",
            "        [-1.0135,  2.0887,  1.1870,  1.7107,  1.1093, -2.6969, -0.5005, -0.1258,\n",
            "         -0.2878,  0.8187,  2.6924,  0.3274,  0.7310],\n",
            "        [-0.1732,  1.2174,  0.7590,  0.8667,  0.6521,  1.7021,  0.1296,  0.7698,\n",
            "          2.1604, -0.6044, -0.5057,  2.1481, -1.8781],\n",
            "        [ 2.2518,  0.4974,  0.4065, -0.9376,  1.4711,  1.2389,  1.2952,  2.9018,\n",
            "          1.5461, -0.6421, -0.0500,  1.5610,  0.8847],\n",
            "        [ 1.2399, -1.1110,  0.2021,  1.0912,  1.1900,  2.1178, -0.8117,  1.7250,\n",
            "         -0.0303,  2.7884,  2.0293, -0.5903,  0.7171]])\n",
            "add(x,y):  tensor([[ 1.6514, -0.6092,  0.9875,  0.8014,  1.1011,  0.5495, -1.3882,  0.6509,\n",
            "          1.3614, -0.3430,  1.8429,  2.9515,  1.6271],\n",
            "        [-1.0135,  2.0887,  1.1870,  1.7107,  1.1093, -2.6969, -0.5005, -0.1258,\n",
            "         -0.2878,  0.8187,  2.6924,  0.3274,  0.7310],\n",
            "        [-0.1732,  1.2174,  0.7590,  0.8667,  0.6521,  1.7021,  0.1296,  0.7698,\n",
            "          2.1604, -0.6044, -0.5057,  2.1481, -1.8781],\n",
            "        [ 2.2518,  0.4974,  0.4065, -0.9376,  1.4711,  1.2389,  1.2952,  2.9018,\n",
            "          1.5461, -0.6421, -0.0500,  1.5610,  0.8847],\n",
            "        [ 1.2399, -1.1110,  0.2021,  1.0912,  1.1900,  2.1178, -0.8117,  1.7250,\n",
            "         -0.0303,  2.7884,  2.0293, -0.5903,  0.7171]])\n",
            "add(x,y, output=result):  tensor([[ 1.6514, -0.6092,  0.9875,  0.8014,  1.1011,  0.5495, -1.3882,  0.6509,\n",
            "          1.3614, -0.3430,  1.8429,  2.9515,  1.6271],\n",
            "        [-1.0135,  2.0887,  1.1870,  1.7107,  1.1093, -2.6969, -0.5005, -0.1258,\n",
            "         -0.2878,  0.8187,  2.6924,  0.3274,  0.7310],\n",
            "        [-0.1732,  1.2174,  0.7590,  0.8667,  0.6521,  1.7021,  0.1296,  0.7698,\n",
            "          2.1604, -0.6044, -0.5057,  2.1481, -1.8781],\n",
            "        [ 2.2518,  0.4974,  0.4065, -0.9376,  1.4711,  1.2389,  1.2952,  2.9018,\n",
            "          1.5461, -0.6421, -0.0500,  1.5610,  0.8847],\n",
            "        [ 1.2399, -1.1110,  0.2021,  1.0912,  1.1900,  2.1178, -0.8117,  1.7250,\n",
            "         -0.0303,  2.7884,  2.0293, -0.5903,  0.7171]])\n",
            "x.add(y) tensor([[ 1.6514, -0.6092,  0.9875,  0.8014,  1.1011,  0.5495, -1.3882,  0.6509,\n",
            "          1.3614, -0.3430,  1.8429,  2.9515,  1.6271],\n",
            "        [-1.0135,  2.0887,  1.1870,  1.7107,  1.1093, -2.6969, -0.5005, -0.1258,\n",
            "         -0.2878,  0.8187,  2.6924,  0.3274,  0.7310],\n",
            "        [-0.1732,  1.2174,  0.7590,  0.8667,  0.6521,  1.7021,  0.1296,  0.7698,\n",
            "          2.1604, -0.6044, -0.5057,  2.1481, -1.8781],\n",
            "        [ 2.2518,  0.4974,  0.4065, -0.9376,  1.4711,  1.2389,  1.2952,  2.9018,\n",
            "          1.5461, -0.6421, -0.0500,  1.5610,  0.8847],\n",
            "        [ 1.2399, -1.1110,  0.2021,  1.0912,  1.1900,  2.1178, -0.8117,  1.7250,\n",
            "         -0.0303,  2.7884,  2.0293, -0.5903,  0.7171]])\n",
            "y.add_(x) tensor([[ 1.6514, -0.6092,  0.9875,  0.8014,  1.1011,  0.5495, -1.3882,  0.6509,\n",
            "          1.3614, -0.3430,  1.8429,  2.9515,  1.6271],\n",
            "        [-1.0135,  2.0887,  1.1870,  1.7107,  1.1093, -2.6969, -0.5005, -0.1258,\n",
            "         -0.2878,  0.8187,  2.6924,  0.3274,  0.7310],\n",
            "        [-0.1732,  1.2174,  0.7590,  0.8667,  0.6521,  1.7021,  0.1296,  0.7698,\n",
            "          2.1604, -0.6044, -0.5057,  2.1481, -1.8781],\n",
            "        [ 2.2518,  0.4974,  0.4065, -0.9376,  1.4711,  1.2389,  1.2952,  2.9018,\n",
            "          1.5461, -0.6421, -0.0500,  1.5610,  0.8847],\n",
            "        [ 1.2399, -1.1110,  0.2021,  1.0912,  1.1900,  2.1178, -0.8117,  1.7250,\n",
            "         -0.0303,  2.7884,  2.0293, -0.5903,  0.7171]])\n"
          ]
        }
      ],
      "execution_count": 17,
      "metadata": {
        "collapsed": false,
        "outputHidden": false,
        "inputHidden": false
      }
    },
    {
      "cell_type": "code",
      "source": [
        "# indexing\n",
        "print(\"x: \", x)\n",
        "print(\"x[0]: \", x[0])\n",
        "print(\"x[:, -1]: \", x[:, -1])\n",
        "print(\"x[1:4, 0:4]: \", x[1:4, 0:4])"
      ],
      "outputs": [
        {
          "output_type": "stream",
          "name": "stdout",
          "text": [
            "x:  tensor([[ 0.9258, -0.8995,  0.5597, -0.0741,  1.0318,  0.0160, -1.8412, -0.0969,\n",
            "          0.3884, -1.2580,  1.0057,  2.2808,  1.3466],\n",
            "        [-1.3222,  1.2992,  0.7528,  0.8137,  1.0845, -2.7458, -0.7474, -0.6788,\n",
            "         -1.1174,  0.5659,  1.8752, -0.0233,  0.6839],\n",
            "        [-0.6707,  0.5640,  0.1654, -0.0916,  0.6203,  0.8889, -0.2196,  0.4434,\n",
            "          1.5502, -1.4648, -0.6065,  1.6198, -2.0080],\n",
            "        [ 1.4144, -0.4427, -0.4887, -1.4851,  1.3941,  1.2006,  1.0668,  1.9415,\n",
            "          0.9852, -0.8307, -0.8806,  1.0124,  0.3049],\n",
            "        [ 0.8860, -1.5386, -0.6430,  0.9855,  0.7785,  1.2646, -1.2456,  1.4839,\n",
            "         -0.5866,  1.9448,  1.3034, -1.0758,  0.1527]])\n",
            "x[0]:  tensor([ 0.9258, -0.8995,  0.5597, -0.0741,  1.0318,  0.0160, -1.8412, -0.0969,\n",
            "         0.3884, -1.2580,  1.0057,  2.2808,  1.3466])\n",
            "x[:, -1]:  tensor([ 1.3466,  0.6839, -2.0080,  0.3049,  0.1527])\n",
            "x[1:4, 0:4]:  tensor([[-1.3222,  1.2992,  0.7528,  0.8137],\n",
            "        [-0.6707,  0.5640,  0.1654, -0.0916],\n",
            "        [ 1.4144, -0.4427, -0.4887, -1.4851]])\n"
          ]
        }
      ],
      "execution_count": 18,
      "metadata": {
        "collapsed": false,
        "outputHidden": false,
        "inputHidden": false
      }
    },
    {
      "cell_type": "code",
      "source": [
        "# reshape = boyutu değiştirir ve , deep copy,kopyalar. Veri kaybını önler.\n",
        "# resize = boyutu değiştirir, kopyalar ama veri kaybı olursa umursamaz.\n",
        "# view = reshape gibi davranır ama ,shallow copy, veri adresini kopyalar.\n",
        "x = torch.randn(4,4)\n",
        "y = x.view(16)\n",
        "z = x.view(-1, 8) # Diğer boyutu hesaplıyor.\n",
        "print(x.size(), y.size(), z.size())\n",
        "\n",
        "# Tek elemanlı bir torch.tensor var ve eğer sayısı yada nesneyi Python nesnesi olarak almak istiyorsanız...\n",
        "x = torch.randn(1)\n",
        "print(\"torch number: \", x)\n",
        "print(\"python number: \", x.item())"
      ],
      "outputs": [
        {
          "output_type": "stream",
          "name": "stdout",
          "text": [
            "torch.Size([4, 4]) torch.Size([16]) torch.Size([2, 8])\n",
            "torch number:  tensor([-2.9076])\n",
            "python number:  -2.9076201915740967\n"
          ]
        }
      ],
      "execution_count": 21,
      "metadata": {
        "collapsed": false,
        "outputHidden": false,
        "inputHidden": false
      }
    },
    {
      "cell_type": "code",
      "source": [
        "# Numpy köprüsü\n",
        "a = torch.ones(5)\n",
        "print(\"a: \", a)\n",
        "\n",
        "b = a.numpy()\n",
        "print(\"b: \", b)\n",
        "\n",
        "# a değiştiğinde b de değişecek.\n",
        "# a ve b aynı hafıza adresini paylaşıyor.(eğer asm/c/c++/rust/... pointer konusunu biliyorsanız anlaması zor olmamalı)\n",
        "a.add_(1)\n",
        "print(\"a: \", a)\n",
        "print(\"b: \", b)"
      ],
      "outputs": [
        {
          "output_type": "stream",
          "name": "stdout",
          "text": [
            "a:  tensor([1., 1., 1., 1., 1.])\n",
            "b:  [1. 1. 1. 1. 1.]\n",
            "a:  tensor([2., 2., 2., 2., 2.])\n",
            "b:  [2. 2. 2. 2. 2.]\n"
          ]
        }
      ],
      "execution_count": 23,
      "metadata": {
        "collapsed": false,
        "outputHidden": false,
        "inputHidden": false
      }
    },
    {
      "cell_type": "code",
      "source": [
        "# Genelde elimizdeki verilieri numpy ile düzenleriz. Bu bir alışkanlık.\n",
        "import numpy as np\n",
        "a = np.ones(2)\n",
        "b = torch.from_numpy(a)\n",
        "np.add(a, 1, out=a)\n",
        "print(\"a: \", a)\n",
        "print(\"b: \", b)"
      ],
      "outputs": [
        {
          "output_type": "stream",
          "name": "stdout",
          "text": [
            "a:  [2. 2.]\n",
            "b:  tensor([2., 2.], dtype=torch.float64)\n"
          ]
        }
      ],
      "execution_count": 25,
      "metadata": {
        "collapsed": false,
        "outputHidden": false,
        "inputHidden": false
      }
    },
    {
      "cell_type": "code",
      "source": [
        "# evet, pytorch cuda desteği var. Pytorch en güzel özeliği burada. Veri cihaz üzerinde olsa bile hata ayıklama yapabiliyoruz.\n",
        "if torch.cuda.is_available():\n",
        "    device = torch.device(\"cuda\") # cihazı seç.\n",
        "    y = torch.ones_like(x, device=device) # y cihaz üzerinde oluşturulacak.\n",
        "    x = x.to(device) # x cihaza aktar.\n",
        "    z = x+y # z cihaz üzerinde hesaplanacak.\n",
        "    print(z) # Sonuç hâlâ cihazda\n",
        "    print(z.to(\"cpu\", torch.double)) # Sonucu cihazdan çekiliyor."
      ],
      "outputs": [
        {
          "output_type": "stream",
          "name": "stdout",
          "text": [
            "tensor([-1.9076], device='cuda:0')\n",
            "tensor([-1.9076], dtype=torch.float64)\n"
          ]
        }
      ],
      "execution_count": 26,
      "metadata": {
        "collapsed": false,
        "outputHidden": false,
        "inputHidden": false
      }
    },
    {
      "cell_type": "markdown",
      "source": [
        "Pytorch nihayetinde bir yapay zeka kütüphanesi. Hadi biraz örnek yapalım."
      ],
      "metadata": {}
    },
    {
      "cell_type": "code",
      "source": [
        "def activation(x):\n",
        "    \"\"\" Sigmoid activation function \n",
        "    \n",
        "        Arguments\n",
        "        ---------\n",
        "        x: torch.Tensor\n",
        "    \"\"\"\n",
        "    return 1/(1+torch.exp(-x))"
      ],
      "outputs": [],
      "execution_count": 27,
      "metadata": {}
    },
    {
      "cell_type": "code",
      "source": [
        "### Generate some data\n",
        "torch.manual_seed(7) # Set the random seed so things are predictable\n",
        "\n",
        "# Features are 5 random normal variables\n",
        "features = torch.randn((1, 5))\n",
        "# True weights for our data, random normal variables again\n",
        "weights = torch.randn_like(features)\n",
        "# and a true bias term\n",
        "bias = torch.randn((1, 1))"
      ],
      "outputs": [],
      "execution_count": 29,
      "metadata": {}
    },
    {
      "cell_type": "markdown",
      "source": [
        "Above I generated data we can use to get the output of our simple network. This is all just random for now, going forward we'll start using normal data. Going through each relevant line:\n",
        "\n",
        "`features = torch.randn((1, 5))` creates a tensor with shape `(1, 5)`, one row and five columns, that contains values randomly distributed according to the normal distribution with a mean of zero and standard deviation of one. \n",
        "\n",
        "`weights = torch.randn_like(features)` creates another tensor with the same shape as `features`, again containing values from a normal distribution.\n",
        "\n",
        "Finally, `bias = torch.randn((1, 1))` creates a single value from a normal distribution.\n",
        "\n",
        "PyTorch tensors can be added, multiplied, subtracted, etc, just like Numpy arrays. In general, you'll use PyTorch tensors pretty much the same way you'd use Numpy arrays. They come with some nice benefits though such as GPU acceleration which we'll get to later. For now, use the generated data to calculate the output of this simple single layer network. \n",
        "> **Exercise**: Calculate the output of the network with input features `features`, weights `weights`, and bias `bias`. Similar to Numpy, PyTorch has a [`torch.sum()`](https://pytorch.org/docs/stable/torch.html#torch.sum) function, as well as a `.sum()` method on tensors, for taking sums. Use the function `activation` defined above as the activation function."
      ],
      "metadata": {}
    },
    {
      "cell_type": "code",
      "source": [
        "## Calculate the output of this network using the weights and bias tensors\n",
        "y = activation(torch.sum(features*weights) + bias)\n",
        "print(y)"
      ],
      "outputs": [
        {
          "output_type": "stream",
          "name": "stdout",
          "text": [
            "tensor([[0.1595]])\n"
          ]
        }
      ],
      "execution_count": 31,
      "metadata": {}
    },
    {
      "cell_type": "markdown",
      "source": [
        "You can do the multiplication and sum in the same operation using a matrix multiplication. In general, you'll want to use matrix multiplications since they are more efficient and accelerated using modern libraries and high-performance computing on GPUs.\n",
        "\n",
        "Here, we want to do a matrix multiplication of the features and the weights. For this we can use [`torch.mm()`](https://pytorch.org/docs/stable/torch.html#torch.mm) or [`torch.matmul()`](https://pytorch.org/docs/stable/torch.html#torch.matmul) which is somewhat more complicated and supports broadcasting. If we try to do it with `features` and `weights` as they are, we'll get an error\n",
        "\n",
        "```python\n",
        ">> torch.mm(features, weights)\n",
        "\n",
        "---------------------------------------------------------------------------\n",
        "RuntimeError                              Traceback (most recent call last)\n",
        "<ipython-input-13-15d592eb5279> in <module>()\n",
        "----> 1 torch.mm(features, weights)\n",
        "\n",
        "RuntimeError: size mismatch, m1: [1 x 5], m2: [1 x 5] at /Users/soumith/minicondabuild3/conda-bld/pytorch_1524590658547/work/aten/src/TH/generic/THTensorMath.c:2033\n",
        "```\n",
        "\n",
        "As you're building neural networks in any framework, you'll see this often. Really often. What's happening here is our tensors aren't the correct shapes to perform a matrix multiplication. Remember that for matrix multiplications, the number of columns in the first tensor must equal to the number of rows in the second column. Both `features` and `weights` have the same shape, `(1, 5)`. This means we need to change the shape of `weights` to get the matrix multiplication to work.\n",
        "\n",
        "**Note:** To see the shape of a tensor called `tensor`, use `tensor.shape`. If you're building neural networks, you'll be using this method often.\n",
        "\n",
        "There are a few options here: [`weights.reshape()`](https://pytorch.org/docs/stable/tensors.html#torch.Tensor.reshape), [`weights.resize_()`](https://pytorch.org/docs/stable/tensors.html#torch.Tensor.resize_), and [`weights.view()`](https://pytorch.org/docs/stable/tensors.html#torch.Tensor.view).\n",
        "\n",
        "* `weights.reshape(a, b)` will return a new tensor with the same data as `weights` with size `(a, b)` sometimes, and sometimes a clone, as in it copies the data to another part of memory.\n",
        "* `weights.resize_(a, b)` returns the same tensor with a different shape. However, if the new shape results in fewer elements than the original tensor, some elements will be removed from the tensor (but not from memory). If the new shape results in more elements than the original tensor, new elements will be uninitialized in memory. Here I should note that the underscore at the end of the method denotes that this method is performed **in-place**. Here is a great forum thread to [read more about in-place operations](https://discuss.pytorch.org/t/what-is-in-place-operation/16244) in PyTorch.\n",
        "* `weights.view(a, b)` will return a new tensor with the same data as `weights` with size `(a, b)`.\n",
        "\n",
        "I usually use `.view()`, but any of the three methods will work for this. So, now we can reshape `weights` to have five rows and one column with something like `weights.view(5, 1)`.\n",
        "\n",
        "> **Exercise**: Calculate the output of our little network using matrix multiplication."
      ],
      "metadata": {}
    },
    {
      "cell_type": "markdown",
      "source": [
        "torch.mm ve torch.matmul arasındaki fark; <br/>\n",
        "torch.matmul broadcasting uyguluyor olmasıdır. Derin öğrenmede en çok uğraşılan sorun boyut uyuşmazlığıdır. Sorun olduğunda hata gelmesi daha iyi. Sonucun yanlış olmaması için \"\"\"torch.mm\"\"\" kullanmak daha mantıklı."
      ],
      "metadata": {}
    },
    {
      "cell_type": "code",
      "source": [
        "## Calculate the output of this network using matrix multiplication\n",
        "activation(torch.mm(features,weights.view(5,1)) + bias)"
      ],
      "outputs": [
        {
          "output_type": "execute_result",
          "execution_count": 32,
          "data": {
            "text/plain": [
              "tensor([[0.1595]])"
            ]
          },
          "metadata": {}
        }
      ],
      "execution_count": 32,
      "metadata": {}
    },
    {
      "cell_type": "markdown",
      "source": [
        "### Stack them up!\n",
        "\n",
        "That's how you can calculate the output for a single neuron. The real power of this algorithm happens when you start stacking these individual units into layers and stacks of layers, into a network of neurons. The output of one layer of neurons becomes the input for the next layer. With multiple input units and output units, we now need to express the weights as a matrix.\n",
        "\n",
        "<img src='assets/multilayer_diagram_weights.png' width=450px>\n",
        "\n",
        "The first layer shown on the bottom here are the inputs, understandably called the **input layer**. The middle layer is called the **hidden layer**, and the final layer (on the right) is the **output layer**. We can express this network mathematically with matrices again and use matrix multiplication to get linear combinations for each unit in one operation. For example, the hidden layer ($h_1$ and $h_2$ here) can be calculated \n",
        "\n",
        "$$\n",
        "\\vec{h} = [h_1 \\, h_2] = \n",
        "\\begin{bmatrix}\n",
        "x_1 \\, x_2 \\cdots \\, x_n\n",
        "\\end{bmatrix}\n",
        "\\cdot \n",
        "\\begin{bmatrix}\n",
        "           w_{11} & w_{12} \\\\\n",
        "           w_{21} &w_{22} \\\\\n",
        "           \\vdots &\\vdots \\\\\n",
        "           w_{n1} &w_{n2}\n",
        "\\end{bmatrix}\n",
        "$$\n",
        "\n",
        "The output for this small network is found by treating the hidden layer as inputs for the output unit. The network output is expressed simply\n",
        "\n",
        "$$\n",
        "y =  f_2 \\! \\left(\\, f_1 \\! \\left(\\vec{x} \\, \\mathbf{W_1}\\right) \\mathbf{W_2} \\right)\n",
        "$$"
      ],
      "metadata": {}
    },
    {
      "cell_type": "code",
      "source": [
        "### Generate some data\n",
        "torch.manual_seed(7) # Set the random seed so things are predictable\n",
        "\n",
        "# Features are 3 random normal variables\n",
        "features = torch.randn((1, 3))\n",
        "\n",
        "# Define the size of each layer in our network\n",
        "n_input = features.shape[1]     # Number of input units, must match number of input features\n",
        "n_hidden = 2                    # Number of hidden units \n",
        "n_output = 1                    # Number of output units\n",
        "\n",
        "# Weights for inputs to hidden layer\n",
        "W1 = torch.randn(n_input, n_hidden)\n",
        "# Weights for hidden layer to output layer\n",
        "W2 = torch.randn(n_hidden, n_output)\n",
        "\n",
        "# and bias terms for hidden and output layers\n",
        "B1 = torch.randn((1, n_hidden))\n",
        "B2 = torch.randn((1, n_output))"
      ],
      "outputs": [],
      "execution_count": 34,
      "metadata": {}
    },
    {
      "cell_type": "markdown",
      "source": [
        "> **Exercise:** Calculate the output for this multi-layer network using the weights `W1` & `W2`, and the biases, `B1` & `B2`. "
      ],
      "metadata": {}
    },
    {
      "cell_type": "code",
      "source": [
        "## Your solution here\n",
        "h = activation(torch.mm(features, W1) + B1)\n",
        "output = activation(torch.mm(h, W2) + B2)\n",
        "print(output)\n"
      ],
      "outputs": [
        {
          "output_type": "stream",
          "name": "stdout",
          "text": [
            "tensor([[0.3171]])\n"
          ]
        }
      ],
      "execution_count": 35,
      "metadata": {}
    },
    {
      "cell_type": "markdown",
      "source": [
        "If you did this correctly, you should see the output `tensor([[ 0.3171]])`.\n",
        "\n",
        "The number of hidden units a parameter of the network, often called a **hyperparameter** to differentiate it from the weights and biases parameters. As you'll see later when we discuss training a neural network, the more hidden units a network has, and the more layers, the better able it is to learn from data and make accurate predictions."
      ],
      "metadata": {}
    },
    {
      "cell_type": "markdown",
      "source": [
        "## Numpy to Torch and back\n",
        "\n",
        "Special bonus section! PyTorch has a great feature for converting between Numpy arrays and Torch tensors. To create a tensor from a Numpy array, use `torch.from_numpy()`. To convert a tensor to a Numpy array, use the `.numpy()` method."
      ],
      "metadata": {}
    },
    {
      "cell_type": "code",
      "source": [
        "import numpy as np\n",
        "a = np.random.rand(4,3)\n",
        "a"
      ],
      "outputs": [],
      "execution_count": null,
      "metadata": {}
    },
    {
      "cell_type": "code",
      "source": [
        "b = torch.from_numpy(a)\n",
        "b"
      ],
      "outputs": [],
      "execution_count": null,
      "metadata": {}
    },
    {
      "cell_type": "code",
      "source": [
        "b.numpy()"
      ],
      "outputs": [],
      "execution_count": null,
      "metadata": {}
    },
    {
      "cell_type": "markdown",
      "source": [
        "The memory is shared between the Numpy array and Torch tensor, so if you change the values in-place of one object, the other will change as well."
      ],
      "metadata": {}
    },
    {
      "cell_type": "code",
      "source": [
        "# Multiply PyTorch Tensor by 2, in place\n",
        "b.mul_(2)"
      ],
      "outputs": [],
      "execution_count": null,
      "metadata": {}
    },
    {
      "cell_type": "code",
      "source": [
        "# Numpy array matches new values from Tensor\n",
        "a"
      ],
      "outputs": [],
      "execution_count": null,
      "metadata": {}
    }
  ],
  "metadata": {
    "kernelspec": {
      "name": "python3",
      "language": "python",
      "display_name": "Python 3"
    },
    "language_info": {
      "name": "python",
      "version": "3.7.5",
      "mimetype": "text/x-python",
      "codemirror_mode": {
        "name": "ipython",
        "version": 3
      },
      "pygments_lexer": "ipython3",
      "nbconvert_exporter": "python",
      "file_extension": ".py"
    },
    "nteract": {
      "version": "0.15.0"
    },
    "kernel_info": {
      "name": "python3"
    }
  },
  "nbformat": 4,
  "nbformat_minor": 4
}