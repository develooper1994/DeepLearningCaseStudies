{
 "cells": [
  {
   "cell_type": "markdown",
   "metadata": {
    "pycharm": {
     "name": "#%% md\n"
    }
   },
   "source": [
    "# Exercise numpy routines"
   ]
  },
  {
   "cell_type": "code",
   "execution_count": 1,
   "metadata": {
    "pycharm": {
     "is_executing": false,
     "name": "#%%\n"
    }
   },
   "outputs": [
    {
     "name": "stdout",
     "output_type": "stream",
     "text": [
      "a = [1 2 3 4]\n",
      "a = [[ 0  1  2  3  4  5  6  7  8  9 10]\n",
      " [11 12 13 14 15 16 17 18 19 20 21]\n",
      " [22 23 24 25 26 27 28 29 30 31 32]\n",
      " [33 34 35 36 37 38 39 40 41 42 43]\n",
      " [44 45 46 47 48 49 50 51 52 53 54]]\n",
      "a.shape = (5, 11)\n",
      "a.ndim = 2\n",
      "type(a) = <class 'numpy.ndarray'>\n",
      "a.dtype.name = int32\n",
      "a.itemsize = 4\n",
      "a.size = 55\n"
     ]
    }
   ],
   "source": [
    "# I have changed the documentation but main idea is here:\n",
    "# https://docs.scipy.org/doc/numpy/user/quickstart.html\n",
    "import numpy as np\n",
    "\n",
    "a = np.array([1, 2, 3, 4])\n",
    "print(f\"a = {a}\")\n",
    "\n",
    "a = np.arange(55).reshape(5,-1)\n",
    "print(f\"a = {a}\")\n",
    "print(f\"a.shape = {a.shape}\")\n",
    "print(f\"a.ndim = {a.ndim}\")\n",
    "# two of different result\n",
    "print(f\"type(a) = {type(a)}\")\n",
    "print(f\"a.dtype.name = {a.dtype.name}\")\n",
    "\n",
    "print(f\"a.itemsize = {a.itemsize}\")  # Length of one array element in bytes.\n",
    "print(f\"a.size = {a.size}\")  # number of items"
   ]
  },
  {
   "cell_type": "markdown",
   "metadata": {},
   "source": [
    "All right. I am going to create a numpy array"
   ]
  },
  {
   "cell_type": "code",
   "execution_count": 2,
   "metadata": {
    "pycharm": {
     "is_executing": false,
     "name": "#%%\n"
    }
   },
   "outputs": [
    {
     "name": "stdout",
     "output_type": "stream",
     "text": [
      "created array a = [0 1 1 2 3 5 8], a.dtype = int32\n",
      "created array b = [0.  1.  2.  0.  7.6], b.dtype = float64\n",
      "b+c = [[ 2.5+0.j  4.2+0.j 12.8+0.j]\n",
      " [13.5+0.j 14. +0.j 13.7+0.j]], (b+c).dtype = complex128\n",
      "[[0. 0. 0. 0.]\n",
      " [0. 0. 0. 0.]\n",
      " [0. 0. 0. 0.]]\n",
      "[[1 1 1 1]\n",
      " [1 1 1 1]\n",
      " [1 1 1 1]]\n",
      "[[0. 0. 0. 0.]\n",
      " [0. 0. 0. 0.]\n",
      " [0. 0. 0. 0.]]\n",
      "[[0. 0. 0. 0.]\n",
      " [0. 0. 0. 0.]\n",
      " [0. 0. 0. 0.]]\n",
      "[[1. 1. 1. 1.]\n",
      " [1. 1. 1. 1.]\n",
      " [1. 1. 1. 1.]]\n",
      "r1 = [10 30 50 70 90]\n",
      "r2 = [-1.00000000e+00 -9.00000000e-01 -8.00000000e-01 -7.00000000e-01\n",
      " -6.00000000e-01 -5.00000000e-01 -4.00000000e-01 -3.00000000e-01\n",
      " -2.00000000e-01 -1.00000000e-01 -2.22044605e-16  1.00000000e-01\n",
      "  2.00000000e-01  3.00000000e-01  4.00000000e-01  5.00000000e-01\n",
      "  6.00000000e-01  7.00000000e-01  8.00000000e-01  9.00000000e-01]\n",
      "\n",
      "\n",
      "x = [0.         0.06346652 0.12693304 0.19039955 0.25386607 0.31733259\n",
      " 0.38079911 0.44426563 0.50773215 0.57119866 0.63466518 0.6981317\n",
      " 0.76159822 0.82506474 0.88853126 0.95199777 1.01546429 1.07893081\n",
      " 1.14239733 1.20586385 1.26933037 1.33279688 1.3962634  1.45972992\n",
      " 1.52319644 1.58666296 1.65012947 1.71359599 1.77706251 1.84052903\n",
      " 1.90399555 1.96746207 2.03092858 2.0943951  2.15786162 2.22132814\n",
      " 2.28479466 2.34826118 2.41172769 2.47519421 2.53866073 2.60212725\n",
      " 2.66559377 2.72906028 2.7925268  2.85599332 2.91945984 2.98292636\n",
      " 3.04639288 3.10985939 3.17332591 3.23679243 3.30025895 3.36372547\n",
      " 3.42719199 3.4906585  3.55412502 3.61759154 3.68105806 3.74452458\n",
      " 3.8079911  3.87145761 3.93492413 3.99839065 4.06185717 4.12532369\n",
      " 4.1887902  4.25225672 4.31572324 4.37918976 4.44265628 4.5061228\n",
      " 4.56958931 4.63305583 4.69652235 4.75998887 4.82345539 4.88692191\n",
      " 4.95038842 5.01385494 5.07732146 5.14078798 5.2042545  5.26772102\n",
      " 5.33118753 5.39465405 5.45812057 5.52158709 5.58505361 5.64852012\n",
      " 5.71198664 5.77545316 5.83891968 5.9023862  5.96585272 6.02931923\n",
      " 6.09278575 6.15625227 6.21971879 6.28318531]\n",
      "sin(x) = [ 0.00000000e+00  6.34239197e-02  1.26592454e-01  1.89251244e-01\n",
      "  2.51147987e-01  3.12033446e-01  3.71662456e-01  4.29794912e-01\n",
      "  4.86196736e-01  5.40640817e-01  5.92907929e-01  6.42787610e-01\n",
      "  6.90079011e-01  7.34591709e-01  7.76146464e-01  8.14575952e-01\n",
      "  8.49725430e-01  8.81453363e-01  9.09631995e-01  9.34147860e-01\n",
      "  9.54902241e-01  9.71811568e-01  9.84807753e-01  9.93838464e-01\n",
      "  9.98867339e-01  9.99874128e-01  9.96854776e-01  9.89821442e-01\n",
      "  9.78802446e-01  9.63842159e-01  9.45000819e-01  9.22354294e-01\n",
      "  8.95993774e-01  8.66025404e-01  8.32569855e-01  7.95761841e-01\n",
      "  7.55749574e-01  7.12694171e-01  6.66769001e-01  6.18158986e-01\n",
      "  5.67059864e-01  5.13677392e-01  4.58226522e-01  4.00930535e-01\n",
      "  3.42020143e-01  2.81732557e-01  2.20310533e-01  1.58001396e-01\n",
      "  9.50560433e-02  3.17279335e-02 -3.17279335e-02 -9.50560433e-02\n",
      " -1.58001396e-01 -2.20310533e-01 -2.81732557e-01 -3.42020143e-01\n",
      " -4.00930535e-01 -4.58226522e-01 -5.13677392e-01 -5.67059864e-01\n",
      " -6.18158986e-01 -6.66769001e-01 -7.12694171e-01 -7.55749574e-01\n",
      " -7.95761841e-01 -8.32569855e-01 -8.66025404e-01 -8.95993774e-01\n",
      " -9.22354294e-01 -9.45000819e-01 -9.63842159e-01 -9.78802446e-01\n",
      " -9.89821442e-01 -9.96854776e-01 -9.99874128e-01 -9.98867339e-01\n",
      " -9.93838464e-01 -9.84807753e-01 -9.71811568e-01 -9.54902241e-01\n",
      " -9.34147860e-01 -9.09631995e-01 -8.81453363e-01 -8.49725430e-01\n",
      " -8.14575952e-01 -7.76146464e-01 -7.34591709e-01 -6.90079011e-01\n",
      " -6.42787610e-01 -5.92907929e-01 -5.40640817e-01 -4.86196736e-01\n",
      " -4.29794912e-01 -3.71662456e-01 -3.12033446e-01 -2.51147987e-01\n",
      " -1.89251244e-01 -1.26592454e-01 -6.34239197e-02 -2.44929360e-16]\n",
      "c.shape: (2, 3, 4), c = [[[ 0  1  2  3]\n",
      "  [ 4  5  6  7]\n",
      "  [ 8  9 10 11]]\n",
      "\n",
      " [[12 13 14 15]\n",
      "  [16 17 18 19]\n",
      "  [20 21 22 23]]]\n",
      "c.shape: (4, 6), c = [[ 0  1  2  3  4  5]\n",
      " [ 6  7  8  9 10 11]\n",
      " [12 13 14 15 16 17]\n",
      " [18 19 20 21 22 23]]\n",
      "c.shape: (12, 2), c = [[ 0  1]\n",
      " [ 2  3]\n",
      " [ 4  5]\n",
      " [ 6  7]\n",
      " [ 8  9]\n",
      " [10 11]\n",
      " [12 13]\n",
      " [14 15]\n",
      " [16 17]\n",
      " [18 19]\n",
      " [20 21]\n",
      " [22 23]]\n",
      "c.shape: (12, 2), c = [[ 0  1]\n",
      " [ 2  3]\n",
      " [ 4  5]\n",
      " [ 6  7]\n",
      " [ 8  9]\n",
      " [10 11]\n",
      " [12 13]\n",
      " [14 15]\n",
      " [16 17]\n",
      " [18 19]\n",
      " [20 21]\n",
      " [22 23]]\n"
     ]
    }
   ],
   "source": [
    "# one dimensional array\n",
    "a = np.array([0,1,1,2,3,5,8])\n",
    "print(f\"created array a = {a}, a.dtype = {a.dtype}\")\n",
    "b = np.array([0,1,2,0,7.6])\n",
    "print(f\"created array b = {b}, b.dtype = {b.dtype}\")\n",
    "\n",
    "# two dimensional array \n",
    "b = np.array([(1.5,2.2,9.8),(4.5,6,6.7)])\n",
    "c = np.array([(1,2,3),(9,8,7)], dtype=complex)\n",
    "print(f\"b+c = {b+c}, (b+c).dtype = {(b+c).dtype}\")\n",
    "\n",
    "# -*-* built-in arrays *-*-\n",
    "z = np.zeros((3,4))\n",
    "print(z)\n",
    "print(np.ones((3,4), dtype=np.int16))\n",
    "print(np.empty((3,4))) # uninitialized\n",
    "print(np.zeros_like(z))\n",
    "print(np.ones_like(z))\n",
    "\n",
    "# start, stop, step\n",
    "r1 = np.arange(10,100,20)\n",
    "r2 = np.arange(-1,1,0.1)\n",
    "print(f\"r1 = {r1}\")\n",
    "print(f\"r2 = {r2}\")\n",
    "\n",
    "# start, stop, number of items\n",
    "from numpy import pi\n",
    "x = np.linspace(0, 2*pi, 100)\n",
    "fsin = np.sin(x)\n",
    "print(f\"\\n\\nx = {x}\\nsin(x) = {fsin}\")\n",
    "\n",
    "c = np.arange(24).reshape(2,3,4)\n",
    "print(f\"c.shape: {c.shape}, c = {c}\")\n",
    "c.shape = 4,-1\n",
    "print(f\"c.shape: {c.shape}, c = {c}\")\n",
    "c = np.reshape(c, (-1,2))\n",
    "print(f\"c.shape: {c.shape}, c = {c}\")\n",
    "c.reshape(-1) # not changes itself\n",
    "print(f\"c.shape: {c.shape}, c = {c}\")"
   ]
  },
  {
   "cell_type": "markdown",
   "metadata": {
    "pycharm": {
     "name": "#%% md\n"
    }
   },
   "source": [
    "Basic operations"
   ]
  },
  {
   "cell_type": "code",
   "execution_count": 3,
   "metadata": {
    "pycharm": {
     "is_executing": false,
     "name": "#%%\n"
    }
   },
   "outputs": [
    {
     "name": "stdout",
     "output_type": "stream",
     "text": [
      "c1 = [ 8 79  0 17]\n",
      "c2 = [0 1 4 9]\n",
      "c3 = [ 9.89358247 -9.93888654  9.09297427  9.12945251]\n",
      "c4 = [ True False  True  True]\n",
      "C1 = [[ 0 80]\n",
      " [ 4 60]]\n",
      "C2 = [[160 248]\n",
      " [ 40  62]]\n",
      "C3 = [[160 248]\n",
      " [ 40  62]]\n",
      "\n",
      "\n",
      "C.shape: (2, 2)\n",
      "C = [[161.        +0.j         247.88961276-0.99388865j]\n",
      " [ 39.34635638-0.7568025j   61.04758702-0.30481062j]]\n",
      "C.dtype: complex128\n",
      "\n",
      "\n",
      "\n",
      "a = [[ 0  1  2  3]\n",
      " [ 4  5  6  7]\n",
      " [ 8  9 10 11]]\n",
      "a.sum = 66\n",
      "a.min = 0\n",
      "a.max = 11\n",
      "a.sum(axis=0) = [12 15 18 21]\n",
      "a.min(axis=1) = [0 4 8]\n",
      "a.cumsum(axis=1) = [[ 0  1  3  6]\n",
      " [ 4  9 15 22]\n",
      " [ 8 17 27 38]]\n",
      "ufunc example = \n",
      "[[1. 1. 1.]\n",
      " [1. 1. 1.]\n",
      " [1. 1. 1.]\n",
      " [1. 1. 1.]]\n"
     ]
    }
   ],
   "source": [
    "a = np.array([8,80,2,20])\n",
    "b = np.arange(4)\n",
    "c1 = a - b\n",
    "c2 = b ** 2\n",
    "c3 = 10 * np.sin(a)\n",
    "c4 = a <70\n",
    "print(f\"c1 = {c1}\")\n",
    "print(f\"c2 = {c2}\")\n",
    "print(f\"c3 = {c3}\")\n",
    "print(f\"c4 = {c4}\")\n",
    "\n",
    "A = a.reshape(-1,2)\n",
    "B = b.reshape(2,-1)\n",
    "# dot product\n",
    "C1 = A*B\n",
    "C2 = A@B\n",
    "C3 = A.dot(B)\n",
    "print(f\"C1 = {C1}\")\n",
    "print(f\"C2 = {C2}\")\n",
    "print(f\"C3 = {C3}\")\n",
    "\n",
    "C = C2 + np.exp(C1*1j) # += not working for complex types\n",
    "print(f\"\\n\\nC.shape: {C.shape}\\nC = {C}\\nC.dtype: {C.dtype}\")\n",
    "print(f\"\\n\\n\")\n",
    "# basic statictics\n",
    "a = np.arange(12).reshape(3,4)\n",
    "print(f\"a = {a}\")\n",
    "print(f\"a.sum = {a.sum()}\")\n",
    "print(f\"a.min = {a.min()}\")\n",
    "print(f\"a.max = {a.max()}\")\n",
    "\n",
    "# axis property\n",
    "# axis=0 (up to down,(or) first axis), axis=1 (left to right,(or) second axis)\n",
    "print(f\"a.sum(axis=0) = {a.sum(axis=0)}\")\n",
    "print(f\"a.min(axis=1) = {a.min(axis=1)}\")\n",
    "print(f\"a.cumsum(axis=1) = {a.cumsum(axis=1)}\")\n",
    "\n",
    "# ufunc = universial functions. elementwise functions like; \n",
    "# sin, exp, add, cumprod, max, all, apply, ...\n",
    "# random\n",
    "a = np.random.random((4,3))\n",
    "print(f\"ufunc example = \\n\"\n",
    "      f\"{np.sqrt(np.sin(a)**2+np.cos(a)**2)}\")  # trigonometry equality"
   ]
  },
  {
   "cell_type": "markdown",
   "metadata": {},
   "source": [
    "### Indexing, Slicing and Iterating\n",
    "start, stop, step\n",
    "* x[1,2,...] is equivalent to x[1,2,:,:,:],\n",
    "* x[...,3] to x[:,:,:,:,3] and\n",
    "* x[4,...,5,:] to x[4,:,:,5,:]."
   ]
  },
  {
   "cell_type": "code",
   "execution_count": 10,
   "metadata": {
    "pycharm": {
     "is_executing": false,
     "name": "#%%\n"
    }
   },
   "outputs": [
    {
     "name": "stdout",
     "output_type": "stream",
     "text": [
      "a = [   0    1    8   27   64  125  216  343  512  729 1000 1331 1728 2197\n",
      " 2744]\n",
      "a[:2] = [0 1]\n",
      "a[2:6] = [  8  27  64 125]\n",
      "a[:8:2] = [  0   8  64 216]\n",
      "a[::-1] = [2744 2197 1728 1331 1000  729  512  343  216  125   64   27    8    1\n",
      "    0]\n",
      "0.0\n",
      "1.0\n",
      "1.440246537538759\n",
      "1.782856750895827\n",
      "2.0743100888923838\n",
      "2.332807751112795\n",
      "2.5677532624053168\n",
      "2.784764295834139\n",
      "2.987517923308971\n",
      "3.1785781942148255\n",
      "3.3598182862837818\n",
      "3.5326565214830064\n",
      "3.69819774543311\n",
      "3.857322716372023\n",
      "4.010747134936679\n",
      "b fromfunction: [[  0   1   2   3]\n",
      " [100 101 102 103]\n",
      " [200 201 202 203]\n",
      " [300 301 302 303]\n",
      " [400 401 402 403]]\n",
      "b.shape = (5, 4)\n",
      "b[1,...] = [100 101 102 103]\n",
      "b[...,2] = [  2 102 202 302 402]\n",
      "rows = [0 1 2 3], [100 101 102 103], [200 201 202 203], [300 301 302 303], [400 401 402 403], flatten = 0, 1, 2, 3, 100, 101, 102, 103, 200, 201, 202, 203, 300, 301, 302, 303, 400, 401, 402, 403, \n",
      "b.ravel() = [  0   1   2   3 100 101 102 103 200 201 202 203 300 301 302 303 400 401\n",
      " 402 403]\n",
      " shape: (4, 3), transpoze = [[7. 8. 0.]\n",
      " [1. 2. 0.]\n",
      " [7. 9. 2.]\n",
      " [0. 5. 7.]]\n",
      "a.reshape = [[7. 1. 7. 0.]\n",
      " [8. 2. 9. 5.]\n",
      " [0. 0. 2. 7.]]\n",
      "a.resize = [[7. 1. 7. 0. 8. 2.]\n",
      " [9. 5. 0. 0. 2. 7.]]\n"
     ]
    }
   ],
   "source": [
    "a = np.arange(15)**3\n",
    "print(f\"a = {a}\")\n",
    "print(f\"a[:2] = {a[:2]}\")\n",
    "print(f\"a[2:6] = {a[2:6]}\")\n",
    "print(f\"a[:8:2] = {a[:8:2]}\")\n",
    "print(f\"a[::-1] = {a[::-1]}\")  # reversed\n",
    "#iterate\n",
    "for i in a:\n",
    "    print(i**(1/5.7))\n",
    "\n",
    "# fromfunction; it is like arange but generates with function guide\n",
    "def f(x,y): return 100*x+y\n",
    "b = np.fromfunction(f,(5,4),dtype=int)\n",
    "print(f\"b fromfunction: {b}\")\n",
    "\n",
    "# some indexing properties for multidimentional array\n",
    "print(f\"b.shape = {b.shape}\")\n",
    "print(f\"b[1,...] = {b[1,...]}\")\n",
    "print(f\"b[...,2] = {b[...,2]}\")\n",
    "\n",
    "# iterate again.\n",
    "print(\"rows\", end=' = ')\n",
    "for row in b: print(row, end=', ')\n",
    "# flat(returns iterator) vs ravel(returns full list)\n",
    "print(\"flatten\", end=' = ')\n",
    "for f in b.flat: print(f, end=', ')\n",
    "print(f\"\\nb.ravel() = {b.ravel()}\")\n",
    "\n",
    "a = np.floor(10 * np.random.random((3,4)))\n",
    "print(f\" shape: {a.T.shape}, transpoze = {a.T}\")\n",
    "\n",
    "# reshape(returns modified array) vs resize(modify itself)\n",
    "a.reshape((2,6))\n",
    "print(f\"a.reshape = {a}\")\n",
    "a.resize((2,6))\n",
    "print(f\"a.resize = {a}\")"
   ]
  },
  {
   "cell_type": "markdown",
   "metadata": {},
   "source": [
    "### Stacking together different arrays\n",
    "The function column_stack stacks 1D arrays as columns into a 2D array. It is equivalent to hstack only for 2D arrays"
   ]
  },
  {
   "cell_type": "code",
   "execution_count": 5,
   "metadata": {
    "pycharm": {
     "is_executing": false,
     "name": "#%%\n"
    }
   },
   "outputs": [
    {
     "name": "stdout",
     "output_type": "stream",
     "text": [
      "a = \n",
      "[[4 0 1]\n",
      " [0 4 1]]\n",
      "b = \n",
      "[[0 9 2]\n",
      " [9 0 2]]\n",
      "\n",
      "vstack = \n",
      "[[4 0 1]\n",
      " [0 4 1]\n",
      " [0 9 2]\n",
      " [9 0 2]]\n",
      "hstack = \n",
      "[[4 0 1 0 9 2]\n",
      " [0 4 1 9 0 2]]\n",
      "column_stack = \n",
      "[[4 0 1 0 9 2]\n",
      " [0 4 1 9 0 2]]\n",
      "column_stack1 = \n",
      "[[4 0]\n",
      " [0 9]\n",
      " [1 2]]\n",
      "concatenate(axis = 0) = \n",
      "[[4 0 1]\n",
      " [0 4 1]\n",
      " [0 9 2]\n",
      " [9 0 2]]\n",
      "concatenate(axis = 1) = \n",
      "[[4 0 1 0 9 2]\n",
      " [0 4 1 9 0 2]]\n",
      "ccolumn stack = [[4 3]\n",
      " [2 8]]\n",
      "a[:,newaxis] =\n",
      "[[4]\n",
      " [2]]\n",
      "np.column_stack((a[:,newaxis],b[:,newaxis])) =\n",
      "[[4 3]\n",
      " [2 8]]\n",
      "np.hstack((a[:,newaxis],b[:,newaxis])) =\n",
      "[[4 3]\n",
      " [2 8]]\n",
      "np.r_ =\n",
      "[[0 1 2]\n",
      " [3 4 5]\n",
      " [0 1 2]\n",
      " [3 4 5]]\n",
      "np.c_ =\n",
      "[[0 1 2 0 1 2]\n",
      " [3 4 5 3 4 5]]\n"
     ]
    }
   ],
   "source": [
    "a = np.array([[4,0,1],[0,4,1]])\n",
    "b = np.array([[0,9,2],[9,0,2]])\n",
    "print(f\"a = \\n{a}\\nb = \\n{b}\\n\")\n",
    "\n",
    "v = np.vstack((a,b))  # up to down\n",
    "print(f\"vstack = \\n{v}\")\n",
    "h = np.hstack((a,b)) # left to right\n",
    "print(f\"hstack = \\n{h}\")\n",
    "cs = np.column_stack((a,b)) # generally 1d and 2d\n",
    "print(f\"column_stack = \\n{cs}\")\n",
    "\n",
    "# but column_stack is different. works like a zip in 1-D\n",
    "a1 = np.array([4,0,1])\n",
    "b1 = np.array([0,9,2])\n",
    "cs1 = np.column_stack((a1,b1))\n",
    "print(f\"column_stack1 = \\n{cs1}\")\n",
    "\n",
    "# There is also concatenate function to rule all them up\n",
    "v = np.concatenate((a,b), axis = 0)  # vstack + newdim\n",
    "print(f\"concatenate(axis = 0) = \\n{v}\")\n",
    "h = np.concatenate((a,b), axis = 1) # hstack\n",
    "print(f\"concatenate(axis = 1) = \\n{h}\")\n",
    "# there is also row_stack\n",
    "\n",
    "# np.newaxis is appends array to new axis\n",
    "a = np.array([4,2])\n",
    "b = np.array([3,8])\n",
    "ccolumn = np.column_stack((a,b)) # 2d\n",
    "print(f\"ccolumn stack = {ccolumn}\")\n",
    "ch = np.hstack((a,b))\n",
    "print(f\"a[:,newaxis] =\\n{a[:,np.newaxis]}\")\n",
    "print(f\"np.column_stack((a[:,newaxis],b[:,newaxis])) =\\n{np.column_stack((a[:,np.newaxis],b[:,np.newaxis]))}\")\n",
    "print(f\"np.hstack((a[:,newaxis],b[:,newaxis])) =\\n{np.hstack((a[:,np.newaxis],b[:,np.newaxis]))}\")\n",
    "\n",
    "# much more simple way to use stacks\n",
    "# np.r_(row) and np.c_(column)\n",
    "a = np.array([[0, 1, 2], [3, 4, 5]])\n",
    "print(f\"np.r_ =\\n{np.r_[a, a]}\")\n",
    "print(f\"np.c_ =\\n{np.c_[a, a]}\")\n"
   ]
  },
  {
   "cell_type": "markdown",
   "metadata": {},
   "source": [
    "### Splitting one array into several smaller ones"
   ]
  },
  {
   "cell_type": "code",
   "execution_count": 6,
   "metadata": {
    "pycharm": {
     "is_executing": false,
     "name": "#%%\n"
    }
   },
   "outputs": [
    {
     "name": "stdout",
     "output_type": "stream",
     "text": [
      "a = [[0. 8. 0. 0. 6. 2. 6. 6. 9. 1. 2. 3. 9. 2. 7. 4. 6. 0. 2. 3. 6. 7. 1. 5.]\n",
      " [2. 4. 0. 4. 5. 7. 4. 7. 8. 1. 2. 8. 9. 8. 9. 4. 2. 2. 4. 3. 1. 5. 5. 2.]]\n",
      "np.hsplit(a, 4) =\n",
      "[array([[0., 8., 0., 0., 6., 2.],\n",
      "       [2., 4., 0., 4., 5., 7.]]), array([[6., 6., 9., 1., 2., 3.],\n",
      "       [4., 7., 8., 1., 2., 8.]]), array([[9., 2., 7., 4., 6., 0.],\n",
      "       [9., 8., 9., 4., 2., 2.]]), array([[2., 3., 6., 7., 1., 5.],\n",
      "       [4., 3., 1., 5., 5., 2.]])]\n",
      "np.hsplit(a, 4) =\n",
      "[array([[0., 8., 0.],\n",
      "       [2., 4., 0.]]), array([[0.],\n",
      "       [4.]]), array([[6., 2., 6., 6., 9., 1., 2., 3., 9., 2., 7., 4., 6., 0., 2., 3.,\n",
      "        6., 7., 1., 5.],\n",
      "       [5., 7., 4., 7., 8., 1., 2., 8., 9., 8., 9., 4., 2., 2., 4., 3.,\n",
      "        1., 5., 5., 2.]])]\n"
     ]
    }
   ],
   "source": [
    "a = np.floor(10*np.random.random((2,24)))\n",
    "print(f\"a = {a}\")\n",
    "print(f\"np.hsplit(a, 4) =\\n{np.hsplit(a, 4)}\")\n",
    "print(f\"np.hsplit(a, 4) =\\n{np.hsplit(a, (3,4))}\")\n",
    "# there is also vstack and array_split\n"
   ]
  },
  {
   "cell_type": "markdown",
   "metadata": {},
   "source": [
    "## Copies and Views\n",
    "default setting of numpy is \"no copy at all\"\n",
    "let's look at what is going on inside of numpy"
   ]
  },
  {
   "cell_type": "markdown",
   "metadata": {
    "pycharm": {
     "is_executing": false,
     "name": "#%% md\n"
    }
   },
   "source": [
    "There is 3 type of assignment\n",
    "referance(No Copy at All, default) = just referances to object, don't copies pointer or data\n",
    "shallow copy = creates a new pointer to the object and copies pointer not the data\n",
    "deep copy = creates a completely new object, copies pointer and data "
   ]
  },
  {
   "cell_type": "code",
   "execution_count": 14,
   "metadata": {
    "pycharm": {
     "is_executing": false,
     "name": "#%%\n"
    }
   },
   "outputs": [
    {
     "name": "stdout",
     "output_type": "stream",
     "text": [
      "b is a ? : True\n",
      "a.shape = (5, 11)\n",
      "2626982110992\n",
      "2626982110992\n"
     ]
    }
   ],
   "source": [
    "# No Copy at All\n",
    "a = np.arange(55)\n",
    "b = a\n",
    "print(f\"b is a ? : {b is a}\")\n",
    "b.shape = 5,-1\n",
    "print(f\"a.shape = {a.shape}\")\n",
    "\n",
    "def id_print(x): print(id(x))\n",
    "id_print(a)\n",
    "id_print(b)"
   ]
  },
  {
   "cell_type": "code",
   "execution_count": 18,
   "metadata": {
    "pycharm": {
     "is_executing": false,
     "name": "#%%\n"
    }
   },
   "outputs": [
    {
     "name": "stdout",
     "output_type": "stream",
     "text": [
      "c is a ? : False\n",
      "c.base is a ? : True\n",
      "c.flags.owndata = False\n",
      "a.shape = (5, 11)\n",
      "a = [[   0 1234 1234    3    4    5    6    7    8    9   10]\n",
      " [  11 1234 1234   14   15   16   17   18   19   20   21]\n",
      " [  22 1234 1234   25   26   27   28   29   30   31   32]\n",
      " [  33 1234 1234   36   37   38   39   40   41   42   43]\n",
      " [  44 1234 1234   47   48   49   50   51   52   53   54]]\n"
     ]
    }
   ],
   "source": [
    "# View or Shallow Copy\n",
    "c = a.view()\n",
    "print(f\"c is a ? : {c is a}\")\n",
    "print(f\"c.base is a ? : {c.base is a}\")\n",
    "print(f\"c.flags.owndata = {c.flags.owndata}\")\n",
    "c.shape = 5,-1\n",
    "c[:,1:3] = 1234\n",
    "print(f\"a.shape = {a.shape}\\na = {a}\")"
   ]
  },
  {
   "cell_type": "code",
   "execution_count": 23,
   "metadata": {
    "pycharm": {
     "is_executing": false,
     "name": "#%%\n"
    }
   },
   "outputs": [
    {
     "name": "stdout",
     "output_type": "stream",
     "text": [
      "d is a ? : False\n",
      "d.base is a ? : False\n",
      "a.shape = (5, 11)\n",
      "a = [[   0 1234 1234    3    4    5    6    7    8    9   10]\n",
      " [  11 1234 1234   14   15   16   17   18   19   20   21]\n",
      " [  22 1234 1234   25   26   27   28   29   30   31   32]\n",
      " [  33 1234 1234   36   37   38   39   40   41   42   43]\n",
      " [  44 1234 1234   47   48   49   50   51   52   53   54]]\n",
      "d.shape = (5, 11)\n",
      "d = [[   0 1234 1234    3    4    5    6    7    8    9   10]\n",
      " [  11 1234 1234   14   15   16   17   18   19   20   21]\n",
      " [  22 1234 1234   25   26   27   28   29   30   31   32]\n",
      " [  33  741  741   36   37   38   39   40   41   42   43]\n",
      " [  44  741  741   47   48   49   50   51   52   53   54]]\n"
     ]
    }
   ],
   "source": [
    "# Deep Copy\n",
    "d = a.copy()\n",
    "print(f\"d is a ? : {d is a}\")\n",
    "print(f\"d.base is a ? : {d.base is a}\")\n",
    "d.shape = 5,-1\n",
    "d[3:,1:3] = 741\n",
    "print(f\"a.shape = {a.shape}\\na = {a}\")\n",
    "print(f\"d.shape = {d.shape}\\nd = {d}\")\n",
    "del a\n"
   ]
  },
  {
   "cell_type": "markdown",
   "metadata": {},
   "source": [
    "## Fancy indexing and index tricks and Broadcasting rules"
   ]
  },
  {
   "cell_type": "code",
   "execution_count": 35,
   "metadata": {
    "pycharm": {
     "is_executing": false,
     "name": "#%%\n"
    }
   },
   "outputs": [
    {
     "name": "stdout",
     "output_type": "stream",
     "text": [
      "indexed with i = [ 1  1  9 64 25]\n",
      "indexed with j =\n",
      "[[ 9 16]\n",
      " [81 49]]\n",
      "palette[image] =\n",
      "[[[  0   0   0]\n",
      "  [255   0   0]\n",
      "  [  0 255   0]\n",
      "  [  0   0   0]]\n",
      "\n",
      " [[  0   0   0]\n",
      "  [  0   0 255]\n",
      "  [255 255 255]\n",
      "  [  0   0   0]]]\n",
      "a =\n",
      "[3 0 4 0 0]\n"
     ]
    }
   ],
   "source": [
    "a = np.arange(10)**2\n",
    "i = np.array( [ 1,1,3,8,5 ] )\n",
    "print(f\"indexed with i = {a[i]}\")  # one dim index -> one dim result\n",
    "j = np.array( [ [ 3, 4], [ 9, 7 ] ] )\n",
    "print(f\"indexed with j =\\n{a[j]}\")  # two dim index -> two dim result\n",
    "\n",
    "# n dim index -> n dim result\n",
    "palette = np.array( [ [0,0,0],                # black\n",
    "                      [255,0,0],              # red\n",
    "                      [0,255,0],              # green\n",
    "                      [0,0,255],              # blue\n",
    "                      [255,255,255] ] )       # white\n",
    "image = np.array( [ [ 0, 1, 2, 0 ],           # each value corresponds to a color in the palette\n",
    "                    [ 0, 3, 4, 0 ]  ] )\n",
    "print(f\"palette[image] =\\n{palette[image] }\")                          # the (2,4,3) color image\n",
    "\n",
    "a = np.arange(5)\n",
    "a[[1,3,4]] = 0\n",
    "a[[0,0,2]]=[1,2,3]\n",
    "a[[0,0,2]]+=1\n",
    "print(f\"a =\\n{a}\")\n"
   ]
  },
  {
   "cell_type": "markdown",
   "metadata": {},
   "source": [
    "## Indexing with Boolean Arrays"
   ]
  },
  {
   "cell_type": "code",
   "execution_count": 40,
   "metadata": {
    "pycharm": {
     "is_executing": false,
     "name": "#%%\n"
    }
   },
   "outputs": [
    {
     "name": "stdout",
     "output_type": "stream",
     "text": [
      "a = [[0 1 2 3]\n",
      " [4 0 0 0]\n",
      " [0 0 0 0]]\n",
      "b = [[False False False False]\n",
      " [False  True  True  True]\n",
      " [ True  True  True  True]]\n",
      "ax = [[[2]]\n",
      "\n",
      " [[3]]\n",
      "\n",
      " [[4]]\n",
      "\n",
      " [[5]]]\n",
      "bx = [[[8]\n",
      "  [5]\n",
      "  [4]]]\n",
      "cx = [[[5 4 6 8 3]]]\n",
      "ax.shape = (4, 1, 1)\n",
      "bx.shape = (1, 3, 1)\n",
      "cx.shape = (1, 1, 5)\n",
      "result = [[[42 34 50 66 26]\n",
      "  [27 22 32 42 17]\n",
      "  [22 18 26 34 14]]\n",
      "\n",
      " [[43 35 51 67 27]\n",
      "  [28 23 33 43 18]\n",
      "  [23 19 27 35 15]]\n",
      "\n",
      " [[44 36 52 68 28]\n",
      "  [29 24 34 44 19]\n",
      "  [24 20 28 36 16]]\n",
      "\n",
      " [[45 37 53 69 29]\n",
      "  [30 25 35 45 20]\n",
      "  [25 21 29 37 17]]]\n",
      "\n",
      "result[3,2,4] = 17\n",
      "a[3]+b[2]*c[4] = 17\n",
      "ufunc_reduce(np.add,a,b,c) = [[[15 14 16 18 13]\n",
      "  [12 11 13 15 10]\n",
      "  [11 10 12 14  9]]\n",
      "\n",
      " [[16 15 17 19 14]\n",
      "  [13 12 14 16 11]\n",
      "  [12 11 13 15 10]]\n",
      "\n",
      " [[17 16 18 20 15]\n",
      "  [14 13 15 17 12]\n",
      "  [13 12 14 16 11]]\n",
      "\n",
      " [[18 17 19 21 16]\n",
      "  [15 14 16 18 13]\n",
      "  [14 13 15 17 12]]]\n"
     ]
    }
   ],
   "source": [
    "a = np.arange(12).reshape(3,4)\n",
    "b = a > 4\n",
    "a[b] = 0\n",
    "print(f\"a = {a}\\nb = {b}\")\n",
    "\n",
    "# ix_ broadcast function\n",
    "a = np.array([2,3,4,5])\n",
    "b = np.array([8,5,4])\n",
    "c = np.array([5,4,6,8,3])\n",
    "ax,bx,cx = np.ix_(a,b,c)\n",
    "print(f\"ax = {ax}\\nbx = {bx}\\ncx = {cx}\")\n",
    "print(f\"ax.shape = {ax.shape}\\nbx.shape = {bx.shape}\\ncx.shape = {cx.shape}\")\n",
    "\n",
    "result = ax+bx*cx\n",
    "print(f\"result = {result}\\n\")\n",
    "print(f\"result[3,2,4] = {result[3,2,4]}\")\n",
    "print(f\"a[3]+b[2]*c[4] = {a[3]+b[2]*c[4]}\")\n",
    "\n",
    "# further broadcasting\n",
    "def ufunc_reduce(ufct, *vectors):\n",
    "   vs = np.ix_(*vectors)\n",
    "   r = ufct.identity\n",
    "   for v in vs:\n",
    "       r = ufct(r,v)\n",
    "   return r\n",
    "print(f\"ufunc_reduce(np.add,a,b,c) = {ufunc_reduce(np.add,a,b,c)}\")"
   ]
  },
  {
   "cell_type": "markdown",
   "metadata": {},
   "source": [
    "## Linear Algebra\n",
    "Linear Algebra is the most fundemental think in the science and engineering\n",
    "I will show you some basic operations"
   ]
  },
  {
   "cell_type": "code",
   "execution_count": 53,
   "metadata": {
    "pycharm": {
     "is_executing": false,
     "name": "#%%\n"
    }
   },
   "outputs": [
    {
     "name": "stdout",
     "output_type": "stream",
     "text": [
      "a =\n",
      "[[0 1]\n",
      " [2 3]]\n",
      "a.T =\n",
      "[[0 2]\n",
      " [1 3]]\n",
      "None\n",
      "np.linalg.inv(a) =\n",
      "[[-1.5  0.5]\n",
      " [ 1.   0. ]]\n",
      "np.eye(2) =\n",
      "[[1. 0.]\n",
      " [0. 1.]]\n",
      "a@a(matrix product) =\n",
      "[[ 2  3]\n",
      " [ 6 11]]\n",
      "np.trace(a) =\n",
      "3\n",
      "np.linalg.solve(a, y)=\n",
      "[[-4.]\n",
      " [ 5.]]\n",
      "np.linalg.eig(a) =\n",
      "(array([-0.56155281,  3.56155281]), array([[-0.87192821, -0.27032301],\n",
      "       [ 0.48963374, -0.96276969]]))\n"
     ]
    }
   ],
   "source": [
    "n = 4\n",
    "a = np.arange(n).reshape(int(np.sqrt(n)),-1)\n",
    "print(f\"a =\\n{a}\")\n",
    "print(print(f\"a.T =\\n{a.T}\")) # also a.transpose() is suitable \n",
    "print(f\"np.linalg.inv(a) =\\n{np.linalg.inv(a)}\")\n",
    "print(f\"np.eye(2) =\\n{np.eye(2)}\")\n",
    "print(f\"a@a(matrix product) =\\n{a@a}\")\n",
    "print(f\"np.trace(a) =\\n{np.trace(a)}\")\n",
    "\n",
    "# linear equation solver\n",
    "y = np.array([[5.], [7.]])\n",
    "print(f\"np.linalg.solve(a, y)\"\n",
    "      f\"=\\n{np.linalg.solve(a, y)}\")\n",
    "print(f\"np.linalg.eig(a) =\\n{np.linalg.eig(a)}\")"
   ]
  },
  {
   "cell_type": "markdown",
   "metadata": {
    "pycharm": {
     "name": "#%% md\n"
    }
   },
   "source": [
    "# Lets' make some exciting examples\n",
    "actually they aren't only numpy examples"
   ]
  },
  {
   "cell_type": "code",
   "execution_count": 55,
   "metadata": {
    "pycharm": {
     "is_executing": false,
     "name": "#%%\n"
    }
   },
   "outputs": [
    {
     "data": {
      "image/png": "[encoded data removed]",
      "text/plain": [
       "<Figure size 432x288 with 1 Axes>"
      ]
     },
     "metadata": {
      "needs_background": "light"
     },
     "output_type": "display_data"
    },
    {
     "data": {
      "image/png": "[encoded data removed]",
      "text/plain": [
       "<Figure size 432x288 with 1 Axes>"
      ]
     },
     "metadata": {
      "needs_background": "light"
     },
     "output_type": "display_data"
    },
    {
     "data": {
      "image/png": "[encoded data removed]",
      "text/plain": [
       "<Figure size 432x288 with 1 Axes>"
      ]
     },
     "metadata": {
      "needs_background": "light"
     },
     "output_type": "display_data"
    }
   ],
   "source": [
    "# best document for numpy ever link: https://docs.scipy.org/doc/numpy/user/quickstart.html\n",
    "# mandelbrot, horay!\n",
    "import numpy as np\n",
    "import matplotlib.pyplot as plt\n",
    "def mandelbrot( h,w, maxit=20 ): # height and width\n",
    "    \"\"\"Returns an image of the Mandelbrot fractal of size (h,w).\"\"\"\n",
    "    y, x = np.ogrid[ -1.4:1.4:h*1j, -2:0.8:w*1j ]\n",
    "    c = x+y*1j\n",
    "    z = c\n",
    "    divtime = maxit + np.zeros(z.shape, dtype=int)\n",
    "\n",
    "    for i in range(maxit):\n",
    "        z = z**2 + c # z is complex. the main function \n",
    "        diverge = z*np.conj(z) > 2**2            # who is diverging\n",
    "        div_now = diverge & (divtime==maxit)  # who is diverging now\n",
    "        divtime[div_now] = i                  # note when\n",
    "        z[diverge] = 2                        # **avoid diverging too much\n",
    "\n",
    "    return divtime\n",
    "plt.imshow(mandelbrot(400,400))\n",
    "plt.show()\n",
    "\n",
    "# Histogram\n",
    "import numpy as np\n",
    "import matplotlib.pyplot as plt\n",
    "# Build a vector of 10000 normal deviates with variance 0.5^2 and mean 2\n",
    "mu, sigma = 2, 0.5  # mean and standard deviation\n",
    "v = np.random.normal(mu,sigma,10000)\n",
    "# Plot a normalized histogram with 50 bins\n",
    "plt.hist(v, bins=50, density=1)       # matplotlib version (plot)\n",
    "plt.show()\n",
    "\n",
    "# Compute the histogram with numpy and then plot it\n",
    "(n, bins) = np.histogram(v, bins=50, density=True)  # NumPy version (no plot)\n",
    "plt.plot(.5*(bins[1:]+bins[:-1]), n)\n",
    "plt.show()"
   ]
  }
 ],
 "metadata": {
  "kernelspec": {
   "display_name": "Python 3",
   "language": "python",
   "name": "python3"
  },
  "language_info": {
   "codemirror_mode": {
    "name": "ipython",
    "version": 3
   },
   "file_extension": ".py",
   "mimetype": "text/x-python",
   "name": "python",
   "nbconvert_exporter": "python",
   "pygments_lexer": "ipython3",
   "version": "3.7.4"
  },
  "pycharm": {
   "stem_cell": {
    "cell_type": "raw",
    "source": [],
    "metadata": {
     "collapsed": false
    }
   }
  }
 },
 "nbformat": 4,
 "nbformat_minor": 1
}