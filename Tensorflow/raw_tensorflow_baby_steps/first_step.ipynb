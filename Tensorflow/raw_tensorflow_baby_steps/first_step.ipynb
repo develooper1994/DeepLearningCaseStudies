{
 "cells": [
  {
   "cell_type": "markdown",
   "metadata": {
    "pycharm": {
     "name": "#%% md\n"
    }
   },
   "source": [
    "Tensorflooooooow yeeeaaa!\n",
    "tensorflow 1.x steps:\n",
    "    |-> build computational graph\n",
    "    |-> run a computational graph\n",
    "tensorflow 2.x steps:\n",
    "    |-> just run."
   ]
  },
  {
   "cell_type": "code",
   "execution_count": 51,
   "metadata": {
    "pycharm": {
     "is_executing": false,
     "name": "#%%\n"
    }
   },
   "outputs": [],
   "source": [
    "# tensorflow and numpy versions not properly compatible\n",
    "import tensorflow as tf # I am using right now 2.0.beta1\n",
    "import numpy as np # 1.17\n",
    "import matplotlib.pyplot as plt"
   ]
  },
  {
   "cell_type": "markdown",
   "metadata": {
    "pycharm": {
     "name": "#%% md\n"
    }
   },
   "source": [
    "\"hello world\" applicaiton"
   ]
  },
  {
   "cell_type": "code",
   "execution_count": 52,
   "metadata": {
    "pycharm": {
     "is_executing": false,
     "name": "#%%\n"
    }
   },
   "outputs": [
    {
     "name": "stdout",
     "output_type": "stream",
     "text": [
      "tf.Tensor(b'hello world', shape=(), dtype=string)\n",
      "tf.Tensor(b'hello world', shape=(), dtype=string)\n"
     ]
    }
   ],
   "source": [
    "hello_constant = tf.constant(\"hello world\")\n",
    "print(hello_constant)\n",
    "\n",
    "# TensorFlow 2\n",
    "hello = tf.constant(\"hello\")\n",
    "world = tf.constant(\" world\")\n",
    "print(hello + world)"
   ]
  },
  {
   "cell_type": "markdown",
   "metadata": {
    "pycharm": {
     "name": "#%% md\n"
    }
   },
   "source": [
    "# TensorFlow 1.X\n",
    "session = tf.Session()\n",
    "outputs = session.run(f(placeholder), feed_dict={placeholder: input})\n",
    "...\n",
    "session.close()\n",
    "# TensorFlow 2.0\n",
    "outputs = f(input)"
   ]
  },
  {
   "cell_type": "code",
   "execution_count": 53,
   "metadata": {
    "pycharm": {
     "is_executing": false,
     "name": "#%%\n"
    }
   },
   "outputs": [
    {
     "name": "stdout",
     "output_type": "stream",
     "text": [
      "tf.Tensor(5.0, shape=(), dtype=float32)\n"
     ]
    }
   ],
   "source": [
    "node1 = tf.constant(3.0, tf.float32)\n",
    "node2 = tf.constant(4.0, tf.float32)\n",
    "print(tf.sqrt(node1**2+node2**2)) # tf 2.x"
   ]
  },
  {
   "cell_type": "markdown",
   "metadata": {
    "pycharm": {
     "name": "#%% md\n"
    }
   },
   "source": [
    "# TensorFlow 1.X\n",
    "tfvar1 = tf.Variable([.5], tf.float32)\n",
    "# init = tf.global_variable_initializer()\n",
    "# sess = tf.Session()\n",
    "# sess.run(init)\n",
    "# print(sess.run(tfvar1))"
   ]
  },
  {
   "cell_type": "code",
   "execution_count": 54,
   "metadata": {
    "pycharm": {
     "is_executing": false,
     "name": "#%%\n"
    }
   },
   "outputs": [
    {
     "name": "stdout",
     "output_type": "stream",
     "text": [
      "<tf.Variable 'Variable:0' shape=(1,) dtype=float32, numpy=array([0.5], dtype=float32)>\n"
     ]
    }
   ],
   "source": [
    "# TensorFlow 2.X\n",
    "tfvar1 = tf.Variable([.5], tf.float32)\n",
    "print(tfvar1)"
   ]
  },
  {
   "cell_type": "markdown",
   "metadata": {
    "pycharm": {
     "name": "#%% md\n"
    }
   },
   "source": [
    "Oh right! Let's make a simple linear equation\n",
    "- W = weight\n",
    "-b = bias\n",
    "- x = slop(in tihs case)"
   ]
  },
  {
   "cell_type": "code",
   "execution_count": 55,
   "metadata": {
    "pycharm": {
     "is_executing": false,
     "name": "#%%\n"
    }
   },
   "outputs": [
    {
     "name": "stdout",
     "output_type": "stream",
     "text": [
      "tf.Tensor(\n",
      "[-5.9999996e-01 -2.9999995e-01  5.9604645e-08  3.0000007e-01\n",
      "  6.0000002e-01  9.0000010e-01  1.2000002e+00], shape=(7,), dtype=float32)\n"
     ]
    }
   ],
   "source": [
    "W = tf.Variable([.3], tf.float32)\n",
    "b = tf.Variable([-.9], tf.float32)\n",
    "x = list(range(1,8))\n",
    "\n",
    "linear_model = W*x + b\n",
    "print(linear_model) # TensorFlow 2.X eager execution"
   ]
  },
  {
   "cell_type": "markdown",
   "metadata": {
    "pycharm": {
     "name": "#%% md\n"
    }
   },
   "source": [
    "Tensorflow common mathematics operations"
   ]
  },
  {
   "cell_type": "code",
   "execution_count": 56,
   "metadata": {
    "pycharm": {
     "is_executing": false,
     "name": "#%%\n"
    }
   },
   "outputs": [
    {
     "name": "stdout",
     "output_type": "stream",
     "text": [
      "tf.Tensor(7, shape=(), dtype=int32)\n",
      "tf.Tensor(3, shape=(), dtype=int32)\n",
      "tf.Tensor(10, shape=(), dtype=int32)\n"
     ]
    }
   ],
   "source": [
    "print(tf.add(5, 2))\n",
    "print(tf.subtract(5, 2))\n",
    "print(tf.multiply(5, 2))"
   ]
  },
  {
   "cell_type": "markdown",
   "metadata": {},
   "source": [
    "Tensorflow common data types"
   ]
  },
  {
   "cell_type": "code",
   "execution_count": 57,
   "metadata": {
    "pycharm": {
     "is_executing": false,
     "name": "#%%\n"
    }
   },
   "outputs": [
    {
     "name": "stdout",
     "output_type": "stream",
     "text": [
      "Tensorflow\n",
      "Before type casting 2\n",
      " After type casting: <dtype: 'int8'>\n"
     ]
    }
   ],
   "source": [
    "print(f\"Tensorflow\\nBefore type casting {tf.constant(2)}\\n After type casting: {tf.cast(tf.constant(2), tf.int8).dtype}\")"
   ]
  },
  {
   "cell_type": "markdown",
   "metadata": {
    "pycharm": {
     "name": "#%% md\n"
    }
   },
   "source": [
    "# Activation(transformation) functions\n",
    "Activation(transformation) functions provides non-linearity to linear functions.\n",
    "- # Types of activation functions\n",
    "    1) Linear Identity <br>\n",
    "    2) Unit or Binary Step <br>\n",
    "    3) Sigmoid or Logistic ( *** ) <br>\n",
    "    4) Tanh ( * ) <br>\n",
    "    5) ReLU ( ** ) <br>\n",
    "    6) Softmax <br>"
   ]
  },
  {
   "cell_type": "markdown",
   "metadata": {
    "pycharm": {
     "name": "#%% md\n"
    }
   },
   "source": [
    "Some Activation function without tensorflow\n",
    "I've separated the charts to look cleaner"
   ]
  },
  {
   "cell_type": "code",
   "execution_count": 58,
   "metadata": {
    "pycharm": {
     "is_executing": false,
     "name": "#%%\n"
    },
    "scrolled": true
   },
   "outputs": [
    {
     "name": "stdout",
     "output_type": "stream",
     "text": [
      "linear: [-1.00000000e+00 -9.00000000e-01 -8.00000000e-01 -7.00000000e-01\n",
      " -6.00000000e-01 -5.00000000e-01 -4.00000000e-01 -3.00000000e-01\n",
      " -2.00000000e-01 -1.00000000e-01 -2.22044605e-16  1.00000000e-01\n",
      "  2.00000000e-01  3.00000000e-01  4.00000000e-01  5.00000000e-01\n",
      "  6.00000000e-01  7.00000000e-01  8.00000000e-01  9.00000000e-01]\n",
      "step: [0. 0. 0. 0. 0. 0. 0. 0. 0. 0. 0. 1. 1. 1. 1. 1. 1. 1. 1. 1.]\n",
      "sigmoid: [0.26894142 0.2890505  0.31002552 0.33181223 0.35434369 0.37754067\n",
      " 0.40131234 0.42555748 0.450166   0.47502081 0.5        0.52497919\n",
      " 0.549834   0.57444252 0.59868766 0.62245933 0.64565631 0.66818777\n",
      " 0.68997448 0.7109495 ]\n",
      "tanh: [-7.61594156e-01 -7.16297870e-01 -6.64036770e-01 -6.04367777e-01\n",
      " -5.37049567e-01 -4.62117157e-01 -3.79948962e-01 -2.91312612e-01\n",
      " -1.97375320e-01 -9.96679946e-02 -2.22044605e-16  9.96679946e-02\n",
      "  1.97375320e-01  2.91312612e-01  3.79948962e-01  4.62117157e-01\n",
      "  5.37049567e-01  6.04367777e-01  6.64036770e-01  7.16297870e-01]\n",
      "ReLU: [0.  0.  0.  0.  0.  0.  0.  0.  0.  0.  0.  0.1 0.2 0.3 0.4 0.5 0.6 0.7\n",
      " 0.8 0.9]\n",
      "softmax: [0.0164611  0.01819233 0.02010564 0.02222017 0.02455708 0.02713977\n",
      " 0.02999409 0.03314859 0.03663486 0.04048778 0.04474592 0.04945189\n",
      " 0.05465279 0.06040067 0.06675307 0.07377355 0.08153238 0.09010722\n",
      " 0.09958388 0.1100572 ]\n",
      "sum of softmax: 1.0\n"
     ]
    }
   ],
   "source": [
    "def linear_(a):\n",
    "    return a # identical\n",
    "def step_(a):\n",
    "    return np.heaviside(a, 0.5) # 0.5 * (np.sign(a) + 1)\n",
    "def sigmoid_(a):\n",
    "    beta = 1 # almost always one\n",
    "    return 1/(1+np.exp(beta*-a))\n",
    "def tanh_(a):\n",
    "    return np.tanh(a) # (np.exp(a) - np.exp(-a)) / (np.exp(a) + np.exp(-a))\n",
    "def ReLU_(a):\n",
    "    return np.maximum(0,a)\n",
    "def softmax_(a):\n",
    "    eq = np.exp(a) / np.sum(np.exp(a), axis = 0)\n",
    "    return  eq, np.sum(eq) # to show sum of output of equation\n",
    "\n",
    "a = np.arange(-1,1,0.1)\n",
    "lin = linear_(a)\n",
    "st = step_(a)\n",
    "sig = sigmoid_(a)\n",
    "ta = tanh_(a)\n",
    "re = ReLU_(a)\n",
    "so, sum_so = softmax_(a)\n",
    "print(f\"linear: {lin}\")\n",
    "print(f\"step: {st}\")\n",
    "print(f\"sigmoid: {sig}\")\n",
    "print(f\"tanh: {ta}\")\n",
    "print(f\"ReLU: {re}\")\n",
    "print(f\"softmax: {so}\\nsum of softmax: {sum_so}\")\n",
    "\n",
    "fig, (ax1, ax2) = plt.subplots(1, 2, sharey=True)\n",
    "fig.suptitle('All activation functions', fontsize=16)\n",
    "ax1.plot(a, lin)\n",
    "ax1.plot(a, st)\n",
    "ax1.plot(a, sig)\n",
    "ax1.set_xlabel(\"values\")\n",
    "ax1.set_ylabel(\"output\")\n",
    "ax1.legend([\"linear\",\"step\",\"sigmoid\"])\n",
    "\n",
    "ax2.plot(a, ta)\n",
    "ax2.plot(a, re)\n",
    "ax2.plot(a, so)\n",
    "ax2.set_xlabel(\"values\")\n",
    "ax2.set_ylabel(\"output\")\n",
    "ax2.legend([\"tanh\",\"ReLU\",\"softmax\"])\n",
    "\n",
    "plt.show()"
   ]
  },
  {
   "cell_type": "markdown",
   "metadata": {},
   "source": [
    "Tensorflow version of activation functions"
   ]
  },
  {
   "cell_type": "code",
   "execution_count": 59,
   "metadata": {
    "pycharm": {
     "is_executing": false
    }
   },
   "outputs": [
    {
     "name": "stdout",
     "output_type": "stream",
     "text": [
      "Sigmoid Activation: [0.11920291 0.26894143 0.5        0.7310586  0.880797  ]\n",
      "Tanh Activation: [-0.9640276 -0.7615942  0.         0.7615942  0.9640276]\n",
      "ReLU Activation: [0. 0. 0. 1. 2.]\n"
     ]
    }
   ],
   "source": [
    "a = tf.cast( np.arange(-2,3,1), tf.float32) # casting is important. Otherwise you will get \"Could not find valid device for node.\" error.\n",
    "sigmoid_act = tf.sigmoid(a)\n",
    "tanh_act = tf.tanh(a)\n",
    "relu_act = tf.nn.relu(a)\n",
    "print(f\"Sigmoid Activation: {sigmoid_act}\")\n",
    "print(f\"Tanh Activation: {tanh_act}\")\n",
    "print(f\"ReLU Activation: {relu_act}\")"
   ]
  },
  {
   "cell_type": "markdown",
   "metadata": {},
   "source": [
    "Tensorflow random tensor\n",
    "truncated_normal is now inside tf.random module"
   ]
  },
  {
   "cell_type": "code",
   "execution_count": 60,
   "metadata": {
    "pycharm": {
     "is_executing": false
    }
   },
   "outputs": [
    {
     "name": "stdout",
     "output_type": "stream",
     "text": [
      "tf.Tensor(\n",
      "[[ 0.22351152 -1.1017632   1.5917729 ]\n",
      " [-0.45153564 -0.359336   -0.47737077]], shape=(2, 3), dtype=float32)\n"
     ]
    }
   ],
   "source": [
    "a = tf.random.truncated_normal([2, 3]) # tf 2.x\n",
    "print(a)"
   ]
  },
  {
   "cell_type": "markdown",
   "metadata": {},
   "source": [
    "# Loss function\n",
    "Loss is the difference or derivative of actual and predicted values.\n",
    "In other words; it si measurement of measure of how far away we are from actual values.\n",
    "Loss can be call as cost.\n",
    "\n",
    "There is 2 types of data so that there is 2 types of loss function for continuous and discreate (or digital)\n",
    "- MSE or squared error: continuous data, regression\n",
    "- Cross entropy: discreate (or digital) data, classification"
   ]
  },
  {
   "cell_type": "code",
   "execution_count": 61,
   "metadata": {
    "pycharm": {
     "is_executing": false
    }
   },
   "outputs": [
    {
     "name": "stdout",
     "output_type": "stream",
     "text": [
      "loss for continuous data: 23.660001754760742\n"
     ]
    }
   ],
   "source": [
    "W = tf.Variable([.3], tf.float32)\n",
    "b = tf.Variable([-.3], tf.float32)\n",
    "x = list(range(1,5))\n",
    "y = list(range(0,-4,-1)) # predicted\n",
    "linear_model = W * x + b\n",
    "# Squared error = sum(actual - predicted)**2\n",
    "squared_delta = tf.math.square(linear_model - y)\n",
    "loss = tf.reduce_sum(squared_delta)\n",
    "print(f\"loss for continuous data: {loss}\")"
   ]
  },
  {
   "cell_type": "markdown",
   "metadata": {},
   "source": [
    "# Optimizations (core of learning)\n",
    "Optimization is the reduction of loss.\n",
    "During optimization every weights of neural netowrks updated by every iterations(epoch).\n",
    "Epoch is the how many iteration on dataset\n",
    "\n",
    "Most known optimization tecnique is the gradient descent(GD). There is several gradient descent versions but for now I am using standart stochastic GD\n",
    "\n",
    "old way(tf 1.x): </br>\n",
    "W = tf.Variable([.5], tf.float32) </br> \n",
    "b = tf.Variable([.1], tf.float32) </br>\n",
    "inputs = list(range(1,5)) </br> \n",
    "outputs = list(range(0,-4,-1)) # predicted </br>\n",
    "linear_model = W * x + b </br> \n",
    "squared_delta = tf.math.square(linear_model - y) </br>\n",
    "loss = tf.reduce_sum(squared_delta) </br>\n",
    "print(f\"loss for continuous data: {loss}\") </br>\n",
    "optimizer = tf.train.GradientDescentOptimizer(0.5) </br>\n",
    "print(optimizer) </br>"
   ]
  },
  {
   "cell_type": "code",
   "execution_count": 64,
   "metadata": {
    "pycharm": {
     "is_executing": false,
     "name": "#%%\n"
    }
   },
   "outputs": [
    {
     "name": "stdout",
     "output_type": "stream",
     "text": [
      "Epoch  0: W=5.00 b=0.00, loss=25.00000\n",
      "Epoch  1: W=4.00 b=0.04, loss=15.98981\n",
      "Epoch  2: W=3.20 b=0.06, loss=10.23060\n",
      "Epoch  3: W=2.56 b=0.07, loss=6.54811\n",
      "Epoch  4: W=2.05 b=0.08, loss=4.19265\n",
      "Epoch  5: W=1.64 b=0.08, loss=2.68548\n",
      "Epoch  6: W=1.31 b=0.08, loss=1.72074\n",
      "Epoch  7: W=1.05 b=0.07, loss=1.10300\n",
      "Epoch  8: W=0.84 b=0.07, loss=0.70729\n",
      "Epoch  9: W=0.67 b=0.06, loss=0.45372\n"
     ]
    },
    {
     "data": {
      "image/png": "[encoded data removed]",
      "text/plain": [
       "<Figure size 432x288 with 1 Axes>"
      ]
     },
     "metadata": {
      "needs_background": "light"
     },
     "output_type": "display_data"
    }
   ],
   "source": [
    "# thanks to: https://www.tensorflow.org/tutorials/eager/custom_training\n",
    "# values are completely random in my mind\n",
    "TRUE_W = 3.0\n",
    "TRUE_b = 2.0\n",
    "\n",
    "NUM_EXAMPLES = 1000\n",
    "inputs  = tf.random.normal(shape=[NUM_EXAMPLES])\n",
    "noise   = tf.random.normal(shape=[NUM_EXAMPLES])\n",
    "outputs = inputs * TRUE_W + TRUE_b + noise # predicted\n",
    "\n",
    "class Model(object):\n",
    "    def __init__(self):\n",
    "        self.W = tf.Variable([5.0], tf.float32)\n",
    "        self.b = tf.Variable([0.0], tf.float32)\n",
    "    def __call__(self, x):\n",
    "        return self.W + self.b * x\n",
    "\n",
    "# model = Model()\n",
    "# assert model(3.0).numpy() == 15.0 # for a test\n",
    "\n",
    "def loss(predicted_y, desired_y):\n",
    "    return tf.reduce_mean(tf.square(predicted_y, desired_y))\n",
    "\n",
    "def train(model, inputs, outputs, learning_rate):\n",
    "    with tf.GradientTape() as t:\n",
    "        current_loss = loss(model(inputs), outputs)\n",
    "    dW, db = t.gradient(current_loss, [model.W, model.b])\n",
    "    model.W.assign_sub(learning_rate * dW)\n",
    "    model.b.assign_sub(learning_rate * db)\n",
    "\n",
    "model = Model()\n",
    "# Collect the history of W-values and b-values to plot later\n",
    "Ws, bs = [], []\n",
    "epochs = range(10)\n",
    "for epoch in epochs:\n",
    "    Ws.append(model.W.numpy())\n",
    "    bs.append(model.b.numpy())\n",
    "    current_loss = loss(model(inputs), outputs)\n",
    "\n",
    "    train(model, inputs, outputs, learning_rate=0.1)\n",
    "    print('Epoch %2d: W=%1.2f b=%1.2f, loss=%2.5f' %\n",
    "        (epoch, Ws[-1], bs[-1], current_loss))\n",
    "\n",
    "# Let's plot it all\n",
    "plt.plot(epochs, Ws, 'r',\n",
    "         epochs, bs, 'b')\n",
    "plt.plot([TRUE_W] * len(epochs), 'r--',\n",
    "         [TRUE_b] * len(epochs), 'b--')\n",
    "plt.legend(['W', 'b', 'true W', 'true_b'])\n",
    "plt.show() # results may not as you excepted."
   ]
  }
 ],
 "metadata": {
  "kernelspec": {
   "display_name": "Python 3",
   "language": "python",
   "name": "python3"
  },
  "language_info": {
   "codemirror_mode": {
    "name": "ipython",
    "version": 3
   },
   "file_extension": ".py",
   "mimetype": "text/x-python",
   "name": "python",
   "nbconvert_exporter": "python",
   "pygments_lexer": "ipython3",
   "version": "3.7.3"
  },
  "pycharm": {
   "stem_cell": {
    "cell_type": "raw",
    "metadata": {
     "collapsed": false
    },
    "source": []
   }
  }
 },
 "nbformat": 4,
 "nbformat_minor": 1
}
