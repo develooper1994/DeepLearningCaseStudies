{
 "cells": [
  {
   "cell_type": "markdown",
   "metadata": {
    "collapsed": true,
    "pycharm": {
     "is_executing": false,
     "name": "#%% md\n"
    }
   },
   "source": [
    "* import necessary modules"
   ]
  },
  {
   "cell_type": "code",
   "execution_count": 1,
   "metadata": {
    "ExecuteTime": {
     "end_time": "2019-07-24T18:26:15.964463Z",
     "start_time": "2019-07-24T18:26:14.913447Z"
    },
    "code_folding": [
     0
    ],
    "pycharm": {
     "is_executing": false,
     "name": "#%%\n"
    }
   },
   "outputs": [],
   "source": [
    "# Python standard modules\n",
    "import os, sys\n",
    "import glob\n",
    "\n",
    "# scientific modules\n",
    "import numpy as np\n",
    "from scipy import stats\n",
    "import matplotlib.pyplot as plt\n",
    "import cv2 # opencv is little bit faster than pillow\n",
    "\n",
    "# utilities\n",
    "from tqdm import tqdm\n",
    "\n",
    "# my custom modules\n",
    "import download_extract as doex # it works don't care about ide.\n"
   ]
  },
  {
   "cell_type": "markdown",
   "metadata": {
    "pycharm": {
     "is_executing": false,
     "name": "#%% md\n"
    }
   },
   "source": [
    "First things first you should download the data from url: https://download.microsoft.com/download/3/E/1/3E1C3F21-ECDB-4869-8368-6DEBA77B919F/kagglecatsanddogs_3367a.zip\n",
    "You can download manually or use functions below.\n"
   ]
  },
  {
   "cell_type": "code",
   "execution_count": null,
   "metadata": {
    "ExecuteTime": {
     "end_time": "2019-07-14T22:55:27.757951Z",
     "start_time": "2019-07-14T22:51:18.051511Z"
    },
    "pycharm": {
     "is_executing": true,
     "name": "#%%\n"
    }
   },
   "outputs": [
    {
     "name": "stdout",
     "text": [
      "please don't interrupt",
      "\n",
      "file lenght is 805561.08203125kb",
      "\n"
     ],
     "output_type": "stream"
    },
    {
     "name": "stderr",
     "text": [
      "\r0it [00:00, ?it/s]",
      "\r191it [00:00, 1528.00it/s]",
      "\r572it [00:00, 1854.54it/s]",
      "\r891it [00:00, 2075.37it/s]",
      "\r1352it [00:00, 2477.30it/s]",
      "\r1619it [00:00, 1649.72it/s]",
      "\r2787it [00:00, 2220.96it/s]",
      "\r3567it [00:00, 2827.73it/s]",
      "\r4149it [00:01, 3303.57it/s]",
      "\r4720it [00:01, 3181.23it/s]",
      "\r5639it [00:01, 3947.30it/s]",
      "\r6251it [00:01, 4216.91it/s]",
      "\r6830it [00:01, 4412.68it/s]",
      "\r7384it [00:01, 4493.72it/s]",
      "\r7913it [00:01, 4161.95it/s]",
      "\r8390it [00:01, 4304.01it/s]",
      "\r8892it [00:02, 4484.35it/s]",
      "\r9373it [00:02, 4564.29it/s]",
      "\r9853it [00:02, 4476.99it/s]",
      "\r10319it [00:02, 4452.45it/s]",
      "\r10776it [00:02, 4333.89it/s]",
      "\r11298it [00:02, 4530.77it/s]",
      "\r11846it [00:02, 4766.64it/s]",
      "\r12383it [00:02, 4905.88it/s]",
      "\r12924it [00:02, 5018.87it/s]",
      "\r13473it [00:02, 5137.04it/s]",
      "\r14006it [00:03, 5193.44it/s]",
      "\r14543it [00:03, 5229.85it/s]",
      "\r15091it [00:03, 5302.47it/s]",
      "\r15624it [00:03, 5294.87it/s]",
      "\r16155it [00:03, 5160.35it/s]",
      "\r16673it [00:03, 4987.17it/s]",
      "\r17175it [00:03, 4824.10it/s]",
      "\r17661it [00:03, 4681.14it/s]",
      "\r18133it [00:03, 4441.05it/s]",
      "\r18582it [00:04, 4364.67it/s]",
      "\r19084it [00:04, 4542.57it/s]",
      "\r19569it [00:04, 4604.25it/s]",
      "\r20086it [00:04, 4760.53it/s]",
      "\r20566it [00:04, 4252.29it/s]",
      "\r21004it [00:04, 3338.36it/s]",
      "\r21378it [00:04, 2944.38it/s]",
      "\r21709it [00:05, 2722.21it/s]",
      "\r22214it [00:05, 3159.06it/s]",
      "\r22735it [00:05, 3574.72it/s]",
      "\r23228it [00:05, 3886.81it/s]",
      "\r23714it [00:05, 4124.70it/s]",
      "\r24222it [00:05, 4348.86it/s]",
      "\r24719it [00:05, 4481.60it/s]",
      "\r25204it [00:05, 4586.10it/s]",
      "\r25697it [00:05, 4657.57it/s]",
      "\r26206it [00:05, 4765.96it/s]",
      "\r26703it [00:06, 4797.45it/s]",
      "\r27196it [00:06, 4822.26it/s]",
      "\r27705it [00:06, 4885.47it/s]",
      "\r28207it [00:06, 4910.62it/s]",
      "\r28705it [00:06, 4916.62it/s]",
      "\r29213it [00:06, 4935.58it/s]",
      "\r29714it [00:06, 4957.67it/s]",
      "\r30255it [00:06, 5070.93it/s]",
      "\r30799it [00:06, 5161.55it/s]",
      "\r31335it [00:06, 5204.32it/s]",
      "\r31881it [00:07, 5263.21it/s]",
      "\r32430it [00:07, 5313.78it/s]",
      "\r32963it [00:07, 5302.76it/s]",
      "\r33507it [00:07, 5327.50it/s]",
      "\r34057it [00:07, 5362.37it/s]",
      "\r34594it [00:07, 5364.66it/s]",
      "\r35131it [00:07, 4856.66it/s]",
      "\r35683it [00:07, 4997.25it/s]",
      "\r36191it [00:07, 4992.18it/s]",
      "\r36701it [00:07, 5009.24it/s]",
      "\r37246it [00:08, 5119.33it/s]",
      "\r37794it [00:08, 5192.75it/s]",
      "\r38343it [00:08, 5263.31it/s]",
      "\r38900it [00:08, 5305.83it/s]",
      "\r39453it [00:08, 5355.55it/s]",
      "\r39990it [00:08, 5343.88it/s]",
      "\r40526it [00:08, 5285.41it/s]",
      "\r41056it [00:08, 5227.17it/s]",
      "\r41580it [00:08, 5108.62it/s]",
      "\r42092it [00:09, 5007.04it/s]",
      "\r42594it [00:09, 4879.42it/s]",
      "\r43084it [00:09, 4785.38it/s]",
      "\r43565it [00:09, 4613.46it/s]",
      "\r44042it [00:09, 4632.18it/s]",
      "\r44527it [00:09, 4681.85it/s]",
      "\r44997it [00:09, 4673.30it/s]",
      "\r45466it [00:09, 4664.33it/s]",
      "\r45963it [00:09, 4738.42it/s]",
      "\r46438it [00:09, 4741.89it/s]",
      "\r46933it [00:10, 4788.53it/s]",
      "\r47438it [00:10, 4850.06it/s]",
      "\r47995it [00:10, 5004.91it/s]",
      "\r48498it [00:10, 4982.62it/s]",
      "\r49029it [00:10, 5033.21it/s]",
      "\r49534it [00:10, 5023.20it/s]",
      "\r50059it [00:10, 5059.73it/s]",
      "\r50566it [00:10, 4915.55it/s]",
      "\r51059it [00:10, 4919.87it/s]",
      "\r51582it [00:10, 4966.18it/s]",
      "\r52107it [00:11, 5033.52it/s]",
      "\r52632it [00:11, 5081.77it/s]",
      "\r53148it [00:11, 5059.93it/s]",
      "\r53662it [00:11, 5053.70it/s]",
      "\r54194it [00:11, 5115.95it/s]",
      "\r54711it [00:11, 5086.60it/s]",
      "\r55220it [00:11, 5057.29it/s]",
      "\r55726it [00:11, 4954.11it/s]",
      "\r56223it [00:11, 4944.06it/s]",
      "\r56718it [00:11, 4916.37it/s]",
      "\r57210it [00:12, 4788.24it/s]",
      "\r57690it [00:12, 4433.28it/s]",
      "\r58140it [00:12, 4337.21it/s]",
      "\r58579it [00:12, 4096.98it/s]",
      "\r58995it [00:12, 3789.51it/s]",
      "\r59393it [00:12, 3811.58it/s]",
      "\r59781it [00:12, 3775.91it/s]",
      "\r60163it [00:12, 3668.94it/s]",
      "\r60569it [00:13, 3746.73it/s]",
      "\r60947it [00:13, 3606.13it/s]",
      "\r61311it [00:13, 3432.10it/s]",
      "\r61758it [00:13, 3679.96it/s]",
      "\r62172it [00:13, 3806.87it/s]",
      "\r62585it [00:13, 3887.36it/s]",
      "\r63023it [00:13, 4023.11it/s]",
      "\r63431it [00:13, 3946.23it/s]",
      "\r63886it [00:13, 4098.73it/s]",
      "\r64300it [00:13, 3969.14it/s]",
      "\r64701it [00:14, 3429.68it/s]",
      "\r65060it [00:14, 3074.36it/s]",
      "\r65386it [00:14, 2848.98it/s]",
      "\r65687it [00:14, 2016.67it/s]",
      "\r66252it [00:14, 2462.78it/s]",
      "\r66578it [00:14, 2388.99it/s]",
      "\r67055it [00:14, 2804.79it/s]",
      "\r67572it [00:15, 3250.97it/s]",
      "\r68093it [00:15, 3648.92it/s]",
      "\r68602it [00:15, 3968.96it/s]",
      "\r69103it [00:15, 4222.12it/s]",
      "\r69573it [00:15, 4342.89it/s]",
      "\r70069it [00:15, 4499.00it/s]",
      "\r70562it [00:15, 4594.34it/s]",
      "\r71039it [00:15, 4526.63it/s]",
      "\r71504it [00:15, 4470.82it/s]",
      "\r71960it [00:16, 4418.76it/s]",
      "\r72408it [00:16, 4321.40it/s]",
      "\r72845it [00:16, 4259.79it/s]",
      "\r73310it [00:16, 4333.15it/s]",
      "\r73831it [00:16, 4551.60it/s]",
      "\r74293it [00:16, 4558.38it/s]",
      "\r74786it [00:16, 4637.52it/s]",
      "\r75318it [00:16, 4823.14it/s]",
      "\r75841it [00:16, 4924.45it/s]",
      "\r76380it [00:16, 5027.15it/s]",
      "\r76921it [00:17, 5107.10it/s]",
      "\r77434it [00:17, 5068.48it/s]",
      "\r77943it [00:17, 4857.00it/s]",
      "\r78432it [00:17, 4516.25it/s]",
      "\r78891it [00:17, 4344.82it/s]",
      "\r79332it [00:17, 4131.14it/s]",
      "\r79752it [00:17, 4032.00it/s]",
      "\r80190it [00:17, 4130.45it/s]",
      "\r80619it [00:17, 4140.77it/s]",
      "\r81097it [00:18, 4313.83it/s]",
      "\r81558it [00:18, 4373.58it/s]",
      "\r81999it [00:18, 4208.69it/s]",
      "\r82424it [00:18, 4208.46it/s]",
      "\r82954it [00:18, 4462.94it/s]",
      "\r83463it [00:18, 4596.55it/s]",
      "\r83956it [00:18, 4625.72it/s]",
      "\r84477it [00:18, 4747.51it/s]",
      "\r85002it [00:18, 4874.24it/s]",
      "\r85535it [00:18, 4960.67it/s]",
      "\r86034it [00:19, 4969.43it/s]",
      "\r86541it [00:19, 4940.72it/s]",
      "\r87050it [00:19, 4969.97it/s]",
      "\r87575it [00:19, 5036.26it/s]",
      "\r88081it [00:19, 5028.32it/s]",
      "\r88589it [00:19, 5028.74it/s]",
      "\r89093it [00:19, 5032.11it/s]",
      "\r89597it [00:19, 5019.43it/s]",
      "\r90100it [00:19, 4977.86it/s]",
      "\r90613it [00:19, 5007.84it/s]",
      "\r91114it [00:20, 4949.11it/s]",
      "\r91639it [00:20, 4992.60it/s]",
      "\r92139it [00:20, 4979.89it/s]",
      "\r92638it [00:20, 4894.94it/s]",
      "\r93128it [00:20, 4659.02it/s]",
      "\r93597it [00:20, 4380.50it/s]",
      "\r94069it [00:20, 4451.77it/s]",
      "\r94519it [00:20, 4439.69it/s]",
      "\r94971it [00:20, 4437.19it/s]",
      "\r95433it [00:21, 4477.44it/s]",
      "\r95883it [00:21, 4431.20it/s]",
      "\r96359it [00:21, 4473.93it/s]",
      "\r96808it [00:21, 4399.75it/s]",
      "\r97290it [00:21, 4505.25it/s]",
      "\r97775it [00:21, 4577.35it/s]",
      "\r98264it [00:21, 4666.86it/s]",
      "\r98765it [00:21, 4737.73it/s]",
      "\r99298it [00:21, 4887.63it/s]",
      "\r99847it [00:21, 5012.46it/s]",
      "\r100377it [00:22, 5080.74it/s]",
      "\r100901it [00:22, 5082.73it/s]",
      "\r101433it [00:22, 5121.90it/s]",
      "\r101958it [00:22, 5129.42it/s]",
      "\r102472it [00:22, 4926.00it/s]",
      "\r103036it [00:22, 5106.56it/s]",
      "\r103550it [00:22, 4734.78it/s]",
      "\r104032it [00:22, 4623.06it/s]",
      "\r104543it [00:22, 4759.11it/s]",
      "\r105025it [00:23, 4639.27it/s]",
      "\r105522it [00:23, 4720.29it/s]",
      "\r105998it [00:23, 4440.76it/s]",
      "\r106513it [00:23, 4619.67it/s]",
      "\r106981it [00:23, 4596.61it/s]",
      "\r107466it [00:23, 4656.35it/s]",
      "\r107935it [00:23, 4597.78it/s]",
      "\r108398it [00:23, 4435.27it/s]",
      "\r108845it [00:23, 4304.36it/s]",
      "\r109279it [00:24, 4264.11it/s]",
      "\r109708it [00:24, 4208.98it/s]",
      "\r110131it [00:24, 4081.06it/s]",
      "\r110548it [00:24, 4083.21it/s]",
      "\r110958it [00:24, 4051.87it/s]",
      "\r111365it [00:24, 3997.52it/s]",
      "\r111766it [00:24, 3989.31it/s]",
      "\r112182it [00:24, 4004.04it/s]",
      "\r112604it [00:24, 4054.75it/s]",
      "\r113022it [00:24, 3875.31it/s]",
      "\r113531it [00:25, 4163.91it/s]",
      "\r113955it [00:25, 4101.41it/s]",
      "\r114371it [00:25, 4058.53it/s]",
      "\r114781it [00:25, 3788.75it/s]",
      "\r115324it [00:25, 4147.46it/s]",
      "\r115754it [00:25, 4096.23it/s]",
      "\r116175it [00:25, 3955.13it/s]",
      "\r116676it [00:25, 4200.56it/s]",
      "\r117118it [00:25, 4155.82it/s]",
      "\r117541it [00:26, 3944.08it/s]",
      "\r117945it [00:26, 3949.07it/s]",
      "\r118390it [00:26, 4053.59it/s]",
      "\r118800it [00:26, 3972.81it/s]",
      "\r119201it [00:26, 3717.95it/s]",
      "\r119651it [00:26, 3871.83it/s]",
      "\r120044it [00:26, 3733.91it/s]",
      "\r120430it [00:26, 3738.00it/s]",
      "\r120872it [00:26, 3888.39it/s]",
      "\r121317it [00:27, 4019.50it/s]",
      "\r121723it [00:27, 3949.21it/s]",
      "\r122121it [00:27, 3663.28it/s]",
      "\r122741it [00:27, 4150.68it/s]",
      "\r123238it [00:27, 4355.16it/s]",
      "\r123747it [00:27, 4353.74it/s]",
      "\r124296it [00:27, 4572.37it/s]",
      "\r124767it [00:27, 4559.23it/s]",
      "\r125262it [00:27, 4643.54it/s]",
      "\r125734it [00:28, 4149.35it/s]",
      "\r126164it [00:28, 2350.48it/s]",
      "\r126837it [00:28, 2916.86it/s]",
      "\r127334it [00:28, 3309.54it/s]",
      "\r127843it [00:28, 3269.98it/s]",
      "\r128670it [00:28, 3994.50it/s]",
      "\r129206it [00:28, 4304.21it/s]",
      "\r129739it [00:29, 4475.89it/s]",
      "\r130260it [00:29, 4378.85it/s]",
      "\r130805it [00:29, 4617.73it/s]",
      "\r131307it [00:29, 4626.81it/s]",
      "\r131798it [00:29, 4602.36it/s]",
      "\r132297it [00:29, 4698.87it/s]",
      "\r132781it [00:29, 4698.91it/s]",
      "\r133287it [00:29, 4734.32it/s]",
      "\r133793it [00:29, 4813.76it/s]",
      "\r134280it [00:30, 4446.76it/s]",
      "\r134734it [00:30, 4143.56it/s]",
      "\r135159it [00:30, 4162.66it/s]",
      "\r135629it [00:30, 4310.50it/s]",
      "\r136098it [00:30, 4392.92it/s]",
      "\r136543it [00:30, 4345.29it/s]",
      "\r136982it [00:30, 4320.01it/s]",
      "\r137486it [00:30, 4477.35it/s]",
      "\r137979it [00:30, 4182.33it/s]",
      "\r138655it [00:31, 4712.69it/s]",
      "\r139164it [00:31, 4792.64it/s]",
      "\r139663it [00:31, 4699.45it/s]",
      "\r140147it [00:31, 4685.68it/s]",
      "\r140626it [00:31, 4568.06it/s]",
      "\r141091it [00:31, 3677.18it/s]",
      "\r141492it [00:31, 2871.76it/s]",
      "\r141940it [00:31, 3211.44it/s]",
      "\r142457it [00:32, 3615.61it/s]",
      "\r142942it [00:32, 3914.50it/s]",
      "\r143463it [00:32, 4209.54it/s]",
      "\r143964it [00:32, 4421.47it/s]",
      "\r144473it [00:32, 4590.38it/s]",
      "\r144954it [00:32, 4600.71it/s]",
      "\r145471it [00:32, 4731.76it/s]",
      "\r145996it [00:32, 4876.16it/s]",
      "\r146521it [00:32, 4898.91it/s]",
      "\r147078it [00:32, 5082.62it/s]",
      "\r147593it [00:33, 5087.53it/s]",
      "\r148107it [00:33, 4927.05it/s]",
      "\r148617it [00:33, 4963.16it/s]",
      "\r149142it [00:33, 5031.36it/s]",
      "\r149648it [00:33, 4893.69it/s]",
      "\r150140it [00:33, 4801.11it/s]",
      "\r150623it [00:33, 4603.45it/s]",
      "\r151110it [00:33, 4653.47it/s]",
      "\r151578it [00:33, 4539.32it/s]",
      "\r152037it [00:34, 4554.41it/s]",
      "\r152495it [00:34, 4494.90it/s]",
      "\r152946it [00:34, 4368.66it/s]",
      "\r153385it [00:34, 4297.94it/s]",
      "\r153817it [00:34, 4291.70it/s]",
      "\r154300it [00:34, 4427.95it/s]",
      "\r154809it [00:34, 4595.27it/s]",
      "\r155334it [00:34, 4722.35it/s]",
      "\r155855it [00:34, 4845.22it/s]",
      "\r156343it [00:35, 4280.61it/s]",
      "\r156960it [00:35, 4702.86it/s]",
      "\r157453it [00:35, 4398.61it/s]",
      "\r157913it [00:35, 3776.53it/s]",
      "\r158332it [00:35, 3848.84it/s]",
      "\r158738it [00:35, 3666.23it/s]",
      "\r159122it [00:35, 3428.03it/s]",
      "\r159621it [00:35, 3749.19it/s]",
      "\r160016it [00:35, 3774.52it/s]",
      "\r160407it [00:36, 3623.30it/s]",
      "\r160781it [00:36, 3573.66it/s]",
      "\r161147it [00:36, 3546.82it/s]",
      "\r161508it [00:36, 3513.48it/s]",
      "\r161887it [00:36, 3581.92it/s]",
      "\r162269it [00:36, 3629.36it/s]",
      "\r162683it [00:36, 3758.56it/s]",
      "\r163062it [00:36, 3712.57it/s]",
      "\r163573it [00:36, 4025.26it/s]",
      "\r164047it [00:37, 4182.49it/s]",
      "\r164508it [00:37, 4278.23it/s]",
      "\r164942it [00:37, 4209.07it/s]",
      "\r165383it [00:37, 4230.55it/s]",
      "\r165810it [00:37, 4060.76it/s]",
      "\r166220it [00:37, 3490.06it/s]",
      "\r166586it [00:37, 3138.71it/s]",
      "\r166919it [00:38, 1628.63it/s]",
      "\r167391it [00:38, 2006.21it/s]",
      "\r167702it [00:38, 2170.07it/s]",
      "\r168000it [00:38, 2245.23it/s]",
      "\r168357it [00:38, 2515.81it/s]",
      "\r168715it [00:38, 2755.75it/s]",
      "\r169113it [00:38, 3022.07it/s]",
      "\r169453it [00:38, 3067.10it/s]",
      "\r169861it [00:39, 3305.86it/s]",
      "\r170334it [00:39, 3625.76it/s]",
      "\r170811it [00:39, 3305.82it/s]",
      "\r171551it [00:39, 3944.70it/s]",
      "\r172015it [00:39, 4043.98it/s]",
      "\r172517it [00:39, 4261.66it/s]",
      "\r172981it [00:39, 4236.88it/s]",
      "\r173431it [00:39, 3624.73it/s]",
      "\r173828it [00:40, 3459.16it/s]",
      "\r174223it [00:40, 3525.76it/s]",
      "\r174652it [00:40, 3705.52it/s]",
      "\r175038it [00:40, 3412.36it/s]",
      "\r175448it [00:40, 3574.36it/s]",
      "\r175819it [00:40, 3551.72it/s]",
      "\r176184it [00:40, 3528.72it/s]",
      "\r176549it [00:40, 3522.97it/s]",
      "\r176931it [00:40, 3607.11it/s]",
      "\r177392it [00:40, 3849.30it/s]",
      "\r177846it [00:41, 4033.38it/s]",
      "\r178303it [00:41, 4169.21it/s]",
      "\r178828it [00:41, 4421.19it/s]",
      "\r179361it [00:41, 4647.35it/s]",
      "\r179870it [00:41, 4758.46it/s]",
      "\r180353it [00:41, 4602.09it/s]",
      "\r180820it [00:41, 3682.01it/s]",
      "\r181282it [00:41, 3900.96it/s]",
      "\r181727it [00:41, 4050.90it/s]",
      "\r182153it [00:42, 4041.24it/s]",
      "\r182572it [00:42, 4084.74it/s]",
      "\r182991it [00:42, 4044.25it/s]",
      "\r183403it [00:42, 4007.35it/s]",
      "\r183809it [00:42, 3693.61it/s]",
      "\r184399it [00:42, 4134.12it/s]",
      "\r184836it [00:42, 4166.11it/s]",
      "\r185274it [00:42, 4203.70it/s]",
      "\r185706it [00:42, 4213.13it/s]",
      "\r186197it [00:43, 4388.70it/s]",
      "\r186644it [00:43, 4285.85it/s]",
      "\r187131it [00:43, 4397.65it/s]",
      "\r187640it [00:43, 4584.74it/s]",
      "\r188149it [00:43, 4686.31it/s]",
      "\r188622it [00:43, 4630.32it/s]",
      "\r189089it [00:43, 4332.10it/s]",
      "\r189601it [00:43, 4517.74it/s]",
      "\r190126it [00:43, 4715.03it/s]",
      "\r190655it [00:43, 4847.16it/s]",
      "\r191196it [00:44, 4989.47it/s]",
      "\r191705it [00:44, 5004.41it/s]",
      "\r192209it [00:44, 4827.68it/s]",
      "\r192696it [00:44, 4633.09it/s]",
      "\r193164it [00:44, 4185.71it/s]",
      "\r193594it [00:44, 3995.87it/s]",
      "\r194039it [00:44, 4076.75it/s]",
      "\r194454it [00:44, 3924.06it/s]",
      "\r194853it [00:45, 3661.35it/s]",
      "\r195228it [00:45, 3434.23it/s]",
      "\r195618it [00:45, 3552.11it/s]",
      "\r195981it [00:45, 3564.59it/s]",
      "\r196343it [00:45, 3218.12it/s]",
      "\r196727it [00:45, 3321.02it/s]"
     ],
     "output_type": "stream"
    }
   ],
   "source": [
    "challenge_file = 'https://download.microsoft.com/download/3/E/1/3E1C3F21-ECDB-4869-8368-6DEBA77B919F/kagglecatsanddogs_3367a.zip'            \n",
    "chunk=1024\n",
    "\n",
    "doex.download_extract(challenge_file, chunk)\n"
   ]
  },
  {
   "cell_type": "markdown",
   "metadata": {
    "pycharm": {
     "name": "#%% md\n"
    }
   },
   "source": [
    "Load the files into the Python \n"
   ]
  },
  {
   "cell_type": "code",
   "execution_count": null,
   "metadata": {
    "ExecuteTime": {
     "end_time": "2019-07-24T18:26:19.004446Z",
     "start_time": "2019-07-24T18:26:18.884449Z"
    },
    "pycharm": {
     "is_executing": true,
     "name": "#%%\n"
    }
   },
   "outputs": [],
   "source": [
    "DATADIR = os.getcwd()\n",
    "CATEGORIES = [\"Dog\", \"Cat\"]\n",
    "\n",
    "paths = [[],[]] # get all the paths\n",
    "for i,categories in enumerate(CATEGORIES): # for all categories\n",
    "    path = os.path.join(DATADIR+\"\\\\PetImages\", categories) # create path\n",
    "    for img_path in os.scandir(path):\n",
    "        paths[i].append(os.path.join(path,img_path))\n"
   ]
  },
  {
   "cell_type": "code",
   "execution_count": null,
   "metadata": {
    "ExecuteTime": {
     "end_time": "2019-07-24T18:26:20.570461Z",
     "start_time": "2019-07-24T18:26:20.113462Z"
    },
    "pycharm": {
     "is_executing": true,
     "name": "#%%\n"
    }
   },
   "outputs": [],
   "source": [
    "# inspect and adjust some configurations for sample image\n",
    "# select a random sample\n",
    "import secrets\n",
    "secure_random = secrets.SystemRandom()\n",
    "sample_img_path = secure_random.choice(secure_random.choice(paths)) # 2d list\n",
    "img_array = cv2.imread(sample_img_path, cv2.IMREAD_GRAYSCALE) #single channel image\n",
    "print(f\"shape: {img_array.shape}\")\n",
    "print(f\"array: {img_array}\")\n",
    "\n",
    "plt.figure()\n",
    "plt.imshow(img_array, cmap='gray')\n",
    "plt.title(\"original\")\n",
    "plt.show()\n",
    "\n",
    "# image is too big for networks.\n",
    "# need to resize\n",
    "IMG_SIZE=50 # blurry image :(\n",
    "new_array = cv2.resize(img_array, (IMG_SIZE, IMG_SIZE))\n",
    "plt.figure()\n",
    "plt.imshow(new_array, cmap=\"gray\")\n",
    "plt.title(f\"resized to {IMG_SIZE}\")\n",
    "plt.show()\n",
    "\n",
    "# little bit higher image size\n",
    "IMG_SIZE=100\n",
    "new_array = cv2.resize(img_array, (IMG_SIZE, IMG_SIZE))\n",
    "plt.figure()\n",
    "plt.imshow(new_array, cmap=\"gray\")\n",
    "plt.title(f\"resized to {IMG_SIZE}\")\n",
    "plt.show()\n"
   ]
  },
  {
   "cell_type": "markdown",
   "metadata": {
    "pycharm": {
     "name": "#%% md\n"
    }
   },
   "source": [
    "prepare data for training\n",
    "* gray images = (N, IMG_SIZE, IMG_SIZE)\n",
    "* colored images = (N, IMG_SIZE, IMG_SIZE)"
   ]
  },
  {
   "cell_type": "code",
   "execution_count": null,
   "metadata": {
    "ExecuteTime": {
     "end_time": "2019-07-24T18:26:58.106996Z",
     "start_time": "2019-07-24T18:26:23.958448Z"
    },
    "code_folding": [
     8
    ],
    "pycharm": {
     "is_executing": true,
     "name": "#%%\n"
    }
   },
   "outputs": [],
   "source": [
    "# select them equal number of all categories\n",
    "from functools import reduce # Python3\n",
    "from operator import add\n",
    "secure_random.shuffle(paths[0])\n",
    "secure_random.shuffle(paths[1])\n",
    "#def flatten(input): # 2d array flatten\n",
    "#    return [j for sub in input for j in sub]\n",
    "\n",
    "# TODO!: Fix it to experiment with faster method.\n",
    "#paths_all = flatten(paths) # now it is 1d list\n",
    "# experimental method. TODO! i==187 error. image is shape under IMG_SIZE \n",
    "#N = len(CATEGORIES) * len(paths[0]) # paths[0] == paths[1]\n",
    "#traing_data = np.empty((N, IMG_SIZE, IMG_SIZE), dtype=np.uint8) # preallocation makes more faster\n",
    "#for i, fpath in enumerate(paths_all):\n",
    "#    img = cv2.imread(fpath, cv2.IMREAD_GRAYSCALE)\n",
    "#    traing_data[i, ...] = cv2.resize(img, (IMG_SIZE,IMG_SIZE))\n",
    "#    break\n",
    "#print(traing_data)\n",
    "\n",
    "training_data = []\n",
    "def create_training_data():\n",
    "    for class_num, paths_category in enumerate(paths):  # do dogs and cats\n",
    "\n",
    "        #path = os.path.join(DATADIR+\"\\\\PetImages\",category)  # create path to dogs and cats\n",
    "        #class_num = CATEGORIES.index(category)  # get the classification  (0 or a 1). 0=dog 1=cat\n",
    "        \n",
    "        #print(f\"{paths_category}:\")\n",
    "        for img in tqdm(paths_category):  # iterate over each image per dogs and cats\n",
    "            try:\n",
    "                img_array = cv2.imread(img ,cv2.IMREAD_GRAYSCALE)  # convert to array\n",
    "                new_array = cv2.resize(img_array, (IMG_SIZE, IMG_SIZE))  # resize to normalize data size\n",
    "                training_data.append([new_array, class_num])  # add this to our training_data\n",
    "            except Exception as e:  # in the interest in keeping the output clean...\n",
    "                pass\n",
    "            #except OSError as e:\n",
    "            #    print(\"OSErrroBad img most likely\", e, os.path.join(path,img))\n",
    "            #except Exception as e:\n",
    "            #    print(\"general exception\", e, os.path.join(path,img))\n",
    "\n",
    "create_training_data()\n",
    "print(f\"len(training_data): {len(training_data)}\")\n",
    "secure_random.shuffle(training_data)\n",
    "\n",
    "# get samples\n",
    "for i,sample in enumerate(training_data[:10]):\n",
    "    print(f\"{i} -> {sample[1]}\")\n"
   ]
  },
  {
   "cell_type": "code",
   "execution_count": null,
   "metadata": {
    "ExecuteTime": {
     "end_time": "2019-07-24T18:27:01.375996Z",
     "start_time": "2019-07-24T18:27:01.046994Z"
    },
    "pycharm": {
     "is_executing": true,
     "name": "#%% append all input and output of them together\n"
    }
   },
   "outputs": [],
   "source": [
    "X = []\n",
    "y = []\n",
    "\n",
    "for features,label in training_data:\n",
    "    X.append(features)\n",
    "    y.append(label)\n",
    "\n",
    "print(X[0].reshape(-1, IMG_SIZE, IMG_SIZE, 1))\n",
    "\n",
    "X = np.array(X).reshape(-1, IMG_SIZE, IMG_SIZE, 1)\n"
   ]
  },
  {
   "cell_type": "code",
   "execution_count": null,
   "metadata": {
    "ExecuteTime": {
     "end_time": "2019-07-24T18:27:02.780538Z",
     "start_time": "2019-07-24T18:27:02.088995Z"
    },
    "pycharm": {
     "is_executing": true,
     "name": "#%% save the input and output data\n"
    }
   },
   "outputs": [],
   "source": [
    "import pickle\n",
    "\n",
    "pickle_out = open(\"X.pickle\",\"wb\")\n",
    "pickle.dump(X, pickle_out)\n",
    "pickle_out.close()\n",
    "\n",
    "pickle_out = open(\"y.pickle\",\"wb\")\n",
    "pickle.dump(y, pickle_out)\n",
    "pickle_out.close()\n",
    "print('Saving is done')\n"
   ]
  },
  {
   "cell_type": "code",
   "execution_count": null,
   "metadata": {
    "ExecuteTime": {
     "end_time": "2019-07-24T18:27:07.518257Z",
     "start_time": "2019-07-24T18:27:07.036241Z"
    },
    "pycharm": {
     "is_executing": true,
     "name": "#%% load the input and output data\n"
    }
   },
   "outputs": [],
   "source": [
    "pickle_in = open(\"X.pickle\",\"rb\")\n",
    "X = pickle.load(pickle_in)\n",
    "\n",
    "pickle_in = open(\"y.pickle\",\"rb\")\n",
    "y = pickle.load(pickle_in)\n",
    "print('Loading is done')\n"
   ]
  },
  {
   "cell_type": "markdown",
   "metadata": {},
   "source": [
    "it is time to design a neural network\n",
    "import tensorflow and keras"
   ]
  },
  {
   "cell_type": "code",
   "execution_count": null,
   "metadata": {
    "ExecuteTime": {
     "end_time": "2019-07-24T18:27:21.897255Z",
     "start_time": "2019-07-24T18:27:10.282099Z"
    },
    "pycharm": {
     "is_executing": true,
     "name": "#%% \n"
    }
   },
   "outputs": [],
   "source": [
    "import tensorflow as tf\n",
    "from tensorflow.keras.datasets import cifar10\n",
    "from tensorflow.keras.preprocessing.image import ImageDataGenerator\n",
    "from tensorflow.keras.models import Sequential\n",
    "from tensorflow.keras.layers import Dense, Dropout, Activation, Flatten\n",
    "from tensorflow.keras.layers import Conv2D, MaxPooling2D\n",
    "\n",
    "# load the labeled data\n",
    "pickle_in = open('X.pickle','rb')\n",
    "X = pickle.load(pickle_in)\n",
    "pickle_in = open('y.pickle','rb')\n",
    "y = pickle.load(pickle_in)\n",
    "print('Loading is done')\n",
    "\n",
    "# Normalize the input\n",
    "X = X/255.0\n",
    "\n",
    "model = Sequential()\n",
    "model.add(Conv2D(256, (3, 3), input_shape=X.shape[1:]))\n",
    "model.add(Activation('relu'))\n",
    "model.add(MaxPooling2D(pool_size=(2, 2)))\n",
    "\n",
    "model.add(Conv2D(256, (3, 3)))\n",
    "model.add(Activation('relu'))\n",
    "model.add(MaxPooling2D(pool_size=(2, 2)))\n",
    "\n",
    "model.add(Flatten())  # this converts our 3D feature maps to 1D feature vectors\n",
    "\n",
    "model.add(Dense(64))\n",
    "\n",
    "model.add(Dense(1))\n",
    "model.add(Activation('sigmoid'))\n"
   ]
  },
  {
   "cell_type": "code",
   "execution_count": null,
   "metadata": {
    "ExecuteTime": {
     "end_time": "2019-07-24T18:27:51.434860Z",
     "start_time": "2019-07-24T18:27:50.625858Z"
    },
    "pycharm": {
     "is_executing": true
    }
   },
   "outputs": [],
   "source": [
    "# compile and train the model\n",
    "model.compile(loss='binary_crossentropy',\n",
    "              optimizer='adam',\n",
    "              metrics=['accuracy'])\n",
    "\n",
    "model.fit(X, y, batch_size=32, epochs=3, validation_split=0.3)"
   ]
  },
  {
   "cell_type": "markdown",
   "source": [
    "Observe and tune model with tensorboard"
   ],
   "metadata": {
    "collapsed": false,
    "pycharm": {
     "name": "#%% md\n"
    }
   }
  },
  {
   "cell_type": "code",
   "execution_count": null,
   "outputs": [],
   "source": [
    "import time\n",
    "#from tensorflow.keras.callbacks import TensorBoard   #tensorflow2.0.0 evolving rapidly\n",
    "\n",
    "gpu_options = tf.compat.v1.GPUOptions(per_process_gpu_memory_fraction=0.333)\n",
    "# if you want to see training process, train model again.\n",
    "# but no need to construct again\n",
    "\n",
    "NAME = f\"Cats-vs-dogs-CNN-{int(time.time())}\"\n",
    "# callback function\n",
    "tensorboard = tf.keras.callbacks.TensorBoard(log_dir=f\"logs\\{NAME}\")\n",
    "\n",
    "model.compile(loss='binary_crossentropy',\n",
    "              optimizer='adam',\n",
    "              metrics=['accuracy'])\n",
    "\n",
    "# just add callback function\n",
    "# to see how our model is evolving while epochs increase\n",
    "model.fit(X, y,\n",
    "          batch_size=32,\n",
    "          epochs=10,\n",
    "          validation_split=0.3,\n",
    "          callbacks=[tensorboard])"
   ],
   "metadata": {
    "collapsed": false,
    "pycharm": {
     "name": "#%%\n",
     "is_executing": true
    }
   }
  },
  {
   "cell_type": "markdown",
   "source": [
    "lets change network a little bit and try again."
   ],
   "metadata": {
    "collapsed": false,
    "pycharm": {
     "name": "#%% md\n",
     "is_executing": false
    }
   }
  },
  {
   "cell_type": "code",
   "execution_count": null,
   "outputs": [],
   "source": [
    "model = Sequential()\n",
    "model.add(Conv2D(256, (3, 3), input_shape=X.shape[1:]))\n",
    "model.add(Activation('relu'))\n",
    "model.add(MaxPooling2D(pool_size=(2, 2)))\n",
    "\n",
    "model.add(Conv2D(256, (3, 3)))\n",
    "model.add(Activation('relu'))\n",
    "model.add(MaxPooling2D(pool_size=(2, 2)))\n",
    "\n",
    "model.add(Flatten())  # this converts our 3D feature maps to 1D feature vectors\n",
    "\n",
    "#model.add(Dense(64))\n",
    "\n",
    "model.add(Dense(1))\n",
    "model.add(Activation('sigmoid'))\n",
    "\n",
    "NAME = f\"Cats-vs-dogs-CNN-NODENSE64-{int(time.time())}\"\n",
    "# callback function\n",
    "tensorboard = tf.keras.callbacks.TensorBoard(log_dir=f\"logs\\{NAME}\")\n",
    "\n",
    "model.compile(loss='binary_crossentropy',\n",
    "              optimizer='adam',\n",
    "              metrics=['accuracy'])\n",
    "\n",
    "# just add callback function\n",
    "# to see how our model is evolving while epochs increase\n",
    "model.fit(X, y,\n",
    "          batch_size=32,\n",
    "          epochs=20,\n",
    "          validation_split=0.3,\n",
    "          callbacks=[tensorboard])\n",
    "# very bad results after 5th epoch"
   ],
   "metadata": {
    "collapsed": false,
    "pycharm": {
     "name": "#%% \n",
     "is_executing": true
    }
   }
  }
 ],
 "metadata": {
  "kernelspec": {
   "name": "python3",
   "language": "python",
   "display_name": "Python 3"
  },
  "language_info": {
   "codemirror_mode": {
    "name": "ipython",
    "version": 3
   },
   "file_extension": ".py",
   "mimetype": "text/x-python",
   "name": "python",
   "nbconvert_exporter": "python",
   "pygments_lexer": "ipython3",
   "version": "3.7.3"
  },
  "pycharm": {
   "stem_cell": {
    "cell_type": "raw",
    "source": [],
    "metadata": {
     "collapsed": false
    }
   }
  },
  "toc": {
   "base_numbering": 1,
   "nav_menu": {},
   "number_sections": true,
   "sideBar": true,
   "skip_h1_title": false,
   "title_cell": "Table of Contents",
   "title_sidebar": "Contents",
   "toc_cell": false,
   "toc_position": {},
   "toc_section_display": true,
   "toc_window_display": false
  },
  "varInspector": {
   "cols": {
    "lenName": 16,
    "lenType": 16,
    "lenVar": 40
   },
   "kernels_config": {
    "python": {
     "delete_cmd_postfix": "",
     "delete_cmd_prefix": "del ",
     "library": "var_list.py",
     "varRefreshCmd": "print(var_dic_list())"
    },
    "r": {
     "delete_cmd_postfix": ") ",
     "delete_cmd_prefix": "rm(",
     "library": "var_list.r",
     "varRefreshCmd": "cat(var_dic_list()) "
    }
   },
   "position": {
    "height": "144px",
    "left": "1551px",
    "right": "20px",
    "top": "119px",
    "width": "350px"
   },
   "types_to_exclude": [
    "module",
    "function",
    "builtin_function_or_method",
    "instance",
    "_Feature"
   ],
   "window_display": false
  }
 },
 "nbformat": 4,
 "nbformat_minor": 1
}